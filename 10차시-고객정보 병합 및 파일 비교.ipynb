{
 "cells": [
  {
   "cell_type": "markdown",
   "metadata": {
    "collapsed": true
   },
   "source": [
    "# 10차시 : 고객정보 병합 및 파일 비교"
   ]
  },
  {
   "cell_type": "markdown",
   "metadata": {},
   "source": [
    "---"
   ]
  },
  {
   "cell_type": "markdown",
   "metadata": {},
   "source": [
    "## 1. 고객정보 병합"
   ]
  },
  {
   "cell_type": "markdown",
   "metadata": {},
   "source": [
    "#### 고객기본정보.xlsx 파일과 고객부가정보.xlsx 파일을 고객번호 기준으로 병합"
   ]
  },
  {
   "cell_type": "markdown",
   "metadata": {},
   "source": [
    "- 두 데이터프레임을 Key 컬럼값을 기준으로 병합\n",
    "- 중복된 Key 값이 있으면 이상 데이터들이 생성되므로 중복제거\n",
    "- 두 데이터프레임의 Key 컬럼명은 서로 동일"
   ]
  },
  {
   "cell_type": "markdown",
   "metadata": {},
   "source": [
    "### 1.1 중복 고객정보 제거"
   ]
  },
  {
   "cell_type": "code",
   "execution_count": 1,
   "metadata": {
    "collapsed": true
   },
   "outputs": [],
   "source": [
    "import pandas as pd"
   ]
  },
  {
   "cell_type": "code",
   "execution_count": 2,
   "metadata": {
    "collapsed": true
   },
   "outputs": [],
   "source": [
    "고객기본정보 = pd.read_excel('../데이터/고객기본정보.xlsx')"
   ]
  },
  {
   "cell_type": "code",
   "execution_count": 3,
   "metadata": {},
   "outputs": [
    {
     "data": {
      "text/html": [
       "<div>\n",
       "<style>\n",
       "    .dataframe thead tr:only-child th {\n",
       "        text-align: right;\n",
       "    }\n",
       "\n",
       "    .dataframe thead th {\n",
       "        text-align: left;\n",
       "    }\n",
       "\n",
       "    .dataframe tbody tr th {\n",
       "        vertical-align: top;\n",
       "    }\n",
       "</style>\n",
       "<table border=\"1\" class=\"dataframe\">\n",
       "  <thead>\n",
       "    <tr style=\"text-align: right;\">\n",
       "      <th></th>\n",
       "      <th>고객번호</th>\n",
       "      <th>성명</th>\n",
       "      <th>영문명</th>\n",
       "      <th>전화번호</th>\n",
       "      <th>메일주소</th>\n",
       "      <th>주소</th>\n",
       "    </tr>\n",
       "  </thead>\n",
       "  <tbody>\n",
       "    <tr>\n",
       "      <th>0</th>\n",
       "      <td>C001</td>\n",
       "      <td>제우스</td>\n",
       "      <td>Zeus</td>\n",
       "      <td>010-1111-2222</td>\n",
       "      <td>zeus@abc.com</td>\n",
       "      <td>서울시 강서구 화곡동 22-5</td>\n",
       "    </tr>\n",
       "    <tr>\n",
       "      <th>1</th>\n",
       "      <td>C002</td>\n",
       "      <td>헤라</td>\n",
       "      <td>Hera</td>\n",
       "      <td>010-2222-3333</td>\n",
       "      <td>hera@bcd.com</td>\n",
       "      <td>서울시 강남구 역삼동 13-4</td>\n",
       "    </tr>\n",
       "    <tr>\n",
       "      <th>2</th>\n",
       "      <td>C003</td>\n",
       "      <td>데메테르</td>\n",
       "      <td>Demeter</td>\n",
       "      <td>010-3333-4444</td>\n",
       "      <td>demeter@def.cc.com</td>\n",
       "      <td>서울시 송파구 잠실동 15-5</td>\n",
       "    </tr>\n",
       "    <tr>\n",
       "      <th>3</th>\n",
       "      <td>C004</td>\n",
       "      <td>디오니소스</td>\n",
       "      <td>Dionysos</td>\n",
       "      <td>010-4444-5555</td>\n",
       "      <td>dionysos@efg.com</td>\n",
       "      <td>서울시 성북구 성북동 22-1</td>\n",
       "    </tr>\n",
       "    <tr>\n",
       "      <th>4</th>\n",
       "      <td>C005</td>\n",
       "      <td>아레스</td>\n",
       "      <td>Ares</td>\n",
       "      <td>010-5555-6666</td>\n",
       "      <td>ares@fgh.com</td>\n",
       "      <td>서울시 강동구 상일동 10-3</td>\n",
       "    </tr>\n",
       "  </tbody>\n",
       "</table>\n",
       "</div>"
      ],
      "text/plain": [
       "   고객번호     성명       영문명           전화번호                메일주소                주소\n",
       "0  C001    제우스      Zeus  010-1111-2222        zeus@abc.com  서울시 강서구 화곡동 22-5\n",
       "1  C002     헤라      Hera  010-2222-3333        hera@bcd.com  서울시 강남구 역삼동 13-4\n",
       "2  C003   데메테르   Demeter  010-3333-4444  demeter@def.cc.com  서울시 송파구 잠실동 15-5\n",
       "3  C004  디오니소스  Dionysos  010-4444-5555    dionysos@efg.com  서울시 성북구 성북동 22-1\n",
       "4  C005    아레스      Ares  010-5555-6666        ares@fgh.com  서울시 강동구 상일동 10-3"
      ]
     },
     "execution_count": 3,
     "metadata": {},
     "output_type": "execute_result"
    }
   ],
   "source": [
    "고객기본정보[:5]"
   ]
  },
  {
   "cell_type": "markdown",
   "metadata": {},
   "source": [
    "#### len함수를 이용하여 데이터프레임 행수 확인"
   ]
  },
  {
   "cell_type": "code",
   "execution_count": 4,
   "metadata": {},
   "outputs": [
    {
     "data": {
      "text/plain": [
       "14"
      ]
     },
     "execution_count": 4,
     "metadata": {},
     "output_type": "execute_result"
    }
   ],
   "source": [
    "len(고객기본정보)"
   ]
  },
  {
   "cell_type": "markdown",
   "metadata": {},
   "source": [
    "#### unique함수를 이용하여 고객번호 컬럼의 유일한 값 목록 확인"
   ]
  },
  {
   "cell_type": "code",
   "execution_count": 5,
   "metadata": {},
   "outputs": [
    {
     "data": {
      "text/plain": [
       "array(['C001', 'C002', 'C003', 'C004', 'C005', 'C006', 'C007', 'C008',\n",
       "       'C009', 'C010', 'C011', 'C012'], dtype=object)"
      ]
     },
     "execution_count": 5,
     "metadata": {},
     "output_type": "execute_result"
    }
   ],
   "source": [
    "pd.unique(고객기본정보.고객번호)"
   ]
  },
  {
   "cell_type": "markdown",
   "metadata": {},
   "source": [
    "#### len함수를 이용하여 고객번호 컬럼의 유일한 값의 갯수 확인"
   ]
  },
  {
   "cell_type": "code",
   "execution_count": 6,
   "metadata": {},
   "outputs": [
    {
     "data": {
      "text/plain": [
       "12"
      ]
     },
     "execution_count": 6,
     "metadata": {},
     "output_type": "execute_result"
    }
   ],
   "source": [
    "len(pd.unique(고객기본정보.고객번호))"
   ]
  },
  {
   "cell_type": "markdown",
   "metadata": {},
   "source": [
    "#### duplicated 함수를 이용하여 중복 고객정보 확인"
   ]
  },
  {
   "cell_type": "markdown",
   "metadata": {},
   "source": [
    "- 데이터프레임내 Key 컬럼을 기준으로 중복된 값 확인\n",
    "- duplicated 함수 사용\n",
    "- 데이터프레임명.duplicated('Key컬럼명', keep='first 혹은 last') 형태로 사용\n",
    "- first : 처음의 값을 제외하고 그 이후 값들이 중복임\n",
    "- last : 마지막 값을 제외하고 그 이후 값들이 중복임\n",
    "- 중복을 제외하기 위해 부정연산자인 ~ 사용"
   ]
  },
  {
   "cell_type": "code",
   "execution_count": 7,
   "metadata": {},
   "outputs": [
    {
     "data": {
      "text/html": [
       "<div>\n",
       "<style>\n",
       "    .dataframe thead tr:only-child th {\n",
       "        text-align: right;\n",
       "    }\n",
       "\n",
       "    .dataframe thead th {\n",
       "        text-align: left;\n",
       "    }\n",
       "\n",
       "    .dataframe tbody tr th {\n",
       "        vertical-align: top;\n",
       "    }\n",
       "</style>\n",
       "<table border=\"1\" class=\"dataframe\">\n",
       "  <thead>\n",
       "    <tr style=\"text-align: right;\">\n",
       "      <th></th>\n",
       "      <th>고객번호</th>\n",
       "      <th>성명</th>\n",
       "      <th>영문명</th>\n",
       "      <th>전화번호</th>\n",
       "      <th>메일주소</th>\n",
       "      <th>주소</th>\n",
       "    </tr>\n",
       "  </thead>\n",
       "  <tbody>\n",
       "    <tr>\n",
       "      <th>0</th>\n",
       "      <td>C001</td>\n",
       "      <td>제우스</td>\n",
       "      <td>Zeus</td>\n",
       "      <td>010-1111-2222</td>\n",
       "      <td>zeus@abc.com</td>\n",
       "      <td>서울시 강서구 화곡동 22-5</td>\n",
       "    </tr>\n",
       "    <tr>\n",
       "      <th>6</th>\n",
       "      <td>C007</td>\n",
       "      <td>아테나</td>\n",
       "      <td>Athena</td>\n",
       "      <td>010-7777-8888</td>\n",
       "      <td>athena@hij.com</td>\n",
       "      <td>인천시 동구 만석동 32-1</td>\n",
       "    </tr>\n",
       "    <tr>\n",
       "      <th>12</th>\n",
       "      <td>C001</td>\n",
       "      <td>제우스</td>\n",
       "      <td>Zeus</td>\n",
       "      <td>010-1111-2222</td>\n",
       "      <td>zeus@abc.com</td>\n",
       "      <td>서울시 양천구 목동 12-3</td>\n",
       "    </tr>\n",
       "    <tr>\n",
       "      <th>13</th>\n",
       "      <td>C007</td>\n",
       "      <td>아테나</td>\n",
       "      <td>Athena</td>\n",
       "      <td>010-7777-8888</td>\n",
       "      <td>athena@hij.com</td>\n",
       "      <td>인천시 남구 도화동 36-9</td>\n",
       "    </tr>\n",
       "  </tbody>\n",
       "</table>\n",
       "</div>"
      ],
      "text/plain": [
       "    고객번호   성명     영문명           전화번호            메일주소                주소\n",
       "0   C001  제우스    Zeus  010-1111-2222    zeus@abc.com  서울시 강서구 화곡동 22-5\n",
       "6   C007  아테나  Athena  010-7777-8888  athena@hij.com   인천시 동구 만석동 32-1\n",
       "12  C001  제우스    Zeus  010-1111-2222    zeus@abc.com   서울시 양천구 목동 12-3\n",
       "13  C007  아테나  Athena  010-7777-8888  athena@hij.com   인천시 남구 도화동 36-9"
      ]
     },
     "execution_count": 7,
     "metadata": {},
     "output_type": "execute_result"
    }
   ],
   "source": [
    "고객기본정보[(고객기본정보.고객번호=='C001') | (고객기본정보.고객번호=='C007')]"
   ]
  },
  {
   "cell_type": "code",
   "execution_count": 8,
   "metadata": {},
   "outputs": [
    {
     "data": {
      "text/html": [
       "<div>\n",
       "<style>\n",
       "    .dataframe thead tr:only-child th {\n",
       "        text-align: right;\n",
       "    }\n",
       "\n",
       "    .dataframe thead th {\n",
       "        text-align: left;\n",
       "    }\n",
       "\n",
       "    .dataframe tbody tr th {\n",
       "        vertical-align: top;\n",
       "    }\n",
       "</style>\n",
       "<table border=\"1\" class=\"dataframe\">\n",
       "  <thead>\n",
       "    <tr style=\"text-align: right;\">\n",
       "      <th></th>\n",
       "      <th>고객번호</th>\n",
       "      <th>성명</th>\n",
       "      <th>영문명</th>\n",
       "      <th>전화번호</th>\n",
       "      <th>메일주소</th>\n",
       "      <th>주소</th>\n",
       "    </tr>\n",
       "  </thead>\n",
       "  <tbody>\n",
       "    <tr>\n",
       "      <th>0</th>\n",
       "      <td>C001</td>\n",
       "      <td>제우스</td>\n",
       "      <td>Zeus</td>\n",
       "      <td>010-1111-2222</td>\n",
       "      <td>zeus@abc.com</td>\n",
       "      <td>서울시 강서구 화곡동 22-5</td>\n",
       "    </tr>\n",
       "    <tr>\n",
       "      <th>6</th>\n",
       "      <td>C007</td>\n",
       "      <td>아테나</td>\n",
       "      <td>Athena</td>\n",
       "      <td>010-7777-8888</td>\n",
       "      <td>athena@hij.com</td>\n",
       "      <td>인천시 동구 만석동 32-1</td>\n",
       "    </tr>\n",
       "  </tbody>\n",
       "</table>\n",
       "</div>"
      ],
      "text/plain": [
       "   고객번호   성명     영문명           전화번호            메일주소                주소\n",
       "0  C001  제우스    Zeus  010-1111-2222    zeus@abc.com  서울시 강서구 화곡동 22-5\n",
       "6  C007  아테나  Athena  010-7777-8888  athena@hij.com   인천시 동구 만석동 32-1"
      ]
     },
     "execution_count": 8,
     "metadata": {},
     "output_type": "execute_result"
    }
   ],
   "source": [
    "고객기본정보[고객기본정보.duplicated('고객번호', keep='last')]"
   ]
  },
  {
   "cell_type": "markdown",
   "metadata": {},
   "source": [
    "#### 중복을 제외하고 중복되지 않은 값들만 저장"
   ]
  },
  {
   "cell_type": "code",
   "execution_count": 9,
   "metadata": {},
   "outputs": [
    {
     "data": {
      "text/html": [
       "<div>\n",
       "<style>\n",
       "    .dataframe thead tr:only-child th {\n",
       "        text-align: right;\n",
       "    }\n",
       "\n",
       "    .dataframe thead th {\n",
       "        text-align: left;\n",
       "    }\n",
       "\n",
       "    .dataframe tbody tr th {\n",
       "        vertical-align: top;\n",
       "    }\n",
       "</style>\n",
       "<table border=\"1\" class=\"dataframe\">\n",
       "  <thead>\n",
       "    <tr style=\"text-align: right;\">\n",
       "      <th></th>\n",
       "      <th>고객번호</th>\n",
       "      <th>성명</th>\n",
       "      <th>영문명</th>\n",
       "      <th>전화번호</th>\n",
       "      <th>메일주소</th>\n",
       "      <th>주소</th>\n",
       "    </tr>\n",
       "  </thead>\n",
       "  <tbody>\n",
       "    <tr>\n",
       "      <th>1</th>\n",
       "      <td>C002</td>\n",
       "      <td>헤라</td>\n",
       "      <td>Hera</td>\n",
       "      <td>010-2222-3333</td>\n",
       "      <td>hera@bcd.com</td>\n",
       "      <td>서울시 강남구 역삼동 13-4</td>\n",
       "    </tr>\n",
       "    <tr>\n",
       "      <th>2</th>\n",
       "      <td>C003</td>\n",
       "      <td>데메테르</td>\n",
       "      <td>Demeter</td>\n",
       "      <td>010-3333-4444</td>\n",
       "      <td>demeter@def.cc.com</td>\n",
       "      <td>서울시 송파구 잠실동 15-5</td>\n",
       "    </tr>\n",
       "    <tr>\n",
       "      <th>3</th>\n",
       "      <td>C004</td>\n",
       "      <td>디오니소스</td>\n",
       "      <td>Dionysos</td>\n",
       "      <td>010-4444-5555</td>\n",
       "      <td>dionysos@efg.com</td>\n",
       "      <td>서울시 성북구 성북동 22-1</td>\n",
       "    </tr>\n",
       "    <tr>\n",
       "      <th>4</th>\n",
       "      <td>C005</td>\n",
       "      <td>아레스</td>\n",
       "      <td>Ares</td>\n",
       "      <td>010-5555-6666</td>\n",
       "      <td>ares@fgh.com</td>\n",
       "      <td>서울시 강동구 상일동 10-3</td>\n",
       "    </tr>\n",
       "    <tr>\n",
       "      <th>5</th>\n",
       "      <td>C006</td>\n",
       "      <td>아르테미스</td>\n",
       "      <td>Artemis</td>\n",
       "      <td>010-6666-7777</td>\n",
       "      <td>artemis@ghi.com</td>\n",
       "      <td>서울시 강서구 방화동 29-7</td>\n",
       "    </tr>\n",
       "    <tr>\n",
       "      <th>7</th>\n",
       "      <td>C008</td>\n",
       "      <td>아폴론</td>\n",
       "      <td>Apollon</td>\n",
       "      <td>010-8888-9999</td>\n",
       "      <td>apollon@ijk.com</td>\n",
       "      <td>대전시 중구 은행동 34-5</td>\n",
       "    </tr>\n",
       "    <tr>\n",
       "      <th>8</th>\n",
       "      <td>C009</td>\n",
       "      <td>아프로디테</td>\n",
       "      <td>Aphrodite</td>\n",
       "      <td>010-9999-1010</td>\n",
       "      <td>aphrodite@jkl.com</td>\n",
       "      <td>부산시 부산진구 양정동 59-7</td>\n",
       "    </tr>\n",
       "    <tr>\n",
       "      <th>9</th>\n",
       "      <td>C010</td>\n",
       "      <td>포세이돈</td>\n",
       "      <td>Poseidon</td>\n",
       "      <td>010-1010-2020</td>\n",
       "      <td>poseidon@klm.com</td>\n",
       "      <td>대구시 수성구 범어동 78-2</td>\n",
       "    </tr>\n",
       "    <tr>\n",
       "      <th>10</th>\n",
       "      <td>C011</td>\n",
       "      <td>헤르메스</td>\n",
       "      <td>Hermes</td>\n",
       "      <td>010-2020-3030</td>\n",
       "      <td>hermes@lmn.com</td>\n",
       "      <td>광주시 남구 월산동 23-5</td>\n",
       "    </tr>\n",
       "    <tr>\n",
       "      <th>11</th>\n",
       "      <td>C012</td>\n",
       "      <td>헤파이스토스</td>\n",
       "      <td>Hephaistos</td>\n",
       "      <td>010-3030-4040</td>\n",
       "      <td>hephaistos@mno.com</td>\n",
       "      <td>제주시 용강동 11-1</td>\n",
       "    </tr>\n",
       "    <tr>\n",
       "      <th>12</th>\n",
       "      <td>C001</td>\n",
       "      <td>제우스</td>\n",
       "      <td>Zeus</td>\n",
       "      <td>010-1111-2222</td>\n",
       "      <td>zeus@abc.com</td>\n",
       "      <td>서울시 양천구 목동 12-3</td>\n",
       "    </tr>\n",
       "    <tr>\n",
       "      <th>13</th>\n",
       "      <td>C007</td>\n",
       "      <td>아테나</td>\n",
       "      <td>Athena</td>\n",
       "      <td>010-7777-8888</td>\n",
       "      <td>athena@hij.com</td>\n",
       "      <td>인천시 남구 도화동 36-9</td>\n",
       "    </tr>\n",
       "  </tbody>\n",
       "</table>\n",
       "</div>"
      ],
      "text/plain": [
       "    고객번호      성명         영문명           전화번호                메일주소  \\\n",
       "1   C002      헤라        Hera  010-2222-3333        hera@bcd.com   \n",
       "2   C003    데메테르     Demeter  010-3333-4444  demeter@def.cc.com   \n",
       "3   C004   디오니소스    Dionysos  010-4444-5555    dionysos@efg.com   \n",
       "4   C005     아레스        Ares  010-5555-6666        ares@fgh.com   \n",
       "5   C006   아르테미스     Artemis  010-6666-7777     artemis@ghi.com   \n",
       "7   C008     아폴론     Apollon  010-8888-9999     apollon@ijk.com   \n",
       "8   C009   아프로디테   Aphrodite  010-9999-1010   aphrodite@jkl.com   \n",
       "9   C010    포세이돈    Poseidon  010-1010-2020    poseidon@klm.com   \n",
       "10  C011    헤르메스      Hermes  010-2020-3030      hermes@lmn.com   \n",
       "11  C012  헤파이스토스  Hephaistos  010-3030-4040  hephaistos@mno.com   \n",
       "12  C001     제우스        Zeus  010-1111-2222        zeus@abc.com   \n",
       "13  C007     아테나      Athena  010-7777-8888      athena@hij.com   \n",
       "\n",
       "                   주소  \n",
       "1    서울시 강남구 역삼동 13-4  \n",
       "2    서울시 송파구 잠실동 15-5  \n",
       "3    서울시 성북구 성북동 22-1  \n",
       "4    서울시 강동구 상일동 10-3  \n",
       "5    서울시 강서구 방화동 29-7  \n",
       "7     대전시 중구 은행동 34-5  \n",
       "8   부산시 부산진구 양정동 59-7  \n",
       "9    대구시 수성구 범어동 78-2  \n",
       "10    광주시 남구 월산동 23-5  \n",
       "11       제주시 용강동 11-1  \n",
       "12    서울시 양천구 목동 12-3  \n",
       "13    인천시 남구 도화동 36-9  "
      ]
     },
     "execution_count": 9,
     "metadata": {},
     "output_type": "execute_result"
    }
   ],
   "source": [
    "고객기본정보[~고객기본정보.duplicated('고객번호', keep='last')]"
   ]
  },
  {
   "cell_type": "code",
   "execution_count": 10,
   "metadata": {
    "collapsed": true
   },
   "outputs": [],
   "source": [
    "중복제거고객기본정보 = 고객기본정보[~고객기본정보.duplicated('고객번호', keep='last')]"
   ]
  },
  {
   "cell_type": "code",
   "execution_count": 11,
   "metadata": {},
   "outputs": [
    {
     "data": {
      "text/html": [
       "<div>\n",
       "<style>\n",
       "    .dataframe thead tr:only-child th {\n",
       "        text-align: right;\n",
       "    }\n",
       "\n",
       "    .dataframe thead th {\n",
       "        text-align: left;\n",
       "    }\n",
       "\n",
       "    .dataframe tbody tr th {\n",
       "        vertical-align: top;\n",
       "    }\n",
       "</style>\n",
       "<table border=\"1\" class=\"dataframe\">\n",
       "  <thead>\n",
       "    <tr style=\"text-align: right;\">\n",
       "      <th></th>\n",
       "      <th>고객번호</th>\n",
       "      <th>성명</th>\n",
       "      <th>영문명</th>\n",
       "      <th>전화번호</th>\n",
       "      <th>메일주소</th>\n",
       "      <th>주소</th>\n",
       "    </tr>\n",
       "  </thead>\n",
       "  <tbody>\n",
       "    <tr>\n",
       "      <th>1</th>\n",
       "      <td>C002</td>\n",
       "      <td>헤라</td>\n",
       "      <td>Hera</td>\n",
       "      <td>010-2222-3333</td>\n",
       "      <td>hera@bcd.com</td>\n",
       "      <td>서울시 강남구 역삼동 13-4</td>\n",
       "    </tr>\n",
       "    <tr>\n",
       "      <th>2</th>\n",
       "      <td>C003</td>\n",
       "      <td>데메테르</td>\n",
       "      <td>Demeter</td>\n",
       "      <td>010-3333-4444</td>\n",
       "      <td>demeter@def.cc.com</td>\n",
       "      <td>서울시 송파구 잠실동 15-5</td>\n",
       "    </tr>\n",
       "    <tr>\n",
       "      <th>3</th>\n",
       "      <td>C004</td>\n",
       "      <td>디오니소스</td>\n",
       "      <td>Dionysos</td>\n",
       "      <td>010-4444-5555</td>\n",
       "      <td>dionysos@efg.com</td>\n",
       "      <td>서울시 성북구 성북동 22-1</td>\n",
       "    </tr>\n",
       "    <tr>\n",
       "      <th>4</th>\n",
       "      <td>C005</td>\n",
       "      <td>아레스</td>\n",
       "      <td>Ares</td>\n",
       "      <td>010-5555-6666</td>\n",
       "      <td>ares@fgh.com</td>\n",
       "      <td>서울시 강동구 상일동 10-3</td>\n",
       "    </tr>\n",
       "    <tr>\n",
       "      <th>5</th>\n",
       "      <td>C006</td>\n",
       "      <td>아르테미스</td>\n",
       "      <td>Artemis</td>\n",
       "      <td>010-6666-7777</td>\n",
       "      <td>artemis@ghi.com</td>\n",
       "      <td>서울시 강서구 방화동 29-7</td>\n",
       "    </tr>\n",
       "    <tr>\n",
       "      <th>7</th>\n",
       "      <td>C008</td>\n",
       "      <td>아폴론</td>\n",
       "      <td>Apollon</td>\n",
       "      <td>010-8888-9999</td>\n",
       "      <td>apollon@ijk.com</td>\n",
       "      <td>대전시 중구 은행동 34-5</td>\n",
       "    </tr>\n",
       "    <tr>\n",
       "      <th>8</th>\n",
       "      <td>C009</td>\n",
       "      <td>아프로디테</td>\n",
       "      <td>Aphrodite</td>\n",
       "      <td>010-9999-1010</td>\n",
       "      <td>aphrodite@jkl.com</td>\n",
       "      <td>부산시 부산진구 양정동 59-7</td>\n",
       "    </tr>\n",
       "    <tr>\n",
       "      <th>9</th>\n",
       "      <td>C010</td>\n",
       "      <td>포세이돈</td>\n",
       "      <td>Poseidon</td>\n",
       "      <td>010-1010-2020</td>\n",
       "      <td>poseidon@klm.com</td>\n",
       "      <td>대구시 수성구 범어동 78-2</td>\n",
       "    </tr>\n",
       "    <tr>\n",
       "      <th>10</th>\n",
       "      <td>C011</td>\n",
       "      <td>헤르메스</td>\n",
       "      <td>Hermes</td>\n",
       "      <td>010-2020-3030</td>\n",
       "      <td>hermes@lmn.com</td>\n",
       "      <td>광주시 남구 월산동 23-5</td>\n",
       "    </tr>\n",
       "    <tr>\n",
       "      <th>11</th>\n",
       "      <td>C012</td>\n",
       "      <td>헤파이스토스</td>\n",
       "      <td>Hephaistos</td>\n",
       "      <td>010-3030-4040</td>\n",
       "      <td>hephaistos@mno.com</td>\n",
       "      <td>제주시 용강동 11-1</td>\n",
       "    </tr>\n",
       "    <tr>\n",
       "      <th>12</th>\n",
       "      <td>C001</td>\n",
       "      <td>제우스</td>\n",
       "      <td>Zeus</td>\n",
       "      <td>010-1111-2222</td>\n",
       "      <td>zeus@abc.com</td>\n",
       "      <td>서울시 양천구 목동 12-3</td>\n",
       "    </tr>\n",
       "    <tr>\n",
       "      <th>13</th>\n",
       "      <td>C007</td>\n",
       "      <td>아테나</td>\n",
       "      <td>Athena</td>\n",
       "      <td>010-7777-8888</td>\n",
       "      <td>athena@hij.com</td>\n",
       "      <td>인천시 남구 도화동 36-9</td>\n",
       "    </tr>\n",
       "  </tbody>\n",
       "</table>\n",
       "</div>"
      ],
      "text/plain": [
       "    고객번호      성명         영문명           전화번호                메일주소  \\\n",
       "1   C002      헤라        Hera  010-2222-3333        hera@bcd.com   \n",
       "2   C003    데메테르     Demeter  010-3333-4444  demeter@def.cc.com   \n",
       "3   C004   디오니소스    Dionysos  010-4444-5555    dionysos@efg.com   \n",
       "4   C005     아레스        Ares  010-5555-6666        ares@fgh.com   \n",
       "5   C006   아르테미스     Artemis  010-6666-7777     artemis@ghi.com   \n",
       "7   C008     아폴론     Apollon  010-8888-9999     apollon@ijk.com   \n",
       "8   C009   아프로디테   Aphrodite  010-9999-1010   aphrodite@jkl.com   \n",
       "9   C010    포세이돈    Poseidon  010-1010-2020    poseidon@klm.com   \n",
       "10  C011    헤르메스      Hermes  010-2020-3030      hermes@lmn.com   \n",
       "11  C012  헤파이스토스  Hephaistos  010-3030-4040  hephaistos@mno.com   \n",
       "12  C001     제우스        Zeus  010-1111-2222        zeus@abc.com   \n",
       "13  C007     아테나      Athena  010-7777-8888      athena@hij.com   \n",
       "\n",
       "                   주소  \n",
       "1    서울시 강남구 역삼동 13-4  \n",
       "2    서울시 송파구 잠실동 15-5  \n",
       "3    서울시 성북구 성북동 22-1  \n",
       "4    서울시 강동구 상일동 10-3  \n",
       "5    서울시 강서구 방화동 29-7  \n",
       "7     대전시 중구 은행동 34-5  \n",
       "8   부산시 부산진구 양정동 59-7  \n",
       "9    대구시 수성구 범어동 78-2  \n",
       "10    광주시 남구 월산동 23-5  \n",
       "11       제주시 용강동 11-1  \n",
       "12    서울시 양천구 목동 12-3  \n",
       "13    인천시 남구 도화동 36-9  "
      ]
     },
     "execution_count": 11,
     "metadata": {},
     "output_type": "execute_result"
    }
   ],
   "source": [
    "중복제거고객기본정보"
   ]
  },
  {
   "cell_type": "markdown",
   "metadata": {},
   "source": [
    "#### 인덱스 재생성"
   ]
  },
  {
   "cell_type": "code",
   "execution_count": 12,
   "metadata": {
    "collapsed": true
   },
   "outputs": [],
   "source": [
    "중복제거고객기본정보 = 중복제거고객기본정보.reset_index(drop = True)"
   ]
  },
  {
   "cell_type": "code",
   "execution_count": 13,
   "metadata": {},
   "outputs": [
    {
     "data": {
      "text/html": [
       "<div>\n",
       "<style>\n",
       "    .dataframe thead tr:only-child th {\n",
       "        text-align: right;\n",
       "    }\n",
       "\n",
       "    .dataframe thead th {\n",
       "        text-align: left;\n",
       "    }\n",
       "\n",
       "    .dataframe tbody tr th {\n",
       "        vertical-align: top;\n",
       "    }\n",
       "</style>\n",
       "<table border=\"1\" class=\"dataframe\">\n",
       "  <thead>\n",
       "    <tr style=\"text-align: right;\">\n",
       "      <th></th>\n",
       "      <th>고객번호</th>\n",
       "      <th>성명</th>\n",
       "      <th>영문명</th>\n",
       "      <th>전화번호</th>\n",
       "      <th>메일주소</th>\n",
       "      <th>주소</th>\n",
       "    </tr>\n",
       "  </thead>\n",
       "  <tbody>\n",
       "    <tr>\n",
       "      <th>0</th>\n",
       "      <td>C002</td>\n",
       "      <td>헤라</td>\n",
       "      <td>Hera</td>\n",
       "      <td>010-2222-3333</td>\n",
       "      <td>hera@bcd.com</td>\n",
       "      <td>서울시 강남구 역삼동 13-4</td>\n",
       "    </tr>\n",
       "    <tr>\n",
       "      <th>1</th>\n",
       "      <td>C003</td>\n",
       "      <td>데메테르</td>\n",
       "      <td>Demeter</td>\n",
       "      <td>010-3333-4444</td>\n",
       "      <td>demeter@def.cc.com</td>\n",
       "      <td>서울시 송파구 잠실동 15-5</td>\n",
       "    </tr>\n",
       "    <tr>\n",
       "      <th>2</th>\n",
       "      <td>C004</td>\n",
       "      <td>디오니소스</td>\n",
       "      <td>Dionysos</td>\n",
       "      <td>010-4444-5555</td>\n",
       "      <td>dionysos@efg.com</td>\n",
       "      <td>서울시 성북구 성북동 22-1</td>\n",
       "    </tr>\n",
       "    <tr>\n",
       "      <th>3</th>\n",
       "      <td>C005</td>\n",
       "      <td>아레스</td>\n",
       "      <td>Ares</td>\n",
       "      <td>010-5555-6666</td>\n",
       "      <td>ares@fgh.com</td>\n",
       "      <td>서울시 강동구 상일동 10-3</td>\n",
       "    </tr>\n",
       "    <tr>\n",
       "      <th>4</th>\n",
       "      <td>C006</td>\n",
       "      <td>아르테미스</td>\n",
       "      <td>Artemis</td>\n",
       "      <td>010-6666-7777</td>\n",
       "      <td>artemis@ghi.com</td>\n",
       "      <td>서울시 강서구 방화동 29-7</td>\n",
       "    </tr>\n",
       "    <tr>\n",
       "      <th>5</th>\n",
       "      <td>C008</td>\n",
       "      <td>아폴론</td>\n",
       "      <td>Apollon</td>\n",
       "      <td>010-8888-9999</td>\n",
       "      <td>apollon@ijk.com</td>\n",
       "      <td>대전시 중구 은행동 34-5</td>\n",
       "    </tr>\n",
       "    <tr>\n",
       "      <th>6</th>\n",
       "      <td>C009</td>\n",
       "      <td>아프로디테</td>\n",
       "      <td>Aphrodite</td>\n",
       "      <td>010-9999-1010</td>\n",
       "      <td>aphrodite@jkl.com</td>\n",
       "      <td>부산시 부산진구 양정동 59-7</td>\n",
       "    </tr>\n",
       "    <tr>\n",
       "      <th>7</th>\n",
       "      <td>C010</td>\n",
       "      <td>포세이돈</td>\n",
       "      <td>Poseidon</td>\n",
       "      <td>010-1010-2020</td>\n",
       "      <td>poseidon@klm.com</td>\n",
       "      <td>대구시 수성구 범어동 78-2</td>\n",
       "    </tr>\n",
       "    <tr>\n",
       "      <th>8</th>\n",
       "      <td>C011</td>\n",
       "      <td>헤르메스</td>\n",
       "      <td>Hermes</td>\n",
       "      <td>010-2020-3030</td>\n",
       "      <td>hermes@lmn.com</td>\n",
       "      <td>광주시 남구 월산동 23-5</td>\n",
       "    </tr>\n",
       "    <tr>\n",
       "      <th>9</th>\n",
       "      <td>C012</td>\n",
       "      <td>헤파이스토스</td>\n",
       "      <td>Hephaistos</td>\n",
       "      <td>010-3030-4040</td>\n",
       "      <td>hephaistos@mno.com</td>\n",
       "      <td>제주시 용강동 11-1</td>\n",
       "    </tr>\n",
       "    <tr>\n",
       "      <th>10</th>\n",
       "      <td>C001</td>\n",
       "      <td>제우스</td>\n",
       "      <td>Zeus</td>\n",
       "      <td>010-1111-2222</td>\n",
       "      <td>zeus@abc.com</td>\n",
       "      <td>서울시 양천구 목동 12-3</td>\n",
       "    </tr>\n",
       "    <tr>\n",
       "      <th>11</th>\n",
       "      <td>C007</td>\n",
       "      <td>아테나</td>\n",
       "      <td>Athena</td>\n",
       "      <td>010-7777-8888</td>\n",
       "      <td>athena@hij.com</td>\n",
       "      <td>인천시 남구 도화동 36-9</td>\n",
       "    </tr>\n",
       "  </tbody>\n",
       "</table>\n",
       "</div>"
      ],
      "text/plain": [
       "    고객번호      성명         영문명           전화번호                메일주소  \\\n",
       "0   C002      헤라        Hera  010-2222-3333        hera@bcd.com   \n",
       "1   C003    데메테르     Demeter  010-3333-4444  demeter@def.cc.com   \n",
       "2   C004   디오니소스    Dionysos  010-4444-5555    dionysos@efg.com   \n",
       "3   C005     아레스        Ares  010-5555-6666        ares@fgh.com   \n",
       "4   C006   아르테미스     Artemis  010-6666-7777     artemis@ghi.com   \n",
       "5   C008     아폴론     Apollon  010-8888-9999     apollon@ijk.com   \n",
       "6   C009   아프로디테   Aphrodite  010-9999-1010   aphrodite@jkl.com   \n",
       "7   C010    포세이돈    Poseidon  010-1010-2020    poseidon@klm.com   \n",
       "8   C011    헤르메스      Hermes  010-2020-3030      hermes@lmn.com   \n",
       "9   C012  헤파이스토스  Hephaistos  010-3030-4040  hephaistos@mno.com   \n",
       "10  C001     제우스        Zeus  010-1111-2222        zeus@abc.com   \n",
       "11  C007     아테나      Athena  010-7777-8888      athena@hij.com   \n",
       "\n",
       "                   주소  \n",
       "0    서울시 강남구 역삼동 13-4  \n",
       "1    서울시 송파구 잠실동 15-5  \n",
       "2    서울시 성북구 성북동 22-1  \n",
       "3    서울시 강동구 상일동 10-3  \n",
       "4    서울시 강서구 방화동 29-7  \n",
       "5     대전시 중구 은행동 34-5  \n",
       "6   부산시 부산진구 양정동 59-7  \n",
       "7    대구시 수성구 범어동 78-2  \n",
       "8     광주시 남구 월산동 23-5  \n",
       "9        제주시 용강동 11-1  \n",
       "10    서울시 양천구 목동 12-3  \n",
       "11    인천시 남구 도화동 36-9  "
      ]
     },
     "execution_count": 13,
     "metadata": {},
     "output_type": "execute_result"
    }
   ],
   "source": [
    "중복제거고객기본정보"
   ]
  },
  {
   "cell_type": "code",
   "execution_count": 14,
   "metadata": {},
   "outputs": [
    {
     "data": {
      "text/html": [
       "<div>\n",
       "<style>\n",
       "    .dataframe thead tr:only-child th {\n",
       "        text-align: right;\n",
       "    }\n",
       "\n",
       "    .dataframe thead th {\n",
       "        text-align: left;\n",
       "    }\n",
       "\n",
       "    .dataframe tbody tr th {\n",
       "        vertical-align: top;\n",
       "    }\n",
       "</style>\n",
       "<table border=\"1\" class=\"dataframe\">\n",
       "  <thead>\n",
       "    <tr style=\"text-align: right;\">\n",
       "      <th></th>\n",
       "      <th>고객번호</th>\n",
       "      <th>성명</th>\n",
       "      <th>영문명</th>\n",
       "      <th>전화번호</th>\n",
       "      <th>메일주소</th>\n",
       "      <th>주소</th>\n",
       "    </tr>\n",
       "  </thead>\n",
       "  <tbody>\n",
       "    <tr>\n",
       "      <th>10</th>\n",
       "      <td>C001</td>\n",
       "      <td>제우스</td>\n",
       "      <td>Zeus</td>\n",
       "      <td>010-1111-2222</td>\n",
       "      <td>zeus@abc.com</td>\n",
       "      <td>서울시 양천구 목동 12-3</td>\n",
       "    </tr>\n",
       "    <tr>\n",
       "      <th>0</th>\n",
       "      <td>C002</td>\n",
       "      <td>헤라</td>\n",
       "      <td>Hera</td>\n",
       "      <td>010-2222-3333</td>\n",
       "      <td>hera@bcd.com</td>\n",
       "      <td>서울시 강남구 역삼동 13-4</td>\n",
       "    </tr>\n",
       "    <tr>\n",
       "      <th>1</th>\n",
       "      <td>C003</td>\n",
       "      <td>데메테르</td>\n",
       "      <td>Demeter</td>\n",
       "      <td>010-3333-4444</td>\n",
       "      <td>demeter@def.cc.com</td>\n",
       "      <td>서울시 송파구 잠실동 15-5</td>\n",
       "    </tr>\n",
       "    <tr>\n",
       "      <th>2</th>\n",
       "      <td>C004</td>\n",
       "      <td>디오니소스</td>\n",
       "      <td>Dionysos</td>\n",
       "      <td>010-4444-5555</td>\n",
       "      <td>dionysos@efg.com</td>\n",
       "      <td>서울시 성북구 성북동 22-1</td>\n",
       "    </tr>\n",
       "    <tr>\n",
       "      <th>3</th>\n",
       "      <td>C005</td>\n",
       "      <td>아레스</td>\n",
       "      <td>Ares</td>\n",
       "      <td>010-5555-6666</td>\n",
       "      <td>ares@fgh.com</td>\n",
       "      <td>서울시 강동구 상일동 10-3</td>\n",
       "    </tr>\n",
       "    <tr>\n",
       "      <th>4</th>\n",
       "      <td>C006</td>\n",
       "      <td>아르테미스</td>\n",
       "      <td>Artemis</td>\n",
       "      <td>010-6666-7777</td>\n",
       "      <td>artemis@ghi.com</td>\n",
       "      <td>서울시 강서구 방화동 29-7</td>\n",
       "    </tr>\n",
       "    <tr>\n",
       "      <th>11</th>\n",
       "      <td>C007</td>\n",
       "      <td>아테나</td>\n",
       "      <td>Athena</td>\n",
       "      <td>010-7777-8888</td>\n",
       "      <td>athena@hij.com</td>\n",
       "      <td>인천시 남구 도화동 36-9</td>\n",
       "    </tr>\n",
       "    <tr>\n",
       "      <th>5</th>\n",
       "      <td>C008</td>\n",
       "      <td>아폴론</td>\n",
       "      <td>Apollon</td>\n",
       "      <td>010-8888-9999</td>\n",
       "      <td>apollon@ijk.com</td>\n",
       "      <td>대전시 중구 은행동 34-5</td>\n",
       "    </tr>\n",
       "    <tr>\n",
       "      <th>6</th>\n",
       "      <td>C009</td>\n",
       "      <td>아프로디테</td>\n",
       "      <td>Aphrodite</td>\n",
       "      <td>010-9999-1010</td>\n",
       "      <td>aphrodite@jkl.com</td>\n",
       "      <td>부산시 부산진구 양정동 59-7</td>\n",
       "    </tr>\n",
       "    <tr>\n",
       "      <th>7</th>\n",
       "      <td>C010</td>\n",
       "      <td>포세이돈</td>\n",
       "      <td>Poseidon</td>\n",
       "      <td>010-1010-2020</td>\n",
       "      <td>poseidon@klm.com</td>\n",
       "      <td>대구시 수성구 범어동 78-2</td>\n",
       "    </tr>\n",
       "    <tr>\n",
       "      <th>8</th>\n",
       "      <td>C011</td>\n",
       "      <td>헤르메스</td>\n",
       "      <td>Hermes</td>\n",
       "      <td>010-2020-3030</td>\n",
       "      <td>hermes@lmn.com</td>\n",
       "      <td>광주시 남구 월산동 23-5</td>\n",
       "    </tr>\n",
       "    <tr>\n",
       "      <th>9</th>\n",
       "      <td>C012</td>\n",
       "      <td>헤파이스토스</td>\n",
       "      <td>Hephaistos</td>\n",
       "      <td>010-3030-4040</td>\n",
       "      <td>hephaistos@mno.com</td>\n",
       "      <td>제주시 용강동 11-1</td>\n",
       "    </tr>\n",
       "  </tbody>\n",
       "</table>\n",
       "</div>"
      ],
      "text/plain": [
       "    고객번호      성명         영문명           전화번호                메일주소  \\\n",
       "10  C001     제우스        Zeus  010-1111-2222        zeus@abc.com   \n",
       "0   C002      헤라        Hera  010-2222-3333        hera@bcd.com   \n",
       "1   C003    데메테르     Demeter  010-3333-4444  demeter@def.cc.com   \n",
       "2   C004   디오니소스    Dionysos  010-4444-5555    dionysos@efg.com   \n",
       "3   C005     아레스        Ares  010-5555-6666        ares@fgh.com   \n",
       "4   C006   아르테미스     Artemis  010-6666-7777     artemis@ghi.com   \n",
       "11  C007     아테나      Athena  010-7777-8888      athena@hij.com   \n",
       "5   C008     아폴론     Apollon  010-8888-9999     apollon@ijk.com   \n",
       "6   C009   아프로디테   Aphrodite  010-9999-1010   aphrodite@jkl.com   \n",
       "7   C010    포세이돈    Poseidon  010-1010-2020    poseidon@klm.com   \n",
       "8   C011    헤르메스      Hermes  010-2020-3030      hermes@lmn.com   \n",
       "9   C012  헤파이스토스  Hephaistos  010-3030-4040  hephaistos@mno.com   \n",
       "\n",
       "                   주소  \n",
       "10    서울시 양천구 목동 12-3  \n",
       "0    서울시 강남구 역삼동 13-4  \n",
       "1    서울시 송파구 잠실동 15-5  \n",
       "2    서울시 성북구 성북동 22-1  \n",
       "3    서울시 강동구 상일동 10-3  \n",
       "4    서울시 강서구 방화동 29-7  \n",
       "11    인천시 남구 도화동 36-9  \n",
       "5     대전시 중구 은행동 34-5  \n",
       "6   부산시 부산진구 양정동 59-7  \n",
       "7    대구시 수성구 범어동 78-2  \n",
       "8     광주시 남구 월산동 23-5  \n",
       "9        제주시 용강동 11-1  "
      ]
     },
     "execution_count": 14,
     "metadata": {},
     "output_type": "execute_result"
    }
   ],
   "source": [
    "중복제거고객기본정보 = 중복제거고객기본정보.sort_values('고객번호', ascending=True)\n",
    "중복제거고객기본정보"
   ]
  },
  {
   "cell_type": "markdown",
   "metadata": {},
   "source": [
    "---"
   ]
  },
  {
   "cell_type": "markdown",
   "metadata": {},
   "source": [
    "### 1.2 데이터프레임 컬럼명 변경"
   ]
  },
  {
   "cell_type": "code",
   "execution_count": 15,
   "metadata": {
    "collapsed": true
   },
   "outputs": [],
   "source": [
    "고객부가정보 = pd.read_excel('../데이터/고객부가정보.xlsx')"
   ]
  },
  {
   "cell_type": "code",
   "execution_count": 16,
   "metadata": {},
   "outputs": [
    {
     "data": {
      "text/html": [
       "<div>\n",
       "<style>\n",
       "    .dataframe thead tr:only-child th {\n",
       "        text-align: right;\n",
       "    }\n",
       "\n",
       "    .dataframe thead th {\n",
       "        text-align: left;\n",
       "    }\n",
       "\n",
       "    .dataframe tbody tr th {\n",
       "        vertical-align: top;\n",
       "    }\n",
       "</style>\n",
       "<table border=\"1\" class=\"dataframe\">\n",
       "  <thead>\n",
       "    <tr style=\"text-align: right;\">\n",
       "      <th></th>\n",
       "      <th>고객ID</th>\n",
       "      <th>생일</th>\n",
       "      <th>예금잔액</th>\n",
       "      <th>대출잔액</th>\n",
       "      <th>등록일</th>\n",
       "    </tr>\n",
       "  </thead>\n",
       "  <tbody>\n",
       "    <tr>\n",
       "      <th>0</th>\n",
       "      <td>C001</td>\n",
       "      <td>1965-02-03</td>\n",
       "      <td>1000000</td>\n",
       "      <td>10000000</td>\n",
       "      <td>2015-05-01</td>\n",
       "    </tr>\n",
       "    <tr>\n",
       "      <th>1</th>\n",
       "      <td>C002</td>\n",
       "      <td>1974-09-23</td>\n",
       "      <td>1500000</td>\n",
       "      <td>9000000</td>\n",
       "      <td>2016-08-24</td>\n",
       "    </tr>\n",
       "    <tr>\n",
       "      <th>2</th>\n",
       "      <td>C003</td>\n",
       "      <td>1978-12-20</td>\n",
       "      <td>2000000</td>\n",
       "      <td>8000000</td>\n",
       "      <td>2018-06-02</td>\n",
       "    </tr>\n",
       "  </tbody>\n",
       "</table>\n",
       "</div>"
      ],
      "text/plain": [
       "   고객ID         생일     예금잔액      대출잔액        등록일\n",
       "0  C001 1965-02-03  1000000  10000000 2015-05-01\n",
       "1  C002 1974-09-23  1500000   9000000 2016-08-24\n",
       "2  C003 1978-12-20  2000000   8000000 2018-06-02"
      ]
     },
     "execution_count": 16,
     "metadata": {},
     "output_type": "execute_result"
    }
   ],
   "source": [
    "고객부가정보[:3]"
   ]
  },
  {
   "cell_type": "markdown",
   "metadata": {},
   "source": [
    "#### 고객부가정보 Key컬럼명 변경\n",
    "- 데이터프레임명.rename(columns={'변경전컬럼명':'변경후컬럼명'}, inplace=True)\n",
    "- columns는 딕셔너리 값으로 지정되므로 여러 컬럼명을 동시에 변경 가능\n",
    "- inplace = True 는 즉시 변경되도록 하기 위해 반드시 필요"
   ]
  },
  {
   "cell_type": "code",
   "execution_count": 17,
   "metadata": {
    "collapsed": true
   },
   "outputs": [],
   "source": [
    "고객부가정보.rename(columns={'고객ID' :'고객번호'}, inplace=True)"
   ]
  },
  {
   "cell_type": "code",
   "execution_count": 18,
   "metadata": {},
   "outputs": [
    {
     "data": {
      "text/html": [
       "<div>\n",
       "<style>\n",
       "    .dataframe thead tr:only-child th {\n",
       "        text-align: right;\n",
       "    }\n",
       "\n",
       "    .dataframe thead th {\n",
       "        text-align: left;\n",
       "    }\n",
       "\n",
       "    .dataframe tbody tr th {\n",
       "        vertical-align: top;\n",
       "    }\n",
       "</style>\n",
       "<table border=\"1\" class=\"dataframe\">\n",
       "  <thead>\n",
       "    <tr style=\"text-align: right;\">\n",
       "      <th></th>\n",
       "      <th>고객번호</th>\n",
       "      <th>생일</th>\n",
       "      <th>예금잔액</th>\n",
       "      <th>대출잔액</th>\n",
       "      <th>등록일</th>\n",
       "    </tr>\n",
       "  </thead>\n",
       "  <tbody>\n",
       "    <tr>\n",
       "      <th>0</th>\n",
       "      <td>C001</td>\n",
       "      <td>1965-02-03</td>\n",
       "      <td>1000000</td>\n",
       "      <td>10000000</td>\n",
       "      <td>2015-05-01</td>\n",
       "    </tr>\n",
       "    <tr>\n",
       "      <th>1</th>\n",
       "      <td>C002</td>\n",
       "      <td>1974-09-23</td>\n",
       "      <td>1500000</td>\n",
       "      <td>9000000</td>\n",
       "      <td>2016-08-24</td>\n",
       "    </tr>\n",
       "    <tr>\n",
       "      <th>2</th>\n",
       "      <td>C003</td>\n",
       "      <td>1978-12-20</td>\n",
       "      <td>2000000</td>\n",
       "      <td>8000000</td>\n",
       "      <td>2018-06-02</td>\n",
       "    </tr>\n",
       "  </tbody>\n",
       "</table>\n",
       "</div>"
      ],
      "text/plain": [
       "   고객번호         생일     예금잔액      대출잔액        등록일\n",
       "0  C001 1965-02-03  1000000  10000000 2015-05-01\n",
       "1  C002 1974-09-23  1500000   9000000 2016-08-24\n",
       "2  C003 1978-12-20  2000000   8000000 2018-06-02"
      ]
     },
     "execution_count": 18,
     "metadata": {},
     "output_type": "execute_result"
    }
   ],
   "source": [
    "고객부가정보[:3]"
   ]
  },
  {
   "cell_type": "markdown",
   "metadata": {},
   "source": [
    "### 1.3 고객정보 병합"
   ]
  },
  {
   "cell_type": "markdown",
   "metadata": {},
   "source": [
    "- pd.merge(데이터프레임1, 데이터프레임2, on=['Key컬럼명'])\n",
    "- Key 컬럼을 기준으로 데이터들이 연결되어 새로운 데이터프레임 생성"
   ]
  },
  {
   "cell_type": "code",
   "execution_count": 19,
   "metadata": {
    "collapsed": true
   },
   "outputs": [],
   "source": [
    "고객정보병합 = pd.merge(중복제거고객기본정보, 고객부가정보, on=['고객번호'])"
   ]
  },
  {
   "cell_type": "code",
   "execution_count": 20,
   "metadata": {},
   "outputs": [
    {
     "data": {
      "text/html": [
       "<div>\n",
       "<style>\n",
       "    .dataframe thead tr:only-child th {\n",
       "        text-align: right;\n",
       "    }\n",
       "\n",
       "    .dataframe thead th {\n",
       "        text-align: left;\n",
       "    }\n",
       "\n",
       "    .dataframe tbody tr th {\n",
       "        vertical-align: top;\n",
       "    }\n",
       "</style>\n",
       "<table border=\"1\" class=\"dataframe\">\n",
       "  <thead>\n",
       "    <tr style=\"text-align: right;\">\n",
       "      <th></th>\n",
       "      <th>고객번호</th>\n",
       "      <th>성명</th>\n",
       "      <th>영문명</th>\n",
       "      <th>전화번호</th>\n",
       "      <th>메일주소</th>\n",
       "      <th>주소</th>\n",
       "      <th>생일</th>\n",
       "      <th>예금잔액</th>\n",
       "      <th>대출잔액</th>\n",
       "      <th>등록일</th>\n",
       "    </tr>\n",
       "  </thead>\n",
       "  <tbody>\n",
       "    <tr>\n",
       "      <th>0</th>\n",
       "      <td>C001</td>\n",
       "      <td>제우스</td>\n",
       "      <td>Zeus</td>\n",
       "      <td>010-1111-2222</td>\n",
       "      <td>zeus@abc.com</td>\n",
       "      <td>서울시 양천구 목동 12-3</td>\n",
       "      <td>1965-02-03</td>\n",
       "      <td>1000000</td>\n",
       "      <td>10000000</td>\n",
       "      <td>2015-05-01</td>\n",
       "    </tr>\n",
       "    <tr>\n",
       "      <th>1</th>\n",
       "      <td>C002</td>\n",
       "      <td>헤라</td>\n",
       "      <td>Hera</td>\n",
       "      <td>010-2222-3333</td>\n",
       "      <td>hera@bcd.com</td>\n",
       "      <td>서울시 강남구 역삼동 13-4</td>\n",
       "      <td>1974-09-23</td>\n",
       "      <td>1500000</td>\n",
       "      <td>9000000</td>\n",
       "      <td>2016-08-24</td>\n",
       "    </tr>\n",
       "    <tr>\n",
       "      <th>2</th>\n",
       "      <td>C003</td>\n",
       "      <td>데메테르</td>\n",
       "      <td>Demeter</td>\n",
       "      <td>010-3333-4444</td>\n",
       "      <td>demeter@def.cc.com</td>\n",
       "      <td>서울시 송파구 잠실동 15-5</td>\n",
       "      <td>1978-12-20</td>\n",
       "      <td>2000000</td>\n",
       "      <td>8000000</td>\n",
       "      <td>2018-06-02</td>\n",
       "    </tr>\n",
       "    <tr>\n",
       "      <th>3</th>\n",
       "      <td>C004</td>\n",
       "      <td>디오니소스</td>\n",
       "      <td>Dionysos</td>\n",
       "      <td>010-4444-5555</td>\n",
       "      <td>dionysos@efg.com</td>\n",
       "      <td>서울시 성북구 성북동 22-1</td>\n",
       "      <td>1972-05-30</td>\n",
       "      <td>2500000</td>\n",
       "      <td>7000000</td>\n",
       "      <td>2017-12-23</td>\n",
       "    </tr>\n",
       "    <tr>\n",
       "      <th>4</th>\n",
       "      <td>C005</td>\n",
       "      <td>아레스</td>\n",
       "      <td>Ares</td>\n",
       "      <td>010-5555-6666</td>\n",
       "      <td>ares@fgh.com</td>\n",
       "      <td>서울시 강동구 상일동 10-3</td>\n",
       "      <td>1988-03-09</td>\n",
       "      <td>3000000</td>\n",
       "      <td>6000000</td>\n",
       "      <td>2015-09-07</td>\n",
       "    </tr>\n",
       "    <tr>\n",
       "      <th>5</th>\n",
       "      <td>C006</td>\n",
       "      <td>아르테미스</td>\n",
       "      <td>Artemis</td>\n",
       "      <td>010-6666-7777</td>\n",
       "      <td>artemis@ghi.com</td>\n",
       "      <td>서울시 강서구 방화동 29-7</td>\n",
       "      <td>1970-12-01</td>\n",
       "      <td>3500000</td>\n",
       "      <td>5000000</td>\n",
       "      <td>2016-01-06</td>\n",
       "    </tr>\n",
       "    <tr>\n",
       "      <th>6</th>\n",
       "      <td>C007</td>\n",
       "      <td>아테나</td>\n",
       "      <td>Athena</td>\n",
       "      <td>010-7777-8888</td>\n",
       "      <td>athena@hij.com</td>\n",
       "      <td>인천시 남구 도화동 36-9</td>\n",
       "      <td>1990-07-12</td>\n",
       "      <td>4000000</td>\n",
       "      <td>4000000</td>\n",
       "      <td>2018-05-08</td>\n",
       "    </tr>\n",
       "    <tr>\n",
       "      <th>7</th>\n",
       "      <td>C008</td>\n",
       "      <td>아폴론</td>\n",
       "      <td>Apollon</td>\n",
       "      <td>010-8888-9999</td>\n",
       "      <td>apollon@ijk.com</td>\n",
       "      <td>대전시 중구 은행동 34-5</td>\n",
       "      <td>1982-06-12</td>\n",
       "      <td>4500000</td>\n",
       "      <td>3000000</td>\n",
       "      <td>2018-02-24</td>\n",
       "    </tr>\n",
       "    <tr>\n",
       "      <th>8</th>\n",
       "      <td>C009</td>\n",
       "      <td>아프로디테</td>\n",
       "      <td>Aphrodite</td>\n",
       "      <td>010-9999-1010</td>\n",
       "      <td>aphrodite@jkl.com</td>\n",
       "      <td>부산시 부산진구 양정동 59-7</td>\n",
       "      <td>1991-04-07</td>\n",
       "      <td>5000000</td>\n",
       "      <td>2000000</td>\n",
       "      <td>2017-11-21</td>\n",
       "    </tr>\n",
       "    <tr>\n",
       "      <th>9</th>\n",
       "      <td>C010</td>\n",
       "      <td>포세이돈</td>\n",
       "      <td>Poseidon</td>\n",
       "      <td>010-1010-2020</td>\n",
       "      <td>poseidon@klm.com</td>\n",
       "      <td>대구시 수성구 범어동 78-2</td>\n",
       "      <td>1987-01-18</td>\n",
       "      <td>5500000</td>\n",
       "      <td>1000000</td>\n",
       "      <td>2016-03-11</td>\n",
       "    </tr>\n",
       "    <tr>\n",
       "      <th>10</th>\n",
       "      <td>C011</td>\n",
       "      <td>헤르메스</td>\n",
       "      <td>Hermes</td>\n",
       "      <td>010-2020-3030</td>\n",
       "      <td>hermes@lmn.com</td>\n",
       "      <td>광주시 남구 월산동 23-5</td>\n",
       "      <td>1995-09-07</td>\n",
       "      <td>6000000</td>\n",
       "      <td>500000</td>\n",
       "      <td>2015-04-11</td>\n",
       "    </tr>\n",
       "    <tr>\n",
       "      <th>11</th>\n",
       "      <td>C012</td>\n",
       "      <td>헤파이스토스</td>\n",
       "      <td>Hephaistos</td>\n",
       "      <td>010-3030-4040</td>\n",
       "      <td>hephaistos@mno.com</td>\n",
       "      <td>제주시 용강동 11-1</td>\n",
       "      <td>1966-08-03</td>\n",
       "      <td>6500000</td>\n",
       "      <td>300000</td>\n",
       "      <td>2016-10-05</td>\n",
       "    </tr>\n",
       "  </tbody>\n",
       "</table>\n",
       "</div>"
      ],
      "text/plain": [
       "    고객번호      성명         영문명           전화번호                메일주소  \\\n",
       "0   C001     제우스        Zeus  010-1111-2222        zeus@abc.com   \n",
       "1   C002      헤라        Hera  010-2222-3333        hera@bcd.com   \n",
       "2   C003    데메테르     Demeter  010-3333-4444  demeter@def.cc.com   \n",
       "3   C004   디오니소스    Dionysos  010-4444-5555    dionysos@efg.com   \n",
       "4   C005     아레스        Ares  010-5555-6666        ares@fgh.com   \n",
       "5   C006   아르테미스     Artemis  010-6666-7777     artemis@ghi.com   \n",
       "6   C007     아테나      Athena  010-7777-8888      athena@hij.com   \n",
       "7   C008     아폴론     Apollon  010-8888-9999     apollon@ijk.com   \n",
       "8   C009   아프로디테   Aphrodite  010-9999-1010   aphrodite@jkl.com   \n",
       "9   C010    포세이돈    Poseidon  010-1010-2020    poseidon@klm.com   \n",
       "10  C011    헤르메스      Hermes  010-2020-3030      hermes@lmn.com   \n",
       "11  C012  헤파이스토스  Hephaistos  010-3030-4040  hephaistos@mno.com   \n",
       "\n",
       "                   주소         생일     예금잔액      대출잔액        등록일  \n",
       "0     서울시 양천구 목동 12-3 1965-02-03  1000000  10000000 2015-05-01  \n",
       "1    서울시 강남구 역삼동 13-4 1974-09-23  1500000   9000000 2016-08-24  \n",
       "2    서울시 송파구 잠실동 15-5 1978-12-20  2000000   8000000 2018-06-02  \n",
       "3    서울시 성북구 성북동 22-1 1972-05-30  2500000   7000000 2017-12-23  \n",
       "4    서울시 강동구 상일동 10-3 1988-03-09  3000000   6000000 2015-09-07  \n",
       "5    서울시 강서구 방화동 29-7 1970-12-01  3500000   5000000 2016-01-06  \n",
       "6     인천시 남구 도화동 36-9 1990-07-12  4000000   4000000 2018-05-08  \n",
       "7     대전시 중구 은행동 34-5 1982-06-12  4500000   3000000 2018-02-24  \n",
       "8   부산시 부산진구 양정동 59-7 1991-04-07  5000000   2000000 2017-11-21  \n",
       "9    대구시 수성구 범어동 78-2 1987-01-18  5500000   1000000 2016-03-11  \n",
       "10    광주시 남구 월산동 23-5 1995-09-07  6000000    500000 2015-04-11  \n",
       "11       제주시 용강동 11-1 1966-08-03  6500000    300000 2016-10-05  "
      ]
     },
     "execution_count": 20,
     "metadata": {},
     "output_type": "execute_result"
    }
   ],
   "source": [
    "고객정보병합"
   ]
  },
  {
   "cell_type": "markdown",
   "metadata": {},
   "source": [
    "---"
   ]
  },
  {
   "cell_type": "markdown",
   "metadata": {},
   "source": [
    "## 2. 고객정보 파일 비교"
   ]
  },
  {
   "cell_type": "markdown",
   "metadata": {},
   "source": [
    "### 1.1 데이터프레임 인덱스 변경"
   ]
  },
  {
   "cell_type": "markdown",
   "metadata": {},
   "source": [
    "- 데이터프레임의 인덱스 번호는 0부터 시작\n",
    "- 엑셀 행번호는 2부터 시작\n",
    "- 라인번호 일치를 위해 데이터프레임 인덱스 번호를 2부터 시작하도록 변경"
   ]
  },
  {
   "cell_type": "code",
   "execution_count": 21,
   "metadata": {
    "collapsed": true
   },
   "outputs": [],
   "source": [
    "고객정보_V1 = pd.read_excel('../데이터/고객정보_V1.xlsx')"
   ]
  },
  {
   "cell_type": "code",
   "execution_count": 22,
   "metadata": {
    "collapsed": true
   },
   "outputs": [],
   "source": [
    "고객정보_V2 = pd.read_excel('../데이터/고객정보_V2.xlsx')"
   ]
  },
  {
   "cell_type": "code",
   "execution_count": 23,
   "metadata": {},
   "outputs": [
    {
     "data": {
      "text/html": [
       "<div>\n",
       "<style>\n",
       "    .dataframe thead tr:only-child th {\n",
       "        text-align: right;\n",
       "    }\n",
       "\n",
       "    .dataframe thead th {\n",
       "        text-align: left;\n",
       "    }\n",
       "\n",
       "    .dataframe tbody tr th {\n",
       "        vertical-align: top;\n",
       "    }\n",
       "</style>\n",
       "<table border=\"1\" class=\"dataframe\">\n",
       "  <thead>\n",
       "    <tr style=\"text-align: right;\">\n",
       "      <th></th>\n",
       "      <th>고객번호</th>\n",
       "      <th>성명</th>\n",
       "      <th>영문명</th>\n",
       "      <th>전화번호</th>\n",
       "      <th>메일주소</th>\n",
       "      <th>주소</th>\n",
       "      <th>생일</th>\n",
       "      <th>예금잔액</th>\n",
       "      <th>대출잔액</th>\n",
       "      <th>등록일</th>\n",
       "    </tr>\n",
       "  </thead>\n",
       "  <tbody>\n",
       "    <tr>\n",
       "      <th>0</th>\n",
       "      <td>C001</td>\n",
       "      <td>제우스</td>\n",
       "      <td>Zeus</td>\n",
       "      <td>010-1111-2222</td>\n",
       "      <td>zeus@abc.com</td>\n",
       "      <td>서울시 강서구 화곡동 22-5</td>\n",
       "      <td>1965-02-03</td>\n",
       "      <td>1000000</td>\n",
       "      <td>10000000</td>\n",
       "      <td>2015-05-01</td>\n",
       "    </tr>\n",
       "    <tr>\n",
       "      <th>1</th>\n",
       "      <td>C002</td>\n",
       "      <td>헤라</td>\n",
       "      <td>Hera</td>\n",
       "      <td>010-2222-3333</td>\n",
       "      <td>hera@bcd.com</td>\n",
       "      <td>서울시 강남구 역삼동 13-4</td>\n",
       "      <td>1974-09-23</td>\n",
       "      <td>1500000</td>\n",
       "      <td>9000000</td>\n",
       "      <td>2016-08-24</td>\n",
       "    </tr>\n",
       "    <tr>\n",
       "      <th>2</th>\n",
       "      <td>C003</td>\n",
       "      <td>데메테르</td>\n",
       "      <td>Demeter</td>\n",
       "      <td>010-3333-4444</td>\n",
       "      <td>demeter@def.cc.com</td>\n",
       "      <td>서울시 송파구 잠실동 15-5</td>\n",
       "      <td>1978-12-20</td>\n",
       "      <td>2000000</td>\n",
       "      <td>8500000</td>\n",
       "      <td>2018-06-02</td>\n",
       "    </tr>\n",
       "  </tbody>\n",
       "</table>\n",
       "</div>"
      ],
      "text/plain": [
       "   고객번호    성명      영문명           전화번호                메일주소                주소  \\\n",
       "0  C001   제우스     Zeus  010-1111-2222        zeus@abc.com  서울시 강서구 화곡동 22-5   \n",
       "1  C002    헤라     Hera  010-2222-3333        hera@bcd.com  서울시 강남구 역삼동 13-4   \n",
       "2  C003  데메테르  Demeter  010-3333-4444  demeter@def.cc.com  서울시 송파구 잠실동 15-5   \n",
       "\n",
       "          생일     예금잔액      대출잔액        등록일  \n",
       "0 1965-02-03  1000000  10000000 2015-05-01  \n",
       "1 1974-09-23  1500000   9000000 2016-08-24  \n",
       "2 1978-12-20  2000000   8500000 2018-06-02  "
      ]
     },
     "execution_count": 23,
     "metadata": {},
     "output_type": "execute_result"
    }
   ],
   "source": [
    "고객정보_V1[:3]"
   ]
  },
  {
   "cell_type": "code",
   "execution_count": 24,
   "metadata": {},
   "outputs": [
    {
     "data": {
      "text/html": [
       "<div>\n",
       "<style>\n",
       "    .dataframe thead tr:only-child th {\n",
       "        text-align: right;\n",
       "    }\n",
       "\n",
       "    .dataframe thead th {\n",
       "        text-align: left;\n",
       "    }\n",
       "\n",
       "    .dataframe tbody tr th {\n",
       "        vertical-align: top;\n",
       "    }\n",
       "</style>\n",
       "<table border=\"1\" class=\"dataframe\">\n",
       "  <thead>\n",
       "    <tr style=\"text-align: right;\">\n",
       "      <th></th>\n",
       "      <th>고객번호</th>\n",
       "      <th>성명</th>\n",
       "      <th>영문명</th>\n",
       "      <th>전화번호</th>\n",
       "      <th>메일주소</th>\n",
       "      <th>주소</th>\n",
       "      <th>생일</th>\n",
       "      <th>예금잔액</th>\n",
       "      <th>대출잔액</th>\n",
       "      <th>등록일</th>\n",
       "    </tr>\n",
       "  </thead>\n",
       "  <tbody>\n",
       "    <tr>\n",
       "      <th>0</th>\n",
       "      <td>C001</td>\n",
       "      <td>제우스</td>\n",
       "      <td>Zeus</td>\n",
       "      <td>010-1111-1111</td>\n",
       "      <td>zeus@abc.com</td>\n",
       "      <td>서울시 양천구 목동 12-3</td>\n",
       "      <td>1965-02-03</td>\n",
       "      <td>1000000</td>\n",
       "      <td>10000000</td>\n",
       "      <td>2015-05-01</td>\n",
       "    </tr>\n",
       "    <tr>\n",
       "      <th>1</th>\n",
       "      <td>C002</td>\n",
       "      <td>헤라</td>\n",
       "      <td>Hera</td>\n",
       "      <td>010-2222-3333</td>\n",
       "      <td>hera@bcd.com</td>\n",
       "      <td>서울시 강남구 역삼동 13-4</td>\n",
       "      <td>1974-09-23</td>\n",
       "      <td>1500000</td>\n",
       "      <td>9000000</td>\n",
       "      <td>2016-08-24</td>\n",
       "    </tr>\n",
       "    <tr>\n",
       "      <th>2</th>\n",
       "      <td>C003</td>\n",
       "      <td>데메테르</td>\n",
       "      <td>Demeter</td>\n",
       "      <td>010-3333-4444</td>\n",
       "      <td>demeter@def.cc.com</td>\n",
       "      <td>서울시 송파구 잠실동 15-5</td>\n",
       "      <td>1978-12-20</td>\n",
       "      <td>2000000</td>\n",
       "      <td>8000000</td>\n",
       "      <td>2018-06-02</td>\n",
       "    </tr>\n",
       "  </tbody>\n",
       "</table>\n",
       "</div>"
      ],
      "text/plain": [
       "   고객번호    성명      영문명           전화번호                메일주소                주소  \\\n",
       "0  C001   제우스     Zeus  010-1111-1111        zeus@abc.com   서울시 양천구 목동 12-3   \n",
       "1  C002    헤라     Hera  010-2222-3333        hera@bcd.com  서울시 강남구 역삼동 13-4   \n",
       "2  C003  데메테르  Demeter  010-3333-4444  demeter@def.cc.com  서울시 송파구 잠실동 15-5   \n",
       "\n",
       "          생일     예금잔액      대출잔액        등록일  \n",
       "0 1965-02-03  1000000  10000000 2015-05-01  \n",
       "1 1974-09-23  1500000   9000000 2016-08-24  \n",
       "2 1978-12-20  2000000   8000000 2018-06-02  "
      ]
     },
     "execution_count": 24,
     "metadata": {},
     "output_type": "execute_result"
    }
   ],
   "source": [
    "고객정보_V2[:3]"
   ]
  },
  {
   "cell_type": "markdown",
   "metadata": {},
   "source": [
    "#### 데이터프레임 인덱스 번호 2로 시작하도록 변경"
   ]
  },
  {
   "cell_type": "code",
   "execution_count": 25,
   "metadata": {},
   "outputs": [
    {
     "data": {
      "text/plain": [
       "RangeIndex(start=0, stop=12, step=1)"
      ]
     },
     "execution_count": 25,
     "metadata": {},
     "output_type": "execute_result"
    }
   ],
   "source": [
    "고객정보_V1.index"
   ]
  },
  {
   "cell_type": "code",
   "execution_count": 26,
   "metadata": {},
   "outputs": [
    {
     "data": {
      "text/plain": [
       "RangeIndex(start=2, stop=14, step=1)"
      ]
     },
     "execution_count": 26,
     "metadata": {},
     "output_type": "execute_result"
    }
   ],
   "source": [
    "고객정보_V1.index = 고객정보_V2.index + 2\n",
    "고객정보_V1.index "
   ]
  },
  {
   "cell_type": "code",
   "execution_count": 27,
   "metadata": {},
   "outputs": [
    {
     "data": {
      "text/plain": [
       "RangeIndex(start=0, stop=12, step=1)"
      ]
     },
     "execution_count": 27,
     "metadata": {},
     "output_type": "execute_result"
    }
   ],
   "source": [
    "고객정보_V2.index"
   ]
  },
  {
   "cell_type": "code",
   "execution_count": 28,
   "metadata": {},
   "outputs": [
    {
     "data": {
      "text/plain": [
       "RangeIndex(start=2, stop=14, step=1)"
      ]
     },
     "execution_count": 28,
     "metadata": {},
     "output_type": "execute_result"
    }
   ],
   "source": [
    "고객정보_V2.index = 고객정보_V2.index + 2\n",
    "고객정보_V2.index "
   ]
  },
  {
   "cell_type": "markdown",
   "metadata": {},
   "source": [
    "#### 변경된 인덱스 번호 확인"
   ]
  },
  {
   "cell_type": "code",
   "execution_count": 29,
   "metadata": {},
   "outputs": [
    {
     "data": {
      "text/html": [
       "<div>\n",
       "<style>\n",
       "    .dataframe thead tr:only-child th {\n",
       "        text-align: right;\n",
       "    }\n",
       "\n",
       "    .dataframe thead th {\n",
       "        text-align: left;\n",
       "    }\n",
       "\n",
       "    .dataframe tbody tr th {\n",
       "        vertical-align: top;\n",
       "    }\n",
       "</style>\n",
       "<table border=\"1\" class=\"dataframe\">\n",
       "  <thead>\n",
       "    <tr style=\"text-align: right;\">\n",
       "      <th></th>\n",
       "      <th>고객번호</th>\n",
       "      <th>성명</th>\n",
       "      <th>영문명</th>\n",
       "      <th>전화번호</th>\n",
       "      <th>메일주소</th>\n",
       "      <th>주소</th>\n",
       "      <th>생일</th>\n",
       "      <th>예금잔액</th>\n",
       "      <th>대출잔액</th>\n",
       "      <th>등록일</th>\n",
       "    </tr>\n",
       "  </thead>\n",
       "  <tbody>\n",
       "    <tr>\n",
       "      <th>2</th>\n",
       "      <td>C001</td>\n",
       "      <td>제우스</td>\n",
       "      <td>Zeus</td>\n",
       "      <td>010-1111-2222</td>\n",
       "      <td>zeus@abc.com</td>\n",
       "      <td>서울시 강서구 화곡동 22-5</td>\n",
       "      <td>1965-02-03</td>\n",
       "      <td>1000000</td>\n",
       "      <td>10000000</td>\n",
       "      <td>2015-05-01</td>\n",
       "    </tr>\n",
       "    <tr>\n",
       "      <th>3</th>\n",
       "      <td>C002</td>\n",
       "      <td>헤라</td>\n",
       "      <td>Hera</td>\n",
       "      <td>010-2222-3333</td>\n",
       "      <td>hera@bcd.com</td>\n",
       "      <td>서울시 강남구 역삼동 13-4</td>\n",
       "      <td>1974-09-23</td>\n",
       "      <td>1500000</td>\n",
       "      <td>9000000</td>\n",
       "      <td>2016-08-24</td>\n",
       "    </tr>\n",
       "    <tr>\n",
       "      <th>4</th>\n",
       "      <td>C003</td>\n",
       "      <td>데메테르</td>\n",
       "      <td>Demeter</td>\n",
       "      <td>010-3333-4444</td>\n",
       "      <td>demeter@def.cc.com</td>\n",
       "      <td>서울시 송파구 잠실동 15-5</td>\n",
       "      <td>1978-12-20</td>\n",
       "      <td>2000000</td>\n",
       "      <td>8500000</td>\n",
       "      <td>2018-06-02</td>\n",
       "    </tr>\n",
       "  </tbody>\n",
       "</table>\n",
       "</div>"
      ],
      "text/plain": [
       "   고객번호    성명      영문명           전화번호                메일주소                주소  \\\n",
       "2  C001   제우스     Zeus  010-1111-2222        zeus@abc.com  서울시 강서구 화곡동 22-5   \n",
       "3  C002    헤라     Hera  010-2222-3333        hera@bcd.com  서울시 강남구 역삼동 13-4   \n",
       "4  C003  데메테르  Demeter  010-3333-4444  demeter@def.cc.com  서울시 송파구 잠실동 15-5   \n",
       "\n",
       "          생일     예금잔액      대출잔액        등록일  \n",
       "2 1965-02-03  1000000  10000000 2015-05-01  \n",
       "3 1974-09-23  1500000   9000000 2016-08-24  \n",
       "4 1978-12-20  2000000   8500000 2018-06-02  "
      ]
     },
     "execution_count": 29,
     "metadata": {},
     "output_type": "execute_result"
    }
   ],
   "source": [
    "고객정보_V1[:3]"
   ]
  },
  {
   "cell_type": "code",
   "execution_count": 30,
   "metadata": {},
   "outputs": [
    {
     "data": {
      "text/html": [
       "<div>\n",
       "<style>\n",
       "    .dataframe thead tr:only-child th {\n",
       "        text-align: right;\n",
       "    }\n",
       "\n",
       "    .dataframe thead th {\n",
       "        text-align: left;\n",
       "    }\n",
       "\n",
       "    .dataframe tbody tr th {\n",
       "        vertical-align: top;\n",
       "    }\n",
       "</style>\n",
       "<table border=\"1\" class=\"dataframe\">\n",
       "  <thead>\n",
       "    <tr style=\"text-align: right;\">\n",
       "      <th></th>\n",
       "      <th>고객번호</th>\n",
       "      <th>성명</th>\n",
       "      <th>영문명</th>\n",
       "      <th>전화번호</th>\n",
       "      <th>메일주소</th>\n",
       "      <th>주소</th>\n",
       "      <th>생일</th>\n",
       "      <th>예금잔액</th>\n",
       "      <th>대출잔액</th>\n",
       "      <th>등록일</th>\n",
       "    </tr>\n",
       "  </thead>\n",
       "  <tbody>\n",
       "    <tr>\n",
       "      <th>2</th>\n",
       "      <td>C001</td>\n",
       "      <td>제우스</td>\n",
       "      <td>Zeus</td>\n",
       "      <td>010-1111-1111</td>\n",
       "      <td>zeus@abc.com</td>\n",
       "      <td>서울시 양천구 목동 12-3</td>\n",
       "      <td>1965-02-03</td>\n",
       "      <td>1000000</td>\n",
       "      <td>10000000</td>\n",
       "      <td>2015-05-01</td>\n",
       "    </tr>\n",
       "    <tr>\n",
       "      <th>3</th>\n",
       "      <td>C002</td>\n",
       "      <td>헤라</td>\n",
       "      <td>Hera</td>\n",
       "      <td>010-2222-3333</td>\n",
       "      <td>hera@bcd.com</td>\n",
       "      <td>서울시 강남구 역삼동 13-4</td>\n",
       "      <td>1974-09-23</td>\n",
       "      <td>1500000</td>\n",
       "      <td>9000000</td>\n",
       "      <td>2016-08-24</td>\n",
       "    </tr>\n",
       "    <tr>\n",
       "      <th>4</th>\n",
       "      <td>C003</td>\n",
       "      <td>데메테르</td>\n",
       "      <td>Demeter</td>\n",
       "      <td>010-3333-4444</td>\n",
       "      <td>demeter@def.cc.com</td>\n",
       "      <td>서울시 송파구 잠실동 15-5</td>\n",
       "      <td>1978-12-20</td>\n",
       "      <td>2000000</td>\n",
       "      <td>8000000</td>\n",
       "      <td>2018-06-02</td>\n",
       "    </tr>\n",
       "  </tbody>\n",
       "</table>\n",
       "</div>"
      ],
      "text/plain": [
       "   고객번호    성명      영문명           전화번호                메일주소                주소  \\\n",
       "2  C001   제우스     Zeus  010-1111-1111        zeus@abc.com   서울시 양천구 목동 12-3   \n",
       "3  C002    헤라     Hera  010-2222-3333        hera@bcd.com  서울시 강남구 역삼동 13-4   \n",
       "4  C003  데메테르  Demeter  010-3333-4444  demeter@def.cc.com  서울시 송파구 잠실동 15-5   \n",
       "\n",
       "          생일     예금잔액      대출잔액        등록일  \n",
       "2 1965-02-03  1000000  10000000 2015-05-01  \n",
       "3 1974-09-23  1500000   9000000 2016-08-24  \n",
       "4 1978-12-20  2000000   8000000 2018-06-02  "
      ]
     },
     "execution_count": 30,
     "metadata": {},
     "output_type": "execute_result"
    }
   ],
   "source": [
    "고객정보_V2[:3]"
   ]
  },
  {
   "cell_type": "markdown",
   "metadata": {},
   "source": [
    "---"
   ]
  },
  {
   "cell_type": "markdown",
   "metadata": {},
   "source": [
    "### 2.2 변경된 라인과 컬럼 위치 찾기"
   ]
  },
  {
   "cell_type": "markdown",
   "metadata": {},
   "source": [
    "- 두 데이터프레임 비교하여 변경된 경우 True, 변경되지 않은 경우 False\n",
    "- stack 함수를 이용하여 변경여부 데이터를 reshape\n",
    "- 변경된 위치의 라인번호와 컬럼명 찾기"
   ]
  },
  {
   "cell_type": "code",
   "execution_count": 31,
   "metadata": {},
   "outputs": [
    {
     "data": {
      "text/html": [
       "<div>\n",
       "<style>\n",
       "    .dataframe thead tr:only-child th {\n",
       "        text-align: right;\n",
       "    }\n",
       "\n",
       "    .dataframe thead th {\n",
       "        text-align: left;\n",
       "    }\n",
       "\n",
       "    .dataframe tbody tr th {\n",
       "        vertical-align: top;\n",
       "    }\n",
       "</style>\n",
       "<table border=\"1\" class=\"dataframe\">\n",
       "  <thead>\n",
       "    <tr style=\"text-align: right;\">\n",
       "      <th></th>\n",
       "      <th>고객번호</th>\n",
       "      <th>성명</th>\n",
       "      <th>영문명</th>\n",
       "      <th>전화번호</th>\n",
       "      <th>메일주소</th>\n",
       "      <th>주소</th>\n",
       "      <th>생일</th>\n",
       "      <th>예금잔액</th>\n",
       "      <th>대출잔액</th>\n",
       "      <th>등록일</th>\n",
       "    </tr>\n",
       "  </thead>\n",
       "  <tbody>\n",
       "    <tr>\n",
       "      <th>2</th>\n",
       "      <td>False</td>\n",
       "      <td>False</td>\n",
       "      <td>False</td>\n",
       "      <td>True</td>\n",
       "      <td>False</td>\n",
       "      <td>True</td>\n",
       "      <td>False</td>\n",
       "      <td>False</td>\n",
       "      <td>False</td>\n",
       "      <td>False</td>\n",
       "    </tr>\n",
       "    <tr>\n",
       "      <th>3</th>\n",
       "      <td>False</td>\n",
       "      <td>False</td>\n",
       "      <td>False</td>\n",
       "      <td>False</td>\n",
       "      <td>False</td>\n",
       "      <td>False</td>\n",
       "      <td>False</td>\n",
       "      <td>False</td>\n",
       "      <td>False</td>\n",
       "      <td>False</td>\n",
       "    </tr>\n",
       "    <tr>\n",
       "      <th>4</th>\n",
       "      <td>False</td>\n",
       "      <td>False</td>\n",
       "      <td>False</td>\n",
       "      <td>False</td>\n",
       "      <td>False</td>\n",
       "      <td>False</td>\n",
       "      <td>False</td>\n",
       "      <td>False</td>\n",
       "      <td>True</td>\n",
       "      <td>False</td>\n",
       "    </tr>\n",
       "    <tr>\n",
       "      <th>5</th>\n",
       "      <td>False</td>\n",
       "      <td>False</td>\n",
       "      <td>False</td>\n",
       "      <td>False</td>\n",
       "      <td>False</td>\n",
       "      <td>False</td>\n",
       "      <td>False</td>\n",
       "      <td>False</td>\n",
       "      <td>False</td>\n",
       "      <td>False</td>\n",
       "    </tr>\n",
       "    <tr>\n",
       "      <th>6</th>\n",
       "      <td>False</td>\n",
       "      <td>False</td>\n",
       "      <td>False</td>\n",
       "      <td>False</td>\n",
       "      <td>False</td>\n",
       "      <td>False</td>\n",
       "      <td>False</td>\n",
       "      <td>False</td>\n",
       "      <td>False</td>\n",
       "      <td>False</td>\n",
       "    </tr>\n",
       "    <tr>\n",
       "      <th>7</th>\n",
       "      <td>False</td>\n",
       "      <td>False</td>\n",
       "      <td>False</td>\n",
       "      <td>False</td>\n",
       "      <td>False</td>\n",
       "      <td>False</td>\n",
       "      <td>False</td>\n",
       "      <td>False</td>\n",
       "      <td>False</td>\n",
       "      <td>False</td>\n",
       "    </tr>\n",
       "    <tr>\n",
       "      <th>8</th>\n",
       "      <td>False</td>\n",
       "      <td>False</td>\n",
       "      <td>False</td>\n",
       "      <td>False</td>\n",
       "      <td>False</td>\n",
       "      <td>False</td>\n",
       "      <td>False</td>\n",
       "      <td>False</td>\n",
       "      <td>False</td>\n",
       "      <td>False</td>\n",
       "    </tr>\n",
       "    <tr>\n",
       "      <th>9</th>\n",
       "      <td>False</td>\n",
       "      <td>False</td>\n",
       "      <td>False</td>\n",
       "      <td>False</td>\n",
       "      <td>False</td>\n",
       "      <td>False</td>\n",
       "      <td>False</td>\n",
       "      <td>False</td>\n",
       "      <td>False</td>\n",
       "      <td>False</td>\n",
       "    </tr>\n",
       "    <tr>\n",
       "      <th>10</th>\n",
       "      <td>False</td>\n",
       "      <td>False</td>\n",
       "      <td>False</td>\n",
       "      <td>False</td>\n",
       "      <td>False</td>\n",
       "      <td>False</td>\n",
       "      <td>False</td>\n",
       "      <td>True</td>\n",
       "      <td>False</td>\n",
       "      <td>False</td>\n",
       "    </tr>\n",
       "    <tr>\n",
       "      <th>11</th>\n",
       "      <td>False</td>\n",
       "      <td>False</td>\n",
       "      <td>False</td>\n",
       "      <td>True</td>\n",
       "      <td>False</td>\n",
       "      <td>False</td>\n",
       "      <td>False</td>\n",
       "      <td>False</td>\n",
       "      <td>False</td>\n",
       "      <td>False</td>\n",
       "    </tr>\n",
       "    <tr>\n",
       "      <th>12</th>\n",
       "      <td>False</td>\n",
       "      <td>False</td>\n",
       "      <td>False</td>\n",
       "      <td>False</td>\n",
       "      <td>False</td>\n",
       "      <td>False</td>\n",
       "      <td>False</td>\n",
       "      <td>False</td>\n",
       "      <td>False</td>\n",
       "      <td>False</td>\n",
       "    </tr>\n",
       "    <tr>\n",
       "      <th>13</th>\n",
       "      <td>False</td>\n",
       "      <td>False</td>\n",
       "      <td>False</td>\n",
       "      <td>False</td>\n",
       "      <td>False</td>\n",
       "      <td>False</td>\n",
       "      <td>False</td>\n",
       "      <td>False</td>\n",
       "      <td>False</td>\n",
       "      <td>False</td>\n",
       "    </tr>\n",
       "  </tbody>\n",
       "</table>\n",
       "</div>"
      ],
      "text/plain": [
       "     고객번호     성명    영문명   전화번호   메일주소     주소     생일   예금잔액   대출잔액    등록일\n",
       "2   False  False  False   True  False   True  False  False  False  False\n",
       "3   False  False  False  False  False  False  False  False  False  False\n",
       "4   False  False  False  False  False  False  False  False   True  False\n",
       "5   False  False  False  False  False  False  False  False  False  False\n",
       "6   False  False  False  False  False  False  False  False  False  False\n",
       "7   False  False  False  False  False  False  False  False  False  False\n",
       "8   False  False  False  False  False  False  False  False  False  False\n",
       "9   False  False  False  False  False  False  False  False  False  False\n",
       "10  False  False  False  False  False  False  False   True  False  False\n",
       "11  False  False  False   True  False  False  False  False  False  False\n",
       "12  False  False  False  False  False  False  False  False  False  False\n",
       "13  False  False  False  False  False  False  False  False  False  False"
      ]
     },
     "execution_count": 31,
     "metadata": {},
     "output_type": "execute_result"
    }
   ],
   "source": [
    "(고객정보_V1 != 고객정보_V2)"
   ]
  },
  {
   "cell_type": "code",
   "execution_count": 32,
   "metadata": {
    "collapsed": true
   },
   "outputs": [],
   "source": [
    "스택 = (고객정보_V1 != 고객정보_V2).stack()"
   ]
  },
  {
   "cell_type": "code",
   "execution_count": 33,
   "metadata": {},
   "outputs": [
    {
     "data": {
      "text/plain": [
       "2   고객번호    False\n",
       "    성명      False\n",
       "    영문명     False\n",
       "    전화번호     True\n",
       "    메일주소    False\n",
       "    주소       True\n",
       "    생일      False\n",
       "    예금잔액    False\n",
       "    대출잔액    False\n",
       "    등록일     False\n",
       "3   고객번호    False\n",
       "    성명      False\n",
       "    영문명     False\n",
       "    전화번호    False\n",
       "    메일주소    False\n",
       "    주소      False\n",
       "    생일      False\n",
       "    예금잔액    False\n",
       "    대출잔액    False\n",
       "    등록일     False\n",
       "4   고객번호    False\n",
       "    성명      False\n",
       "    영문명     False\n",
       "    전화번호    False\n",
       "    메일주소    False\n",
       "    주소      False\n",
       "    생일      False\n",
       "    예금잔액    False\n",
       "    대출잔액     True\n",
       "    등록일     False\n",
       "            ...  \n",
       "11  고객번호    False\n",
       "    성명      False\n",
       "    영문명     False\n",
       "    전화번호     True\n",
       "    메일주소    False\n",
       "    주소      False\n",
       "    생일      False\n",
       "    예금잔액    False\n",
       "    대출잔액    False\n",
       "    등록일     False\n",
       "12  고객번호    False\n",
       "    성명      False\n",
       "    영문명     False\n",
       "    전화번호    False\n",
       "    메일주소    False\n",
       "    주소      False\n",
       "    생일      False\n",
       "    예금잔액    False\n",
       "    대출잔액    False\n",
       "    등록일     False\n",
       "13  고객번호    False\n",
       "    성명      False\n",
       "    영문명     False\n",
       "    전화번호    False\n",
       "    메일주소    False\n",
       "    주소      False\n",
       "    생일      False\n",
       "    예금잔액    False\n",
       "    대출잔액    False\n",
       "    등록일     False\n",
       "Length: 120, dtype: bool"
      ]
     },
     "execution_count": 33,
     "metadata": {},
     "output_type": "execute_result"
    }
   ],
   "source": [
    "스택"
   ]
  },
  {
   "cell_type": "code",
   "execution_count": 34,
   "metadata": {
    "collapsed": true
   },
   "outputs": [],
   "source": [
    "변경라인컬럼 = 스택[스택]"
   ]
  },
  {
   "cell_type": "code",
   "execution_count": 35,
   "metadata": {},
   "outputs": [
    {
     "data": {
      "text/plain": [
       "2   전화번호    True\n",
       "    주소      True\n",
       "4   대출잔액    True\n",
       "10  예금잔액    True\n",
       "11  전화번호    True\n",
       "dtype: bool"
      ]
     },
     "execution_count": 35,
     "metadata": {},
     "output_type": "execute_result"
    }
   ],
   "source": [
    "변경라인컬럼"
   ]
  },
  {
   "cell_type": "code",
   "execution_count": 36,
   "metadata": {
    "collapsed": true
   },
   "outputs": [],
   "source": [
    "변경라인컬럼.index.names = ['라인번호', '컬럼명']"
   ]
  },
  {
   "cell_type": "code",
   "execution_count": 37,
   "metadata": {},
   "outputs": [
    {
     "data": {
      "text/html": [
       "<div>\n",
       "<style>\n",
       "    .dataframe thead tr:only-child th {\n",
       "        text-align: right;\n",
       "    }\n",
       "\n",
       "    .dataframe thead th {\n",
       "        text-align: left;\n",
       "    }\n",
       "\n",
       "    .dataframe tbody tr th {\n",
       "        vertical-align: top;\n",
       "    }\n",
       "</style>\n",
       "<table border=\"1\" class=\"dataframe\">\n",
       "  <thead>\n",
       "    <tr style=\"text-align: right;\">\n",
       "      <th></th>\n",
       "      <th></th>\n",
       "      <th>0</th>\n",
       "    </tr>\n",
       "    <tr>\n",
       "      <th>라인번호</th>\n",
       "      <th>컬럼명</th>\n",
       "      <th></th>\n",
       "    </tr>\n",
       "  </thead>\n",
       "  <tbody>\n",
       "    <tr>\n",
       "      <th rowspan=\"2\" valign=\"top\">2</th>\n",
       "      <th>전화번호</th>\n",
       "      <td>True</td>\n",
       "    </tr>\n",
       "    <tr>\n",
       "      <th>주소</th>\n",
       "      <td>True</td>\n",
       "    </tr>\n",
       "    <tr>\n",
       "      <th>4</th>\n",
       "      <th>대출잔액</th>\n",
       "      <td>True</td>\n",
       "    </tr>\n",
       "    <tr>\n",
       "      <th>10</th>\n",
       "      <th>예금잔액</th>\n",
       "      <td>True</td>\n",
       "    </tr>\n",
       "    <tr>\n",
       "      <th>11</th>\n",
       "      <th>전화번호</th>\n",
       "      <td>True</td>\n",
       "    </tr>\n",
       "  </tbody>\n",
       "</table>\n",
       "</div>"
      ],
      "text/plain": [
       "              0\n",
       "라인번호 컬럼명       \n",
       "2    전화번호  True\n",
       "     주소    True\n",
       "4    대출잔액  True\n",
       "10   예금잔액  True\n",
       "11   전화번호  True"
      ]
     },
     "execution_count": 37,
     "metadata": {},
     "output_type": "execute_result"
    }
   ],
   "source": [
    "pd.DataFrame(변경라인컬럼)"
   ]
  },
  {
   "cell_type": "markdown",
   "metadata": {},
   "source": [
    "---"
   ]
  },
  {
   "cell_type": "markdown",
   "metadata": {},
   "source": [
    "### 2.3 변경된 위치의 컬럼 값 비교"
   ]
  },
  {
   "cell_type": "code",
   "execution_count": 38,
   "metadata": {
    "collapsed": true
   },
   "outputs": [],
   "source": [
    "import numpy as np"
   ]
  },
  {
   "cell_type": "markdown",
   "metadata": {},
   "source": [
    "#### numpy를 이용하여 변경된 위치를 행/렬 정보 찾기\n",
    "- numpy.where() 함수는 데이터프레임 내에서 True인 위치 정보를 추출"
   ]
  },
  {
   "cell_type": "code",
   "execution_count": 41,
   "metadata": {
    "collapsed": true
   },
   "outputs": [],
   "source": [
    "변경위치 = np.where(고객정보_V1 != 고객정보_V2)"
   ]
  },
  {
   "cell_type": "code",
   "execution_count": 42,
   "metadata": {},
   "outputs": [
    {
     "data": {
      "text/plain": [
       "(array([0, 0, 2, 8, 9], dtype=int64), array([3, 5, 8, 7, 3], dtype=int64))"
      ]
     },
     "execution_count": 42,
     "metadata": {},
     "output_type": "execute_result"
    }
   ],
   "source": [
    "변경위치"
   ]
  },
  {
   "cell_type": "markdown",
   "metadata": {},
   "source": [
    "#### 두 데이터프레임의 변경된 위치의 컬럼값 저장"
   ]
  },
  {
   "cell_type": "code",
   "execution_count": 43,
   "metadata": {},
   "outputs": [
    {
     "data": {
      "text/plain": [
       "array(['010-1111-2222', '서울시 강서구 화곡동 22-5', 8500000, 5000000,\n",
       "       '010-1010-3939'], dtype=object)"
      ]
     },
     "execution_count": 43,
     "metadata": {},
     "output_type": "execute_result"
    }
   ],
   "source": [
    "V1 = 고객정보_V1.values[변경위치]\n",
    "V1"
   ]
  },
  {
   "cell_type": "code",
   "execution_count": 44,
   "metadata": {},
   "outputs": [
    {
     "data": {
      "text/plain": [
       "array(['010-1111-1111', '서울시 양천구 목동 12-3', 8000000, 5200000,\n",
       "       '010-1010-2020'], dtype=object)"
      ]
     },
     "execution_count": 44,
     "metadata": {},
     "output_type": "execute_result"
    }
   ],
   "source": [
    "V2 = 고객정보_V2.values[변경위치]\n",
    "V2"
   ]
  },
  {
   "cell_type": "markdown",
   "metadata": {},
   "source": [
    "#### 두 데이터프레임의 변경된 위치 컬럼값으로 데이터프레임 생성"
   ]
  },
  {
   "cell_type": "markdown",
   "metadata": {},
   "source": [
    "- pd.DataFrame([리스트])\n",
    "- pd.DataFrame({'컬럼명': 리스트, '컬럼명': 리스트})"
   ]
  },
  {
   "cell_type": "code",
   "execution_count": 45,
   "metadata": {},
   "outputs": [
    {
     "data": {
      "text/html": [
       "<div>\n",
       "<style>\n",
       "    .dataframe thead tr:only-child th {\n",
       "        text-align: right;\n",
       "    }\n",
       "\n",
       "    .dataframe thead th {\n",
       "        text-align: left;\n",
       "    }\n",
       "\n",
       "    .dataframe tbody tr th {\n",
       "        vertical-align: top;\n",
       "    }\n",
       "</style>\n",
       "<table border=\"1\" class=\"dataframe\">\n",
       "  <thead>\n",
       "    <tr style=\"text-align: right;\">\n",
       "      <th></th>\n",
       "      <th>고객정보_V1</th>\n",
       "      <th>고객정보_V2</th>\n",
       "    </tr>\n",
       "  </thead>\n",
       "  <tbody>\n",
       "    <tr>\n",
       "      <th>0</th>\n",
       "      <td>010-1111-2222</td>\n",
       "      <td>010-1111-1111</td>\n",
       "    </tr>\n",
       "    <tr>\n",
       "      <th>1</th>\n",
       "      <td>서울시 강서구 화곡동 22-5</td>\n",
       "      <td>서울시 양천구 목동 12-3</td>\n",
       "    </tr>\n",
       "    <tr>\n",
       "      <th>2</th>\n",
       "      <td>8500000</td>\n",
       "      <td>8000000</td>\n",
       "    </tr>\n",
       "    <tr>\n",
       "      <th>3</th>\n",
       "      <td>5000000</td>\n",
       "      <td>5200000</td>\n",
       "    </tr>\n",
       "    <tr>\n",
       "      <th>4</th>\n",
       "      <td>010-1010-3939</td>\n",
       "      <td>010-1010-2020</td>\n",
       "    </tr>\n",
       "  </tbody>\n",
       "</table>\n",
       "</div>"
      ],
      "text/plain": [
       "            고객정보_V1          고객정보_V2\n",
       "0     010-1111-2222    010-1111-1111\n",
       "1  서울시 강서구 화곡동 22-5  서울시 양천구 목동 12-3\n",
       "2           8500000          8000000\n",
       "3           5000000          5200000\n",
       "4     010-1010-3939    010-1010-2020"
      ]
     },
     "execution_count": 45,
     "metadata": {},
     "output_type": "execute_result"
    }
   ],
   "source": [
    "변경된컬럼값 = pd.DataFrame({'고객정보_V1': V1, '고객정보_V2': V2})\n",
    "변경된컬럼값"
   ]
  },
  {
   "cell_type": "markdown",
   "metadata": {},
   "source": [
    "#### 변경된 라인 컬럼 정보와 변경된 컬럼 값 병합"
   ]
  },
  {
   "cell_type": "code",
   "execution_count": 46,
   "metadata": {
    "collapsed": true
   },
   "outputs": [],
   "source": [
    "변경된컬럼값.index = 변경라인컬럼.index"
   ]
  },
  {
   "cell_type": "code",
   "execution_count": 47,
   "metadata": {},
   "outputs": [
    {
     "data": {
      "text/html": [
       "<div>\n",
       "<style>\n",
       "    .dataframe thead tr:only-child th {\n",
       "        text-align: right;\n",
       "    }\n",
       "\n",
       "    .dataframe thead th {\n",
       "        text-align: left;\n",
       "    }\n",
       "\n",
       "    .dataframe tbody tr th {\n",
       "        vertical-align: top;\n",
       "    }\n",
       "</style>\n",
       "<table border=\"1\" class=\"dataframe\">\n",
       "  <thead>\n",
       "    <tr style=\"text-align: right;\">\n",
       "      <th></th>\n",
       "      <th></th>\n",
       "      <th>고객정보_V1</th>\n",
       "      <th>고객정보_V2</th>\n",
       "    </tr>\n",
       "    <tr>\n",
       "      <th>라인번호</th>\n",
       "      <th>컬럼명</th>\n",
       "      <th></th>\n",
       "      <th></th>\n",
       "    </tr>\n",
       "  </thead>\n",
       "  <tbody>\n",
       "    <tr>\n",
       "      <th rowspan=\"2\" valign=\"top\">2</th>\n",
       "      <th>전화번호</th>\n",
       "      <td>010-1111-2222</td>\n",
       "      <td>010-1111-1111</td>\n",
       "    </tr>\n",
       "    <tr>\n",
       "      <th>주소</th>\n",
       "      <td>서울시 강서구 화곡동 22-5</td>\n",
       "      <td>서울시 양천구 목동 12-3</td>\n",
       "    </tr>\n",
       "    <tr>\n",
       "      <th>4</th>\n",
       "      <th>대출잔액</th>\n",
       "      <td>8500000</td>\n",
       "      <td>8000000</td>\n",
       "    </tr>\n",
       "    <tr>\n",
       "      <th>10</th>\n",
       "      <th>예금잔액</th>\n",
       "      <td>5000000</td>\n",
       "      <td>5200000</td>\n",
       "    </tr>\n",
       "    <tr>\n",
       "      <th>11</th>\n",
       "      <th>전화번호</th>\n",
       "      <td>010-1010-3939</td>\n",
       "      <td>010-1010-2020</td>\n",
       "    </tr>\n",
       "  </tbody>\n",
       "</table>\n",
       "</div>"
      ],
      "text/plain": [
       "                    고객정보_V1          고객정보_V2\n",
       "라인번호 컬럼명                                    \n",
       "2    전화번호     010-1111-2222    010-1111-1111\n",
       "     주소    서울시 강서구 화곡동 22-5  서울시 양천구 목동 12-3\n",
       "4    대출잔액           8500000          8000000\n",
       "10   예금잔액           5000000          5200000\n",
       "11   전화번호     010-1010-3939    010-1010-2020"
      ]
     },
     "execution_count": 47,
     "metadata": {},
     "output_type": "execute_result"
    }
   ],
   "source": [
    "변경된컬럼값"
   ]
  },
  {
   "cell_type": "code",
   "execution_count": null,
   "metadata": {
    "collapsed": true
   },
   "outputs": [],
   "source": []
  }
 ],
 "metadata": {
  "kernelspec": {
   "display_name": "Python 3",
   "language": "python",
   "name": "python3"
  },
  "language_info": {
   "codemirror_mode": {
    "name": "ipython",
    "version": 3
   },
   "file_extension": ".py",
   "mimetype": "text/x-python",
   "name": "python",
   "nbconvert_exporter": "python",
   "pygments_lexer": "ipython3",
   "version": "3.6.1"
  }
 },
 "nbformat": 4,
 "nbformat_minor": 2
}
