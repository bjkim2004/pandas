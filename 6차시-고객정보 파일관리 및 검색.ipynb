{
 "cells": [
  {
   "cell_type": "markdown",
   "metadata": {},
   "source": [
    "# 6차시 : 고객정보 파일관리 및 검색"
   ]
  },
  {
   "cell_type": "markdown",
   "metadata": {},
   "source": [
    "---"
   ]
  },
  {
   "cell_type": "markdown",
   "metadata": {},
   "source": [
    "## 1. 고객정보 파일관리"
   ]
  },
  {
   "cell_type": "markdown",
   "metadata": {},
   "source": [
    "### 1.1 디렉토리 변경"
   ]
  },
  {
   "cell_type": "markdown",
   "metadata": {},
   "source": [
    "---"
   ]
  },
  {
   "cell_type": "code",
   "execution_count": 1,
   "metadata": {
    "collapsed": true
   },
   "outputs": [],
   "source": [
    "import os"
   ]
  },
  {
   "cell_type": "markdown",
   "metadata": {},
   "source": [
    "#### 현재 디렉토리 "
   ]
  },
  {
   "cell_type": "code",
   "execution_count": 2,
   "metadata": {},
   "outputs": [
    {
     "data": {
      "text/plain": [
       "'D:\\\\파이썬\\\\소스\\\\20180912\\\\6차시'"
      ]
     },
     "execution_count": 2,
     "metadata": {},
     "output_type": "execute_result"
    }
   ],
   "source": [
    "os.getcwd()"
   ]
  },
  {
   "cell_type": "markdown",
   "metadata": {},
   "source": [
    "#### 디렉토리 변경"
   ]
  },
  {
   "cell_type": "code",
   "execution_count": 3,
   "metadata": {
    "collapsed": true
   },
   "outputs": [],
   "source": [
    "os.chdir('..')"
   ]
  },
  {
   "cell_type": "code",
   "execution_count": 4,
   "metadata": {},
   "outputs": [
    {
     "data": {
      "text/plain": [
       "'D:\\\\파이썬\\\\소스\\\\20180912'"
      ]
     },
     "execution_count": 4,
     "metadata": {},
     "output_type": "execute_result"
    }
   ],
   "source": [
    "현재디렉토리 = os.getcwd()\n",
    "현재디렉토리"
   ]
  },
  {
   "cell_type": "markdown",
   "metadata": {},
   "source": [
    "---"
   ]
  },
  {
   "cell_type": "markdown",
   "metadata": {},
   "source": [
    "### 1.2 디렉토리 및 파일 검색"
   ]
  },
  {
   "cell_type": "markdown",
   "metadata": {},
   "source": [
    "#### 디렉토리와 파일 검색"
   ]
  },
  {
   "cell_type": "code",
   "execution_count": 5,
   "metadata": {},
   "outputs": [
    {
     "name": "stdout",
     "output_type": "stream",
     "text": [
      "D:\\파이썬\\소스\\20180912-파이썬시작.bat\n",
      "D:\\파이썬\\소스\\20180912\\10차시-10차시-고객정보 병합 및 파일 비교.ipynb\n",
      "D:\\파이썬\\소스\\20180912\\10차시\\.ipynb_checkpoints-10차시-고객정보 병합 및 파일 비교-checkpoint.ipynb\n",
      "D:\\파이썬\\소스\\20180912\\데이터-고객기본정보.xlsx\n",
      "D:\\파이썬\\소스\\20180912\\데이터-고객부가정보.xlsx\n",
      "D:\\파이썬\\소스\\20180912\\데이터-고객정보_V1.xlsx\n",
      "D:\\파이썬\\소스\\20180912\\데이터-고객정보_V2.xlsx\n",
      "D:\\파이썬\\소스\\20180912\\데이터-고객정보.xlsx\n",
      "D:\\파이썬\\소스\\20180912\\데이터-고객정보2.xlsx\n",
      "D:\\파이썬\\소스\\20180912\\9차시-9차시-고객정보 컬럼 관리.ipynb\n",
      "D:\\파이썬\\소스\\20180912\\9차시\\.ipynb_checkpoints-9차시-고객정보 컬럼 관리-checkpoint.ipynb\n",
      "D:\\파이썬\\소스\\20180912\\6차시-6차시-고객정보 파일관리 및 검색.ipynb\n",
      "D:\\파이썬\\소스\\20180912\\6차시-고객정보_복사본.xlsx\n",
      "D:\\파이썬\\소스\\20180912\\6차시\\.ipynb_checkpoints-6차시-고객정보 파일관리 및 검색-checkpoint.ipynb\n",
      "D:\\파이썬\\소스\\20180912\\8차시-8차시-고객정보 쉬트 분할 및 통합.ipynb\n",
      "D:\\파이썬\\소스\\20180912\\8차시-고객정보_쉬트분할.xlsx\n",
      "D:\\파이썬\\소스\\20180912\\8차시\\.ipynb_checkpoints-8차시-고객정보 쉬트 분할 및 통합-checkpoint.ipynb\n",
      "D:\\파이썬\\소스\\20180912\\8차시\\.ipynb_checkpoints-9차시-고객정보 컬럼 관리-checkpoint.ipynb\n",
      "D:\\파이썬\\소스\\20180912\\0차시-차시소개.ipynb\n",
      "D:\\파이썬\\소스\\20180912\\0차시-프로그램순서.JPG\n",
      "D:\\파이썬\\소스\\20180912\\0차시\\.ipynb_checkpoints-차시소개-checkpoint.ipynb\n",
      "D:\\파이썬\\소스\\20180912\\1차시-1차시-예금계산기-실습용.ipynb\n",
      "D:\\파이썬\\소스\\20180912\\1차시-단리예금계산공식.JPG\n",
      "D:\\파이썬\\소스\\20180912\\1차시-복리예금계산공식.JPG\n",
      "D:\\파이썬\\소스\\20180912\\1차시\\.ipynb_checkpoints-1차시-예금계산기-checkpoint.ipynb\n",
      "D:\\파이썬\\소스\\20180912\\1차시\\.ipynb_checkpoints-1차시-예금계산기-실습용-checkpoint.ipynb\n",
      "D:\\파이썬\\소스\\20180912\\1차시\\.ipynb_checkpoints-DTI계산기_Pandas소개-checkpoint.ipynb\n",
      "D:\\파이썬\\소스\\20180912\\2차시-2차시-적금계산기-실습용.ipynb\n",
      "D:\\파이썬\\소스\\20180912\\2차시-납입기준적금단리계산공식.JPG\n",
      "D:\\파이썬\\소스\\20180912\\2차시-납입기준적금복리계산공식.JPG\n",
      "D:\\파이썬\\소스\\20180912\\2차시-목표금액기준적금단리계산공식.JPG\n",
      "D:\\파이썬\\소스\\20180912\\2차시-목표금액기준적금복리계산공식.JPG\n",
      "D:\\파이썬\\소스\\20180912\\2차시-목표금액복리적금계산.txt\n",
      "D:\\파이썬\\소스\\20180912\\2차시\\.ipynb_checkpoints-2차시-적금계산기-checkpoint.ipynb\n",
      "D:\\파이썬\\소스\\20180912\\2차시\\.ipynb_checkpoints-2차시-적금계산기-실습용-checkpoint.ipynb\n",
      "D:\\파이썬\\소스\\20180912\\2차시\\.ipynb_checkpoints-취득세계산기-checkpoint.ipynb\n",
      "D:\\파이썬\\소스\\20180912\\3차시-3차시-대출금계산기-실습용.ipynb\n",
      "D:\\파이썬\\소스\\20180912\\3차시-데이터프레임.JPG\n",
      "D:\\파이썬\\소스\\20180912\\3차시-원리금균등분할상환공식.JPG\n",
      "D:\\파이썬\\소스\\20180912\\3차시-이름.xlsx\n",
      "D:\\파이썬\\소스\\20180912\\3차시-회차별대출금.xlsx\n",
      "D:\\파이썬\\소스\\20180912\\3차시\\.ipynb_checkpoints-3차시-대출금계산기-checkpoint.ipynb\n",
      "D:\\파이썬\\소스\\20180912\\3차시\\.ipynb_checkpoints-3차시-대출금계산기-실습용-checkpoint.ipynb\n",
      "D:\\파이썬\\소스\\20180912\\4차시-4차시-취득세계산기-실습용.ipynb\n",
      "D:\\파이썬\\소스\\20180912\\4차시-DTI계산공식.JPG\n",
      "D:\\파이썬\\소스\\20180912\\4차시-주택취득세.JPG\n",
      "D:\\파이썬\\소스\\20180912\\4차시-주택취득세.xlsx\n",
      "D:\\파이썬\\소스\\20180912\\4차시-주택취득세율.xlsx\n",
      "D:\\파이썬\\소스\\20180912\\4차시\\.ipynb_checkpoints-4차시-취득세계산기-실습용-checkpoint.ipynb\n",
      "D:\\파이썬\\소스\\20180912\\5차시-5차시-DTI계산기-실습용.ipynb\n",
      "D:\\파이썬\\소스\\20180912\\5차시-DTI계산공식.JPG\n",
      "D:\\파이썬\\소스\\20180912\\5차시\\.ipynb_checkpoints-5차시-DTI계산기-실습용-checkpoint.ipynb\n",
      "D:\\파이썬\\소스\\20180912\\7차시-7차시-고객정보 파일 관리.ipynb\n",
      "D:\\파이썬\\소스\\20180912\\7차시-고객정보_광주시.xlsx\n",
      "D:\\파이썬\\소스\\20180912\\7차시-고객정보_대구시.xlsx\n",
      "D:\\파이썬\\소스\\20180912\\7차시-고객정보_대전시.xlsx\n",
      "D:\\파이썬\\소스\\20180912\\7차시-고객정보_부산시.xlsx\n",
      "D:\\파이썬\\소스\\20180912\\7차시-고객정보_서울시.xlsx\n",
      "D:\\파이썬\\소스\\20180912\\7차시-고객정보_인천시.xlsx\n",
      "D:\\파이썬\\소스\\20180912\\7차시-고객정보_제주시.xlsx\n",
      "D:\\파이썬\\소스\\20180912\\7차시-고객정보_통합.xlsx\n",
      "D:\\파이썬\\소스\\20180912\\7차시\\.ipynb_checkpoints-7차시-고객정보 파일 관리-checkpoint.ipynb\n",
      "D:\\파이썬\\소스\\20180912\\참고-엑셀파일쓰기.ipynb\n",
      "D:\\파이썬\\소스\\20180912\\참고\\.ipynb_checkpoints-엑셀파일쓰기-checkpoint.ipynb\n"
     ]
    }
   ],
   "source": [
    "for 경로명, 디렉토리목록, 파일목록 in os.walk(현재디렉토리):\n",
    "    for 파일명 in 파일목록:\n",
    "        print(경로명 + '-' + 파일명)"
   ]
  },
  {
   "cell_type": "markdown",
   "metadata": {},
   "source": [
    "#### 고객정보 파일 검색"
   ]
  },
  {
   "cell_type": "code",
   "execution_count": 6,
   "metadata": {
    "collapsed": true
   },
   "outputs": [],
   "source": [
    "고객정보_파일명 = '고객정보.xlsx'\n",
    "파일디렉토리 = ''"
   ]
  },
  {
   "cell_type": "code",
   "execution_count": 7,
   "metadata": {},
   "outputs": [
    {
     "name": "stdout",
     "output_type": "stream",
     "text": [
      "D:\\파이썬\\소스\\20180912\\데이터-고객정보.xlsx\n"
     ]
    }
   ],
   "source": [
    "for 경로명, 디렉토리목록, 파일목록 in os.walk(현재디렉토리):\n",
    "    for 파일명 in 파일목록:\n",
    "        if 파일명 == 고객정보_파일명:\n",
    "            파일디렉토리 = 경로명\n",
    "            print(경로명 + '-' + 파일명)"
   ]
  },
  {
   "cell_type": "markdown",
   "metadata": {},
   "source": [
    "---"
   ]
  },
  {
   "cell_type": "markdown",
   "metadata": {},
   "source": [
    "### 1.3 검색된 파일 복사"
   ]
  },
  {
   "cell_type": "markdown",
   "metadata": {},
   "source": [
    "#### 고객정보 파일 복사"
   ]
  },
  {
   "cell_type": "code",
   "execution_count": 8,
   "metadata": {},
   "outputs": [
    {
     "data": {
      "text/plain": [
       "'D:\\\\파이썬\\\\소스\\\\20180912\\\\데이터'"
      ]
     },
     "execution_count": 8,
     "metadata": {},
     "output_type": "execute_result"
    }
   ],
   "source": [
    "파일디렉토리"
   ]
  },
  {
   "cell_type": "code",
   "execution_count": 9,
   "metadata": {},
   "outputs": [
    {
     "data": {
      "text/plain": [
       "'D:\\\\파이썬\\\\소스\\\\20180912\\\\데이터\\\\고객정보.xlsx'"
      ]
     },
     "execution_count": 9,
     "metadata": {},
     "output_type": "execute_result"
    }
   ],
   "source": [
    "디렉토리_파일명 = os.path.join(파일디렉토리, 고객정보_파일명)\n",
    "디렉토리_파일명"
   ]
  },
  {
   "cell_type": "code",
   "execution_count": 10,
   "metadata": {
    "collapsed": true
   },
   "outputs": [],
   "source": [
    "복사디렉토리_파일명 = os.path.join(현재디렉토리, '6차시', '고객정보_복사본.xlsx')"
   ]
  },
  {
   "cell_type": "code",
   "execution_count": 11,
   "metadata": {},
   "outputs": [
    {
     "data": {
      "text/plain": [
       "'D:\\\\파이썬\\\\소스\\\\20180912\\\\6차시\\\\고객정보_복사본.xlsx'"
      ]
     },
     "execution_count": 11,
     "metadata": {},
     "output_type": "execute_result"
    }
   ],
   "source": [
    "복사디렉토리_파일명"
   ]
  },
  {
   "cell_type": "code",
   "execution_count": 12,
   "metadata": {
    "collapsed": true
   },
   "outputs": [],
   "source": [
    "import shutil"
   ]
  },
  {
   "cell_type": "code",
   "execution_count": 13,
   "metadata": {},
   "outputs": [
    {
     "data": {
      "text/plain": [
       "'D:\\\\파이썬\\\\소스\\\\20180912\\\\6차시\\\\고객정보_복사본.xlsx'"
      ]
     },
     "execution_count": 13,
     "metadata": {},
     "output_type": "execute_result"
    }
   ],
   "source": [
    "shutil.copy2(디렉토리_파일명, 복사디렉토리_파일명)"
   ]
  },
  {
   "cell_type": "markdown",
   "metadata": {
    "collapsed": true
   },
   "source": [
    "---"
   ]
  },
  {
   "cell_type": "markdown",
   "metadata": {},
   "source": [
    "## 2. 고객정보 검색"
   ]
  },
  {
   "cell_type": "code",
   "execution_count": 14,
   "metadata": {
    "collapsed": true
   },
   "outputs": [],
   "source": [
    "import pandas as pd"
   ]
  },
  {
   "cell_type": "code",
   "execution_count": 15,
   "metadata": {},
   "outputs": [
    {
     "data": {
      "text/plain": [
       "'D:\\\\파이썬\\\\소스\\\\20180912\\\\데이터\\\\고객정보.xlsx'"
      ]
     },
     "execution_count": 15,
     "metadata": {},
     "output_type": "execute_result"
    }
   ],
   "source": [
    "디렉토리_파일명"
   ]
  },
  {
   "cell_type": "code",
   "execution_count": 16,
   "metadata": {},
   "outputs": [],
   "source": [
    "고객정보 = pd.read_excel(디렉토리_파일명)"
   ]
  },
  {
   "cell_type": "code",
   "execution_count": 17,
   "metadata": {},
   "outputs": [
    {
     "data": {
      "text/html": [
       "<div>\n",
       "<style>\n",
       "    .dataframe thead tr:only-child th {\n",
       "        text-align: right;\n",
       "    }\n",
       "\n",
       "    .dataframe thead th {\n",
       "        text-align: left;\n",
       "    }\n",
       "\n",
       "    .dataframe tbody tr th {\n",
       "        vertical-align: top;\n",
       "    }\n",
       "</style>\n",
       "<table border=\"1\" class=\"dataframe\">\n",
       "  <thead>\n",
       "    <tr style=\"text-align: right;\">\n",
       "      <th></th>\n",
       "      <th>고객번호</th>\n",
       "      <th>성명</th>\n",
       "      <th>영문명</th>\n",
       "      <th>전화번호</th>\n",
       "      <th>메일주소</th>\n",
       "      <th>주소</th>\n",
       "      <th>생일</th>\n",
       "      <th>예금잔액</th>\n",
       "      <th>대출잔액</th>\n",
       "      <th>등록일</th>\n",
       "    </tr>\n",
       "  </thead>\n",
       "  <tbody>\n",
       "    <tr>\n",
       "      <th>0</th>\n",
       "      <td>C001</td>\n",
       "      <td>제우스</td>\n",
       "      <td>Zeus</td>\n",
       "      <td>010-1111-2222</td>\n",
       "      <td>zeus@abc.com</td>\n",
       "      <td>서울시 양천구 목동 12-3</td>\n",
       "      <td>1965-02-03</td>\n",
       "      <td>1000000</td>\n",
       "      <td>10000000</td>\n",
       "      <td>2015-05-01</td>\n",
       "    </tr>\n",
       "    <tr>\n",
       "      <th>1</th>\n",
       "      <td>C002</td>\n",
       "      <td>헤라</td>\n",
       "      <td>Hera</td>\n",
       "      <td>010-2222-3333</td>\n",
       "      <td>hera@bcd.com</td>\n",
       "      <td>서울시 강남구 역삼동 13-4</td>\n",
       "      <td>1974-09-23</td>\n",
       "      <td>1500000</td>\n",
       "      <td>9000000</td>\n",
       "      <td>2016-08-24</td>\n",
       "    </tr>\n",
       "    <tr>\n",
       "      <th>2</th>\n",
       "      <td>C003</td>\n",
       "      <td>데메테르</td>\n",
       "      <td>Demeter</td>\n",
       "      <td>010-3333-4444</td>\n",
       "      <td>demeter@def.cc.com</td>\n",
       "      <td>서울시 송파구 잠실동 15-5</td>\n",
       "      <td>1978-12-20</td>\n",
       "      <td>2000000</td>\n",
       "      <td>8000000</td>\n",
       "      <td>2018-06-02</td>\n",
       "    </tr>\n",
       "    <tr>\n",
       "      <th>3</th>\n",
       "      <td>C004</td>\n",
       "      <td>디오니소스</td>\n",
       "      <td>Dionysos</td>\n",
       "      <td>010-4444-5555</td>\n",
       "      <td>dionysos@efg.com</td>\n",
       "      <td>서울시 성북구 성북동 22-1</td>\n",
       "      <td>1972-05-30</td>\n",
       "      <td>2500000</td>\n",
       "      <td>7000000</td>\n",
       "      <td>2017-12-23</td>\n",
       "    </tr>\n",
       "    <tr>\n",
       "      <th>4</th>\n",
       "      <td>C005</td>\n",
       "      <td>아레스</td>\n",
       "      <td>Ares</td>\n",
       "      <td>010-5555-6666</td>\n",
       "      <td>ares@fgh.com</td>\n",
       "      <td>서울시 강동구 상일동 10-3</td>\n",
       "      <td>1988-03-09</td>\n",
       "      <td>3000000</td>\n",
       "      <td>6000000</td>\n",
       "      <td>2015-09-07</td>\n",
       "    </tr>\n",
       "    <tr>\n",
       "      <th>5</th>\n",
       "      <td>C006</td>\n",
       "      <td>아르테미스</td>\n",
       "      <td>Artemis</td>\n",
       "      <td>010-6666-7777</td>\n",
       "      <td>artemis@ghi.com</td>\n",
       "      <td>서울시 강서구 방화동 29-7</td>\n",
       "      <td>1970-12-01</td>\n",
       "      <td>3500000</td>\n",
       "      <td>5000000</td>\n",
       "      <td>2016-01-06</td>\n",
       "    </tr>\n",
       "    <tr>\n",
       "      <th>6</th>\n",
       "      <td>C007</td>\n",
       "      <td>아테나</td>\n",
       "      <td>Athena</td>\n",
       "      <td>010-7777-8888</td>\n",
       "      <td>athena@hij.com</td>\n",
       "      <td>인천시 남구 도화동 36-9</td>\n",
       "      <td>1990-07-12</td>\n",
       "      <td>4000000</td>\n",
       "      <td>4000000</td>\n",
       "      <td>2018-05-08</td>\n",
       "    </tr>\n",
       "    <tr>\n",
       "      <th>7</th>\n",
       "      <td>C008</td>\n",
       "      <td>아폴론</td>\n",
       "      <td>Apollon</td>\n",
       "      <td>010-8888-9999</td>\n",
       "      <td>apollon@ijk.com</td>\n",
       "      <td>대전시 중구 은행동 34-5</td>\n",
       "      <td>1982-06-12</td>\n",
       "      <td>4500000</td>\n",
       "      <td>3000000</td>\n",
       "      <td>2018-02-24</td>\n",
       "    </tr>\n",
       "    <tr>\n",
       "      <th>8</th>\n",
       "      <td>C009</td>\n",
       "      <td>아프로디테</td>\n",
       "      <td>Aphrodite</td>\n",
       "      <td>010-9999-1010</td>\n",
       "      <td>aphrodite@jkl.com</td>\n",
       "      <td>부산시 부산진구 양정동 59-7</td>\n",
       "      <td>1991-04-07</td>\n",
       "      <td>5000000</td>\n",
       "      <td>2000000</td>\n",
       "      <td>2017-11-21</td>\n",
       "    </tr>\n",
       "    <tr>\n",
       "      <th>9</th>\n",
       "      <td>C010</td>\n",
       "      <td>포세이돈</td>\n",
       "      <td>Poseidon</td>\n",
       "      <td>010-1010-2020</td>\n",
       "      <td>poseidon@klm.com</td>\n",
       "      <td>대구시 수성구 범어동 78-2</td>\n",
       "      <td>1987-01-18</td>\n",
       "      <td>5500000</td>\n",
       "      <td>1000000</td>\n",
       "      <td>2016-03-11</td>\n",
       "    </tr>\n",
       "    <tr>\n",
       "      <th>10</th>\n",
       "      <td>C011</td>\n",
       "      <td>헤르메스</td>\n",
       "      <td>Hermes</td>\n",
       "      <td>010-2020-3030</td>\n",
       "      <td>hermes@lmn.com</td>\n",
       "      <td>광주시 남구 월산동 23-5</td>\n",
       "      <td>1995-09-07</td>\n",
       "      <td>6000000</td>\n",
       "      <td>500000</td>\n",
       "      <td>2015-04-11</td>\n",
       "    </tr>\n",
       "    <tr>\n",
       "      <th>11</th>\n",
       "      <td>C012</td>\n",
       "      <td>헤파이스토스</td>\n",
       "      <td>Hephaistos</td>\n",
       "      <td>010-3030-4040</td>\n",
       "      <td>hephaistos@mno.com</td>\n",
       "      <td>제주시 용강동 11-1</td>\n",
       "      <td>1966-08-03</td>\n",
       "      <td>6500000</td>\n",
       "      <td>300000</td>\n",
       "      <td>2016-10-05</td>\n",
       "    </tr>\n",
       "  </tbody>\n",
       "</table>\n",
       "</div>"
      ],
      "text/plain": [
       "    고객번호      성명         영문명           전화번호                메일주소  \\\n",
       "0   C001     제우스        Zeus  010-1111-2222        zeus@abc.com   \n",
       "1   C002      헤라        Hera  010-2222-3333        hera@bcd.com   \n",
       "2   C003    데메테르     Demeter  010-3333-4444  demeter@def.cc.com   \n",
       "3   C004   디오니소스    Dionysos  010-4444-5555    dionysos@efg.com   \n",
       "4   C005     아레스        Ares  010-5555-6666        ares@fgh.com   \n",
       "5   C006   아르테미스     Artemis  010-6666-7777     artemis@ghi.com   \n",
       "6   C007     아테나      Athena  010-7777-8888      athena@hij.com   \n",
       "7   C008     아폴론     Apollon  010-8888-9999     apollon@ijk.com   \n",
       "8   C009   아프로디테   Aphrodite  010-9999-1010   aphrodite@jkl.com   \n",
       "9   C010    포세이돈    Poseidon  010-1010-2020    poseidon@klm.com   \n",
       "10  C011    헤르메스      Hermes  010-2020-3030      hermes@lmn.com   \n",
       "11  C012  헤파이스토스  Hephaistos  010-3030-4040  hephaistos@mno.com   \n",
       "\n",
       "                   주소         생일     예금잔액      대출잔액        등록일  \n",
       "0     서울시 양천구 목동 12-3 1965-02-03  1000000  10000000 2015-05-01  \n",
       "1    서울시 강남구 역삼동 13-4 1974-09-23  1500000   9000000 2016-08-24  \n",
       "2    서울시 송파구 잠실동 15-5 1978-12-20  2000000   8000000 2018-06-02  \n",
       "3    서울시 성북구 성북동 22-1 1972-05-30  2500000   7000000 2017-12-23  \n",
       "4    서울시 강동구 상일동 10-3 1988-03-09  3000000   6000000 2015-09-07  \n",
       "5    서울시 강서구 방화동 29-7 1970-12-01  3500000   5000000 2016-01-06  \n",
       "6     인천시 남구 도화동 36-9 1990-07-12  4000000   4000000 2018-05-08  \n",
       "7     대전시 중구 은행동 34-5 1982-06-12  4500000   3000000 2018-02-24  \n",
       "8   부산시 부산진구 양정동 59-7 1991-04-07  5000000   2000000 2017-11-21  \n",
       "9    대구시 수성구 범어동 78-2 1987-01-18  5500000   1000000 2016-03-11  \n",
       "10    광주시 남구 월산동 23-5 1995-09-07  6000000    500000 2015-04-11  \n",
       "11       제주시 용강동 11-1 1966-08-03  6500000    300000 2016-10-05  "
      ]
     },
     "execution_count": 17,
     "metadata": {},
     "output_type": "execute_result"
    }
   ],
   "source": [
    "고객정보"
   ]
  },
  {
   "cell_type": "markdown",
   "metadata": {},
   "source": [
    "---"
   ]
  },
  {
   "cell_type": "markdown",
   "metadata": {},
   "source": [
    "### 2.1 문자열을 이용한 고객정보 검색"
   ]
  },
  {
   "cell_type": "markdown",
   "metadata": {},
   "source": [
    "#### startswith 함수"
   ]
  },
  {
   "cell_type": "code",
   "execution_count": 18,
   "metadata": {},
   "outputs": [
    {
     "data": {
      "text/html": [
       "<div>\n",
       "<style>\n",
       "    .dataframe thead tr:only-child th {\n",
       "        text-align: right;\n",
       "    }\n",
       "\n",
       "    .dataframe thead th {\n",
       "        text-align: left;\n",
       "    }\n",
       "\n",
       "    .dataframe tbody tr th {\n",
       "        vertical-align: top;\n",
       "    }\n",
       "</style>\n",
       "<table border=\"1\" class=\"dataframe\">\n",
       "  <thead>\n",
       "    <tr style=\"text-align: right;\">\n",
       "      <th></th>\n",
       "      <th>고객번호</th>\n",
       "      <th>성명</th>\n",
       "      <th>영문명</th>\n",
       "      <th>전화번호</th>\n",
       "      <th>메일주소</th>\n",
       "      <th>주소</th>\n",
       "      <th>생일</th>\n",
       "      <th>예금잔액</th>\n",
       "      <th>대출잔액</th>\n",
       "      <th>등록일</th>\n",
       "    </tr>\n",
       "  </thead>\n",
       "  <tbody>\n",
       "    <tr>\n",
       "      <th>4</th>\n",
       "      <td>C005</td>\n",
       "      <td>아레스</td>\n",
       "      <td>Ares</td>\n",
       "      <td>010-5555-6666</td>\n",
       "      <td>ares@fgh.com</td>\n",
       "      <td>서울시 강동구 상일동 10-3</td>\n",
       "      <td>1988-03-09</td>\n",
       "      <td>3000000</td>\n",
       "      <td>6000000</td>\n",
       "      <td>2015-09-07</td>\n",
       "    </tr>\n",
       "    <tr>\n",
       "      <th>5</th>\n",
       "      <td>C006</td>\n",
       "      <td>아르테미스</td>\n",
       "      <td>Artemis</td>\n",
       "      <td>010-6666-7777</td>\n",
       "      <td>artemis@ghi.com</td>\n",
       "      <td>서울시 강서구 방화동 29-7</td>\n",
       "      <td>1970-12-01</td>\n",
       "      <td>3500000</td>\n",
       "      <td>5000000</td>\n",
       "      <td>2016-01-06</td>\n",
       "    </tr>\n",
       "    <tr>\n",
       "      <th>6</th>\n",
       "      <td>C007</td>\n",
       "      <td>아테나</td>\n",
       "      <td>Athena</td>\n",
       "      <td>010-7777-8888</td>\n",
       "      <td>athena@hij.com</td>\n",
       "      <td>인천시 남구 도화동 36-9</td>\n",
       "      <td>1990-07-12</td>\n",
       "      <td>4000000</td>\n",
       "      <td>4000000</td>\n",
       "      <td>2018-05-08</td>\n",
       "    </tr>\n",
       "    <tr>\n",
       "      <th>7</th>\n",
       "      <td>C008</td>\n",
       "      <td>아폴론</td>\n",
       "      <td>Apollon</td>\n",
       "      <td>010-8888-9999</td>\n",
       "      <td>apollon@ijk.com</td>\n",
       "      <td>대전시 중구 은행동 34-5</td>\n",
       "      <td>1982-06-12</td>\n",
       "      <td>4500000</td>\n",
       "      <td>3000000</td>\n",
       "      <td>2018-02-24</td>\n",
       "    </tr>\n",
       "    <tr>\n",
       "      <th>8</th>\n",
       "      <td>C009</td>\n",
       "      <td>아프로디테</td>\n",
       "      <td>Aphrodite</td>\n",
       "      <td>010-9999-1010</td>\n",
       "      <td>aphrodite@jkl.com</td>\n",
       "      <td>부산시 부산진구 양정동 59-7</td>\n",
       "      <td>1991-04-07</td>\n",
       "      <td>5000000</td>\n",
       "      <td>2000000</td>\n",
       "      <td>2017-11-21</td>\n",
       "    </tr>\n",
       "  </tbody>\n",
       "</table>\n",
       "</div>"
      ],
      "text/plain": [
       "   고객번호     성명        영문명           전화번호               메일주소  \\\n",
       "4  C005    아레스       Ares  010-5555-6666       ares@fgh.com   \n",
       "5  C006  아르테미스    Artemis  010-6666-7777    artemis@ghi.com   \n",
       "6  C007    아테나     Athena  010-7777-8888     athena@hij.com   \n",
       "7  C008    아폴론    Apollon  010-8888-9999    apollon@ijk.com   \n",
       "8  C009  아프로디테  Aphrodite  010-9999-1010  aphrodite@jkl.com   \n",
       "\n",
       "                  주소         생일     예금잔액     대출잔액        등록일  \n",
       "4   서울시 강동구 상일동 10-3 1988-03-09  3000000  6000000 2015-09-07  \n",
       "5   서울시 강서구 방화동 29-7 1970-12-01  3500000  5000000 2016-01-06  \n",
       "6    인천시 남구 도화동 36-9 1990-07-12  4000000  4000000 2018-05-08  \n",
       "7    대전시 중구 은행동 34-5 1982-06-12  4500000  3000000 2018-02-24  \n",
       "8  부산시 부산진구 양정동 59-7 1991-04-07  5000000  2000000 2017-11-21  "
      ]
     },
     "execution_count": 18,
     "metadata": {},
     "output_type": "execute_result"
    }
   ],
   "source": [
    "고객정보[고객정보.성명.str.startswith('아')]"
   ]
  },
  {
   "cell_type": "markdown",
   "metadata": {},
   "source": [
    "#### endswith 함수"
   ]
  },
  {
   "cell_type": "code",
   "execution_count": 19,
   "metadata": {},
   "outputs": [
    {
     "data": {
      "text/html": [
       "<div>\n",
       "<style>\n",
       "    .dataframe thead tr:only-child th {\n",
       "        text-align: right;\n",
       "    }\n",
       "\n",
       "    .dataframe thead th {\n",
       "        text-align: left;\n",
       "    }\n",
       "\n",
       "    .dataframe tbody tr th {\n",
       "        vertical-align: top;\n",
       "    }\n",
       "</style>\n",
       "<table border=\"1\" class=\"dataframe\">\n",
       "  <thead>\n",
       "    <tr style=\"text-align: right;\">\n",
       "      <th></th>\n",
       "      <th>고객번호</th>\n",
       "      <th>성명</th>\n",
       "      <th>영문명</th>\n",
       "      <th>전화번호</th>\n",
       "      <th>메일주소</th>\n",
       "      <th>주소</th>\n",
       "      <th>생일</th>\n",
       "      <th>예금잔액</th>\n",
       "      <th>대출잔액</th>\n",
       "      <th>등록일</th>\n",
       "    </tr>\n",
       "  </thead>\n",
       "  <tbody>\n",
       "    <tr>\n",
       "      <th>0</th>\n",
       "      <td>C001</td>\n",
       "      <td>제우스</td>\n",
       "      <td>Zeus</td>\n",
       "      <td>010-1111-2222</td>\n",
       "      <td>zeus@abc.com</td>\n",
       "      <td>서울시 양천구 목동 12-3</td>\n",
       "      <td>1965-02-03</td>\n",
       "      <td>1000000</td>\n",
       "      <td>10000000</td>\n",
       "      <td>2015-05-01</td>\n",
       "    </tr>\n",
       "    <tr>\n",
       "      <th>3</th>\n",
       "      <td>C004</td>\n",
       "      <td>디오니소스</td>\n",
       "      <td>Dionysos</td>\n",
       "      <td>010-4444-5555</td>\n",
       "      <td>dionysos@efg.com</td>\n",
       "      <td>서울시 성북구 성북동 22-1</td>\n",
       "      <td>1972-05-30</td>\n",
       "      <td>2500000</td>\n",
       "      <td>7000000</td>\n",
       "      <td>2017-12-23</td>\n",
       "    </tr>\n",
       "    <tr>\n",
       "      <th>4</th>\n",
       "      <td>C005</td>\n",
       "      <td>아레스</td>\n",
       "      <td>Ares</td>\n",
       "      <td>010-5555-6666</td>\n",
       "      <td>ares@fgh.com</td>\n",
       "      <td>서울시 강동구 상일동 10-3</td>\n",
       "      <td>1988-03-09</td>\n",
       "      <td>3000000</td>\n",
       "      <td>6000000</td>\n",
       "      <td>2015-09-07</td>\n",
       "    </tr>\n",
       "    <tr>\n",
       "      <th>5</th>\n",
       "      <td>C006</td>\n",
       "      <td>아르테미스</td>\n",
       "      <td>Artemis</td>\n",
       "      <td>010-6666-7777</td>\n",
       "      <td>artemis@ghi.com</td>\n",
       "      <td>서울시 강서구 방화동 29-7</td>\n",
       "      <td>1970-12-01</td>\n",
       "      <td>3500000</td>\n",
       "      <td>5000000</td>\n",
       "      <td>2016-01-06</td>\n",
       "    </tr>\n",
       "    <tr>\n",
       "      <th>10</th>\n",
       "      <td>C011</td>\n",
       "      <td>헤르메스</td>\n",
       "      <td>Hermes</td>\n",
       "      <td>010-2020-3030</td>\n",
       "      <td>hermes@lmn.com</td>\n",
       "      <td>광주시 남구 월산동 23-5</td>\n",
       "      <td>1995-09-07</td>\n",
       "      <td>6000000</td>\n",
       "      <td>500000</td>\n",
       "      <td>2015-04-11</td>\n",
       "    </tr>\n",
       "    <tr>\n",
       "      <th>11</th>\n",
       "      <td>C012</td>\n",
       "      <td>헤파이스토스</td>\n",
       "      <td>Hephaistos</td>\n",
       "      <td>010-3030-4040</td>\n",
       "      <td>hephaistos@mno.com</td>\n",
       "      <td>제주시 용강동 11-1</td>\n",
       "      <td>1966-08-03</td>\n",
       "      <td>6500000</td>\n",
       "      <td>300000</td>\n",
       "      <td>2016-10-05</td>\n",
       "    </tr>\n",
       "  </tbody>\n",
       "</table>\n",
       "</div>"
      ],
      "text/plain": [
       "    고객번호      성명         영문명           전화번호                메일주소  \\\n",
       "0   C001     제우스        Zeus  010-1111-2222        zeus@abc.com   \n",
       "3   C004   디오니소스    Dionysos  010-4444-5555    dionysos@efg.com   \n",
       "4   C005     아레스        Ares  010-5555-6666        ares@fgh.com   \n",
       "5   C006   아르테미스     Artemis  010-6666-7777     artemis@ghi.com   \n",
       "10  C011    헤르메스      Hermes  010-2020-3030      hermes@lmn.com   \n",
       "11  C012  헤파이스토스  Hephaistos  010-3030-4040  hephaistos@mno.com   \n",
       "\n",
       "                  주소         생일     예금잔액      대출잔액        등록일  \n",
       "0    서울시 양천구 목동 12-3 1965-02-03  1000000  10000000 2015-05-01  \n",
       "3   서울시 성북구 성북동 22-1 1972-05-30  2500000   7000000 2017-12-23  \n",
       "4   서울시 강동구 상일동 10-3 1988-03-09  3000000   6000000 2015-09-07  \n",
       "5   서울시 강서구 방화동 29-7 1970-12-01  3500000   5000000 2016-01-06  \n",
       "10   광주시 남구 월산동 23-5 1995-09-07  6000000    500000 2015-04-11  \n",
       "11      제주시 용강동 11-1 1966-08-03  6500000    300000 2016-10-05  "
      ]
     },
     "execution_count": 19,
     "metadata": {},
     "output_type": "execute_result"
    }
   ],
   "source": [
    "고객정보[고객정보.성명.str.endswith('스')]"
   ]
  },
  {
   "cell_type": "markdown",
   "metadata": {},
   "source": [
    "#### contains 함수"
   ]
  },
  {
   "cell_type": "code",
   "execution_count": 20,
   "metadata": {},
   "outputs": [
    {
     "data": {
      "text/html": [
       "<div>\n",
       "<style>\n",
       "    .dataframe thead tr:only-child th {\n",
       "        text-align: right;\n",
       "    }\n",
       "\n",
       "    .dataframe thead th {\n",
       "        text-align: left;\n",
       "    }\n",
       "\n",
       "    .dataframe tbody tr th {\n",
       "        vertical-align: top;\n",
       "    }\n",
       "</style>\n",
       "<table border=\"1\" class=\"dataframe\">\n",
       "  <thead>\n",
       "    <tr style=\"text-align: right;\">\n",
       "      <th></th>\n",
       "      <th>고객번호</th>\n",
       "      <th>성명</th>\n",
       "      <th>영문명</th>\n",
       "      <th>전화번호</th>\n",
       "      <th>메일주소</th>\n",
       "      <th>주소</th>\n",
       "      <th>생일</th>\n",
       "      <th>예금잔액</th>\n",
       "      <th>대출잔액</th>\n",
       "      <th>등록일</th>\n",
       "    </tr>\n",
       "  </thead>\n",
       "  <tbody>\n",
       "    <tr>\n",
       "      <th>2</th>\n",
       "      <td>C003</td>\n",
       "      <td>데메테르</td>\n",
       "      <td>Demeter</td>\n",
       "      <td>010-3333-4444</td>\n",
       "      <td>demeter@def.cc.com</td>\n",
       "      <td>서울시 송파구 잠실동 15-5</td>\n",
       "      <td>1978-12-20</td>\n",
       "      <td>2000000</td>\n",
       "      <td>8000000</td>\n",
       "      <td>2018-06-02</td>\n",
       "    </tr>\n",
       "  </tbody>\n",
       "</table>\n",
       "</div>"
      ],
      "text/plain": [
       "   고객번호    성명      영문명           전화번호                메일주소                주소  \\\n",
       "2  C003  데메테르  Demeter  010-3333-4444  demeter@def.cc.com  서울시 송파구 잠실동 15-5   \n",
       "\n",
       "          생일     예금잔액     대출잔액        등록일  \n",
       "2 1978-12-20  2000000  8000000 2018-06-02  "
      ]
     },
     "execution_count": 20,
     "metadata": {},
     "output_type": "execute_result"
    }
   ],
   "source": [
    "고객정보[고객정보.주소.str.contains('잠실')]"
   ]
  },
  {
   "cell_type": "markdown",
   "metadata": {},
   "source": [
    "---"
   ]
  },
  {
   "cell_type": "markdown",
   "metadata": {},
   "source": [
    "### 2.2 숫자를 이용한 고객정보 검색"
   ]
  },
  {
   "cell_type": "markdown",
   "metadata": {},
   "source": [
    "#### 대출잔액 500000이하인 고객정보 검색"
   ]
  },
  {
   "cell_type": "code",
   "execution_count": 21,
   "metadata": {},
   "outputs": [
    {
     "data": {
      "text/html": [
       "<div>\n",
       "<style>\n",
       "    .dataframe thead tr:only-child th {\n",
       "        text-align: right;\n",
       "    }\n",
       "\n",
       "    .dataframe thead th {\n",
       "        text-align: left;\n",
       "    }\n",
       "\n",
       "    .dataframe tbody tr th {\n",
       "        vertical-align: top;\n",
       "    }\n",
       "</style>\n",
       "<table border=\"1\" class=\"dataframe\">\n",
       "  <thead>\n",
       "    <tr style=\"text-align: right;\">\n",
       "      <th></th>\n",
       "      <th>고객번호</th>\n",
       "      <th>성명</th>\n",
       "      <th>영문명</th>\n",
       "      <th>전화번호</th>\n",
       "      <th>메일주소</th>\n",
       "      <th>주소</th>\n",
       "      <th>생일</th>\n",
       "      <th>예금잔액</th>\n",
       "      <th>대출잔액</th>\n",
       "      <th>등록일</th>\n",
       "    </tr>\n",
       "  </thead>\n",
       "  <tbody>\n",
       "    <tr>\n",
       "      <th>10</th>\n",
       "      <td>C011</td>\n",
       "      <td>헤르메스</td>\n",
       "      <td>Hermes</td>\n",
       "      <td>010-2020-3030</td>\n",
       "      <td>hermes@lmn.com</td>\n",
       "      <td>광주시 남구 월산동 23-5</td>\n",
       "      <td>1995-09-07</td>\n",
       "      <td>6000000</td>\n",
       "      <td>500000</td>\n",
       "      <td>2015-04-11</td>\n",
       "    </tr>\n",
       "    <tr>\n",
       "      <th>11</th>\n",
       "      <td>C012</td>\n",
       "      <td>헤파이스토스</td>\n",
       "      <td>Hephaistos</td>\n",
       "      <td>010-3030-4040</td>\n",
       "      <td>hephaistos@mno.com</td>\n",
       "      <td>제주시 용강동 11-1</td>\n",
       "      <td>1966-08-03</td>\n",
       "      <td>6500000</td>\n",
       "      <td>300000</td>\n",
       "      <td>2016-10-05</td>\n",
       "    </tr>\n",
       "  </tbody>\n",
       "</table>\n",
       "</div>"
      ],
      "text/plain": [
       "    고객번호      성명         영문명           전화번호                메일주소  \\\n",
       "10  C011    헤르메스      Hermes  010-2020-3030      hermes@lmn.com   \n",
       "11  C012  헤파이스토스  Hephaistos  010-3030-4040  hephaistos@mno.com   \n",
       "\n",
       "                 주소         생일     예금잔액    대출잔액        등록일  \n",
       "10  광주시 남구 월산동 23-5 1995-09-07  6000000  500000 2015-04-11  \n",
       "11     제주시 용강동 11-1 1966-08-03  6500000  300000 2016-10-05  "
      ]
     },
     "execution_count": 21,
     "metadata": {},
     "output_type": "execute_result"
    }
   ],
   "source": [
    "고객정보[고객정보.대출잔액 <= 500000]"
   ]
  },
  {
   "cell_type": "markdown",
   "metadata": {},
   "source": [
    "#### 예금잔액 2000000 이상인 고객정보 검색"
   ]
  },
  {
   "cell_type": "code",
   "execution_count": 22,
   "metadata": {},
   "outputs": [
    {
     "data": {
      "text/html": [
       "<div>\n",
       "<style>\n",
       "    .dataframe thead tr:only-child th {\n",
       "        text-align: right;\n",
       "    }\n",
       "\n",
       "    .dataframe thead th {\n",
       "        text-align: left;\n",
       "    }\n",
       "\n",
       "    .dataframe tbody tr th {\n",
       "        vertical-align: top;\n",
       "    }\n",
       "</style>\n",
       "<table border=\"1\" class=\"dataframe\">\n",
       "  <thead>\n",
       "    <tr style=\"text-align: right;\">\n",
       "      <th></th>\n",
       "      <th>고객번호</th>\n",
       "      <th>성명</th>\n",
       "      <th>영문명</th>\n",
       "      <th>전화번호</th>\n",
       "      <th>메일주소</th>\n",
       "      <th>주소</th>\n",
       "      <th>생일</th>\n",
       "      <th>예금잔액</th>\n",
       "      <th>대출잔액</th>\n",
       "      <th>등록일</th>\n",
       "    </tr>\n",
       "  </thead>\n",
       "  <tbody>\n",
       "    <tr>\n",
       "      <th>0</th>\n",
       "      <td>C001</td>\n",
       "      <td>제우스</td>\n",
       "      <td>Zeus</td>\n",
       "      <td>010-1111-2222</td>\n",
       "      <td>zeus@abc.com</td>\n",
       "      <td>서울시 양천구 목동 12-3</td>\n",
       "      <td>1965-02-03</td>\n",
       "      <td>1000000</td>\n",
       "      <td>10000000</td>\n",
       "      <td>2015-05-01</td>\n",
       "    </tr>\n",
       "    <tr>\n",
       "      <th>1</th>\n",
       "      <td>C002</td>\n",
       "      <td>헤라</td>\n",
       "      <td>Hera</td>\n",
       "      <td>010-2222-3333</td>\n",
       "      <td>hera@bcd.com</td>\n",
       "      <td>서울시 강남구 역삼동 13-4</td>\n",
       "      <td>1974-09-23</td>\n",
       "      <td>1500000</td>\n",
       "      <td>9000000</td>\n",
       "      <td>2016-08-24</td>\n",
       "    </tr>\n",
       "    <tr>\n",
       "      <th>2</th>\n",
       "      <td>C003</td>\n",
       "      <td>데메테르</td>\n",
       "      <td>Demeter</td>\n",
       "      <td>010-3333-4444</td>\n",
       "      <td>demeter@def.cc.com</td>\n",
       "      <td>서울시 송파구 잠실동 15-5</td>\n",
       "      <td>1978-12-20</td>\n",
       "      <td>2000000</td>\n",
       "      <td>8000000</td>\n",
       "      <td>2018-06-02</td>\n",
       "    </tr>\n",
       "  </tbody>\n",
       "</table>\n",
       "</div>"
      ],
      "text/plain": [
       "   고객번호    성명      영문명           전화번호                메일주소                주소  \\\n",
       "0  C001   제우스     Zeus  010-1111-2222        zeus@abc.com   서울시 양천구 목동 12-3   \n",
       "1  C002    헤라     Hera  010-2222-3333        hera@bcd.com  서울시 강남구 역삼동 13-4   \n",
       "2  C003  데메테르  Demeter  010-3333-4444  demeter@def.cc.com  서울시 송파구 잠실동 15-5   \n",
       "\n",
       "          생일     예금잔액      대출잔액        등록일  \n",
       "0 1965-02-03  1000000  10000000 2015-05-01  \n",
       "1 1974-09-23  1500000   9000000 2016-08-24  \n",
       "2 1978-12-20  2000000   8000000 2018-06-02  "
      ]
     },
     "execution_count": 22,
     "metadata": {},
     "output_type": "execute_result"
    }
   ],
   "source": [
    "고객정보[고객정보.예금잔액 <= 2000000]"
   ]
  },
  {
   "cell_type": "markdown",
   "metadata": {},
   "source": [
    "#### 예금잔액 6000000 이상이고 대출잔액이 300000 이하인 고객정보 검색"
   ]
  },
  {
   "cell_type": "code",
   "execution_count": 23,
   "metadata": {},
   "outputs": [
    {
     "data": {
      "text/html": [
       "<div>\n",
       "<style>\n",
       "    .dataframe thead tr:only-child th {\n",
       "        text-align: right;\n",
       "    }\n",
       "\n",
       "    .dataframe thead th {\n",
       "        text-align: left;\n",
       "    }\n",
       "\n",
       "    .dataframe tbody tr th {\n",
       "        vertical-align: top;\n",
       "    }\n",
       "</style>\n",
       "<table border=\"1\" class=\"dataframe\">\n",
       "  <thead>\n",
       "    <tr style=\"text-align: right;\">\n",
       "      <th></th>\n",
       "      <th>고객번호</th>\n",
       "      <th>성명</th>\n",
       "      <th>영문명</th>\n",
       "      <th>전화번호</th>\n",
       "      <th>메일주소</th>\n",
       "      <th>주소</th>\n",
       "      <th>생일</th>\n",
       "      <th>예금잔액</th>\n",
       "      <th>대출잔액</th>\n",
       "      <th>등록일</th>\n",
       "    </tr>\n",
       "  </thead>\n",
       "  <tbody>\n",
       "    <tr>\n",
       "      <th>11</th>\n",
       "      <td>C012</td>\n",
       "      <td>헤파이스토스</td>\n",
       "      <td>Hephaistos</td>\n",
       "      <td>010-3030-4040</td>\n",
       "      <td>hephaistos@mno.com</td>\n",
       "      <td>제주시 용강동 11-1</td>\n",
       "      <td>1966-08-03</td>\n",
       "      <td>6500000</td>\n",
       "      <td>300000</td>\n",
       "      <td>2016-10-05</td>\n",
       "    </tr>\n",
       "  </tbody>\n",
       "</table>\n",
       "</div>"
      ],
      "text/plain": [
       "    고객번호      성명         영문명           전화번호                메일주소            주소  \\\n",
       "11  C012  헤파이스토스  Hephaistos  010-3030-4040  hephaistos@mno.com  제주시 용강동 11-1   \n",
       "\n",
       "           생일     예금잔액    대출잔액        등록일  \n",
       "11 1966-08-03  6500000  300000 2016-10-05  "
      ]
     },
     "execution_count": 23,
     "metadata": {},
     "output_type": "execute_result"
    }
   ],
   "source": [
    "고객정보[(고객정보.예금잔액 >= 6000000) & (고객정보.대출잔액 <= 300000)]"
   ]
  },
  {
   "cell_type": "markdown",
   "metadata": {},
   "source": [
    "#### 예금잔액의 합계 계산"
   ]
  },
  {
   "cell_type": "code",
   "execution_count": 24,
   "metadata": {},
   "outputs": [
    {
     "data": {
      "text/plain": [
       "45000000"
      ]
     },
     "execution_count": 24,
     "metadata": {},
     "output_type": "execute_result"
    }
   ],
   "source": [
    "고객정보.예금잔액.sum()"
   ]
  },
  {
   "cell_type": "markdown",
   "metadata": {},
   "source": [
    "#### 대출잔액의 평균 계산"
   ]
  },
  {
   "cell_type": "code",
   "execution_count": 25,
   "metadata": {},
   "outputs": [
    {
     "data": {
      "text/plain": [
       "4650000.0"
      ]
     },
     "execution_count": 25,
     "metadata": {},
     "output_type": "execute_result"
    }
   ],
   "source": [
    "고객정보.대출잔액.mean()"
   ]
  },
  {
   "cell_type": "markdown",
   "metadata": {},
   "source": [
    "---"
   ]
  },
  {
   "cell_type": "markdown",
   "metadata": {},
   "source": [
    "### 2.3 날짜를 이용한 고객정보 검색"
   ]
  },
  {
   "cell_type": "markdown",
   "metadata": {},
   "source": [
    "#### datetime 패키지 import "
   ]
  },
  {
   "cell_type": "code",
   "execution_count": 26,
   "metadata": {
    "collapsed": true
   },
   "outputs": [],
   "source": [
    "from datetime import datetime"
   ]
  },
  {
   "cell_type": "markdown",
   "metadata": {},
   "source": [
    "#### 오늘날짜 구하기"
   ]
  },
  {
   "cell_type": "code",
   "execution_count": 27,
   "metadata": {
    "collapsed": true
   },
   "outputs": [],
   "source": [
    "오늘날짜 = datetime.now()"
   ]
  },
  {
   "cell_type": "code",
   "execution_count": 28,
   "metadata": {},
   "outputs": [
    {
     "data": {
      "text/plain": [
       "datetime.datetime(2018, 9, 13, 21, 17, 37, 959910)"
      ]
     },
     "execution_count": 28,
     "metadata": {},
     "output_type": "execute_result"
    }
   ],
   "source": [
    "오늘날짜"
   ]
  },
  {
   "cell_type": "code",
   "execution_count": 29,
   "metadata": {},
   "outputs": [
    {
     "data": {
      "text/plain": [
       "2018"
      ]
     },
     "execution_count": 29,
     "metadata": {},
     "output_type": "execute_result"
    }
   ],
   "source": [
    "오늘_년 = 오늘날짜.year\n",
    "오늘_년"
   ]
  },
  {
   "cell_type": "code",
   "execution_count": 30,
   "metadata": {},
   "outputs": [
    {
     "data": {
      "text/plain": [
       "9"
      ]
     },
     "execution_count": 30,
     "metadata": {},
     "output_type": "execute_result"
    }
   ],
   "source": [
    "오늘_월 = 오늘날짜.month\n",
    "오늘_월"
   ]
  },
  {
   "cell_type": "code",
   "execution_count": 31,
   "metadata": {},
   "outputs": [
    {
     "data": {
      "text/plain": [
       "13"
      ]
     },
     "execution_count": 31,
     "metadata": {},
     "output_type": "execute_result"
    }
   ],
   "source": [
    "오늘_일 = 오늘날짜.day\n",
    "오늘_일"
   ]
  },
  {
   "cell_type": "code",
   "execution_count": 32,
   "metadata": {},
   "outputs": [
    {
     "data": {
      "text/plain": [
       "3"
      ]
     },
     "execution_count": 32,
     "metadata": {},
     "output_type": "execute_result"
    }
   ],
   "source": [
    "오늘_요일 = 오늘날짜.weekday()\n",
    "오늘_요일"
   ]
  },
  {
   "cell_type": "code",
   "execution_count": 33,
   "metadata": {
    "collapsed": true
   },
   "outputs": [],
   "source": [
    "요일목록 = {0:'월요일', 1:'화요일', 2:'수요일', 3:'목요일', 4:'금요일', 5:'토요일', 6:'일요일'}"
   ]
  },
  {
   "cell_type": "code",
   "execution_count": 35,
   "metadata": {},
   "outputs": [
    {
     "data": {
      "text/plain": [
       "'목요일'"
      ]
     },
     "execution_count": 35,
     "metadata": {},
     "output_type": "execute_result"
    }
   ],
   "source": [
    "요일목록[3]"
   ]
  },
  {
   "cell_type": "code",
   "execution_count": 36,
   "metadata": {},
   "outputs": [
    {
     "data": {
      "text/plain": [
       "'목요일'"
      ]
     },
     "execution_count": 36,
     "metadata": {},
     "output_type": "execute_result"
    }
   ],
   "source": [
    "요일목록[오늘_요일]"
   ]
  },
  {
   "cell_type": "markdown",
   "metadata": {},
   "source": [
    "#### 생일이 지나지 않은 고객 검색"
   ]
  },
  {
   "cell_type": "code",
   "execution_count": 37,
   "metadata": {},
   "outputs": [
    {
     "data": {
      "text/plain": [
       "0      2\n",
       "1      9\n",
       "2     12\n",
       "3      5\n",
       "4      3\n",
       "5     12\n",
       "6      7\n",
       "7      6\n",
       "8      4\n",
       "9      1\n",
       "10     9\n",
       "11     8\n",
       "Name: 생일, dtype: int64"
      ]
     },
     "execution_count": 37,
     "metadata": {},
     "output_type": "execute_result"
    }
   ],
   "source": [
    "고객정보.생일.dt.month"
   ]
  },
  {
   "cell_type": "code",
   "execution_count": 38,
   "metadata": {},
   "outputs": [
    {
     "data": {
      "text/plain": [
       "0      3\n",
       "1     23\n",
       "2     20\n",
       "3     30\n",
       "4      9\n",
       "5      1\n",
       "6     12\n",
       "7     12\n",
       "8      7\n",
       "9     18\n",
       "10     7\n",
       "11     3\n",
       "Name: 생일, dtype: int64"
      ]
     },
     "execution_count": 38,
     "metadata": {},
     "output_type": "execute_result"
    }
   ],
   "source": [
    "고객정보.생일.dt.day"
   ]
  },
  {
   "cell_type": "code",
   "execution_count": 39,
   "metadata": {},
   "outputs": [
    {
     "data": {
      "text/html": [
       "<div>\n",
       "<style>\n",
       "    .dataframe thead tr:only-child th {\n",
       "        text-align: right;\n",
       "    }\n",
       "\n",
       "    .dataframe thead th {\n",
       "        text-align: left;\n",
       "    }\n",
       "\n",
       "    .dataframe tbody tr th {\n",
       "        vertical-align: top;\n",
       "    }\n",
       "</style>\n",
       "<table border=\"1\" class=\"dataframe\">\n",
       "  <thead>\n",
       "    <tr style=\"text-align: right;\">\n",
       "      <th></th>\n",
       "      <th>고객번호</th>\n",
       "      <th>성명</th>\n",
       "      <th>영문명</th>\n",
       "      <th>전화번호</th>\n",
       "      <th>메일주소</th>\n",
       "      <th>주소</th>\n",
       "      <th>생일</th>\n",
       "      <th>예금잔액</th>\n",
       "      <th>대출잔액</th>\n",
       "      <th>등록일</th>\n",
       "    </tr>\n",
       "  </thead>\n",
       "  <tbody>\n",
       "    <tr>\n",
       "      <th>1</th>\n",
       "      <td>C002</td>\n",
       "      <td>헤라</td>\n",
       "      <td>Hera</td>\n",
       "      <td>010-2222-3333</td>\n",
       "      <td>hera@bcd.com</td>\n",
       "      <td>서울시 강남구 역삼동 13-4</td>\n",
       "      <td>1974-09-23</td>\n",
       "      <td>1500000</td>\n",
       "      <td>9000000</td>\n",
       "      <td>2016-08-24</td>\n",
       "    </tr>\n",
       "    <tr>\n",
       "      <th>2</th>\n",
       "      <td>C003</td>\n",
       "      <td>데메테르</td>\n",
       "      <td>Demeter</td>\n",
       "      <td>010-3333-4444</td>\n",
       "      <td>demeter@def.cc.com</td>\n",
       "      <td>서울시 송파구 잠실동 15-5</td>\n",
       "      <td>1978-12-20</td>\n",
       "      <td>2000000</td>\n",
       "      <td>8000000</td>\n",
       "      <td>2018-06-02</td>\n",
       "    </tr>\n",
       "  </tbody>\n",
       "</table>\n",
       "</div>"
      ],
      "text/plain": [
       "   고객번호    성명      영문명           전화번호                메일주소                주소  \\\n",
       "1  C002    헤라     Hera  010-2222-3333        hera@bcd.com  서울시 강남구 역삼동 13-4   \n",
       "2  C003  데메테르  Demeter  010-3333-4444  demeter@def.cc.com  서울시 송파구 잠실동 15-5   \n",
       "\n",
       "          생일     예금잔액     대출잔액        등록일  \n",
       "1 1974-09-23  1500000  9000000 2016-08-24  \n",
       "2 1978-12-20  2000000  8000000 2018-06-02  "
      ]
     },
     "execution_count": 39,
     "metadata": {},
     "output_type": "execute_result"
    }
   ],
   "source": [
    "고객정보[(고객정보.생일.dt.month >= 오늘_월) & (고객정보.생일.dt.day >= 오늘_일)]"
   ]
  },
  {
   "cell_type": "markdown",
   "metadata": {},
   "source": [
    "---"
   ]
  },
  {
   "cell_type": "markdown",
   "metadata": {},
   "source": [
    "### 2.4 timedelta 패키지  및 relativedelta 패키지"
   ]
  },
  {
   "cell_type": "markdown",
   "metadata": {},
   "source": [
    "- timedelta 패키지는 날짜(시간)차이를 계산하기 위한 패키지\n",
    "- 일년차이 = timedelta(days = 365) 형태로 저장하여 사용\n",
    "- 오늘날짜에 timedelta 변수를 빼거나 더해서 과거나 미래날짜를 계산함\n",
    "- 일년전 날짜는 '오늘날짜 - 일년차이'로 계산하고, 일년후 날짜는 '오늘날짜 + 일년차이' 로 계산함"
   ]
  },
  {
   "cell_type": "markdown",
   "metadata": {},
   "source": [
    "#### 등록일이 1년이 경과하지 않은 고객 검색"
   ]
  },
  {
   "cell_type": "code",
   "execution_count": 40,
   "metadata": {
    "collapsed": true
   },
   "outputs": [],
   "source": [
    "from datetime import timedelta"
   ]
  },
  {
   "cell_type": "code",
   "execution_count": 43,
   "metadata": {},
   "outputs": [],
   "source": [
    "일년차이 = timedelta(days = 365)"
   ]
  },
  {
   "cell_type": "code",
   "execution_count": 44,
   "metadata": {},
   "outputs": [
    {
     "data": {
      "text/plain": [
       "datetime.datetime(2017, 11, 17, 21, 17, 37, 959910)"
      ]
     },
     "execution_count": 44,
     "metadata": {},
     "output_type": "execute_result"
    }
   ],
   "source": [
    "날짜_일년전 = 오늘날짜 - 일년차이\n",
    "날짜_일년전"
   ]
  },
  {
   "cell_type": "code",
   "execution_count": 45,
   "metadata": {},
   "outputs": [
    {
     "data": {
      "text/html": [
       "<div>\n",
       "<style>\n",
       "    .dataframe thead tr:only-child th {\n",
       "        text-align: right;\n",
       "    }\n",
       "\n",
       "    .dataframe thead th {\n",
       "        text-align: left;\n",
       "    }\n",
       "\n",
       "    .dataframe tbody tr th {\n",
       "        vertical-align: top;\n",
       "    }\n",
       "</style>\n",
       "<table border=\"1\" class=\"dataframe\">\n",
       "  <thead>\n",
       "    <tr style=\"text-align: right;\">\n",
       "      <th></th>\n",
       "      <th>고객번호</th>\n",
       "      <th>성명</th>\n",
       "      <th>영문명</th>\n",
       "      <th>전화번호</th>\n",
       "      <th>메일주소</th>\n",
       "      <th>주소</th>\n",
       "      <th>생일</th>\n",
       "      <th>예금잔액</th>\n",
       "      <th>대출잔액</th>\n",
       "      <th>등록일</th>\n",
       "    </tr>\n",
       "  </thead>\n",
       "  <tbody>\n",
       "    <tr>\n",
       "      <th>2</th>\n",
       "      <td>C003</td>\n",
       "      <td>데메테르</td>\n",
       "      <td>Demeter</td>\n",
       "      <td>010-3333-4444</td>\n",
       "      <td>demeter@def.cc.com</td>\n",
       "      <td>서울시 송파구 잠실동 15-5</td>\n",
       "      <td>1978-12-20</td>\n",
       "      <td>2000000</td>\n",
       "      <td>8000000</td>\n",
       "      <td>2018-06-02</td>\n",
       "    </tr>\n",
       "    <tr>\n",
       "      <th>3</th>\n",
       "      <td>C004</td>\n",
       "      <td>디오니소스</td>\n",
       "      <td>Dionysos</td>\n",
       "      <td>010-4444-5555</td>\n",
       "      <td>dionysos@efg.com</td>\n",
       "      <td>서울시 성북구 성북동 22-1</td>\n",
       "      <td>1972-05-30</td>\n",
       "      <td>2500000</td>\n",
       "      <td>7000000</td>\n",
       "      <td>2017-12-23</td>\n",
       "    </tr>\n",
       "    <tr>\n",
       "      <th>6</th>\n",
       "      <td>C007</td>\n",
       "      <td>아테나</td>\n",
       "      <td>Athena</td>\n",
       "      <td>010-7777-8888</td>\n",
       "      <td>athena@hij.com</td>\n",
       "      <td>인천시 남구 도화동 36-9</td>\n",
       "      <td>1990-07-12</td>\n",
       "      <td>4000000</td>\n",
       "      <td>4000000</td>\n",
       "      <td>2018-05-08</td>\n",
       "    </tr>\n",
       "    <tr>\n",
       "      <th>7</th>\n",
       "      <td>C008</td>\n",
       "      <td>아폴론</td>\n",
       "      <td>Apollon</td>\n",
       "      <td>010-8888-9999</td>\n",
       "      <td>apollon@ijk.com</td>\n",
       "      <td>대전시 중구 은행동 34-5</td>\n",
       "      <td>1982-06-12</td>\n",
       "      <td>4500000</td>\n",
       "      <td>3000000</td>\n",
       "      <td>2018-02-24</td>\n",
       "    </tr>\n",
       "    <tr>\n",
       "      <th>8</th>\n",
       "      <td>C009</td>\n",
       "      <td>아프로디테</td>\n",
       "      <td>Aphrodite</td>\n",
       "      <td>010-9999-1010</td>\n",
       "      <td>aphrodite@jkl.com</td>\n",
       "      <td>부산시 부산진구 양정동 59-7</td>\n",
       "      <td>1991-04-07</td>\n",
       "      <td>5000000</td>\n",
       "      <td>2000000</td>\n",
       "      <td>2017-11-21</td>\n",
       "    </tr>\n",
       "  </tbody>\n",
       "</table>\n",
       "</div>"
      ],
      "text/plain": [
       "   고객번호     성명        영문명           전화번호                메일주소  \\\n",
       "2  C003   데메테르    Demeter  010-3333-4444  demeter@def.cc.com   \n",
       "3  C004  디오니소스   Dionysos  010-4444-5555    dionysos@efg.com   \n",
       "6  C007    아테나     Athena  010-7777-8888      athena@hij.com   \n",
       "7  C008    아폴론    Apollon  010-8888-9999     apollon@ijk.com   \n",
       "8  C009  아프로디테  Aphrodite  010-9999-1010   aphrodite@jkl.com   \n",
       "\n",
       "                  주소         생일     예금잔액     대출잔액        등록일  \n",
       "2   서울시 송파구 잠실동 15-5 1978-12-20  2000000  8000000 2018-06-02  \n",
       "3   서울시 성북구 성북동 22-1 1972-05-30  2500000  7000000 2017-12-23  \n",
       "6    인천시 남구 도화동 36-9 1990-07-12  4000000  4000000 2018-05-08  \n",
       "7    대전시 중구 은행동 34-5 1982-06-12  4500000  3000000 2018-02-24  \n",
       "8  부산시 부산진구 양정동 59-7 1991-04-07  5000000  2000000 2017-11-21  "
      ]
     },
     "execution_count": 45,
     "metadata": {},
     "output_type": "execute_result"
    }
   ],
   "source": [
    "고객정보[고객정보.등록일 > 날짜_일년전]"
   ]
  },
  {
   "cell_type": "markdown",
   "metadata": {},
   "source": [
    "#### 등록일이 6개월이 경과하지 않은 고객 검색"
   ]
  },
  {
   "cell_type": "code",
   "execution_count": 46,
   "metadata": {
    "collapsed": true
   },
   "outputs": [],
   "source": [
    "from dateutil.relativedelta import relativedelta"
   ]
  },
  {
   "cell_type": "code",
   "execution_count": 47,
   "metadata": {
    "collapsed": true
   },
   "outputs": [],
   "source": [
    "육개월차이 = relativedelta(months = 6)"
   ]
  },
  {
   "cell_type": "code",
   "execution_count": 48,
   "metadata": {},
   "outputs": [
    {
     "data": {
      "text/plain": [
       "relativedelta(months=+6)"
      ]
     },
     "execution_count": 48,
     "metadata": {},
     "output_type": "execute_result"
    }
   ],
   "source": [
    "육개월차이"
   ]
  },
  {
   "cell_type": "code",
   "execution_count": 50,
   "metadata": {},
   "outputs": [],
   "source": [
    "날짜_육개월전 = 오늘날짜 - 육개월차이"
   ]
  },
  {
   "cell_type": "code",
   "execution_count": 51,
   "metadata": {},
   "outputs": [
    {
     "data": {
      "text/plain": [
       "datetime.datetime(2018, 3, 13, 21, 17, 37, 959910)"
      ]
     },
     "execution_count": 51,
     "metadata": {},
     "output_type": "execute_result"
    }
   ],
   "source": [
    "날짜_육개월전"
   ]
  },
  {
   "cell_type": "code",
   "execution_count": 52,
   "metadata": {},
   "outputs": [
    {
     "data": {
      "text/html": [
       "<div>\n",
       "<style>\n",
       "    .dataframe thead tr:only-child th {\n",
       "        text-align: right;\n",
       "    }\n",
       "\n",
       "    .dataframe thead th {\n",
       "        text-align: left;\n",
       "    }\n",
       "\n",
       "    .dataframe tbody tr th {\n",
       "        vertical-align: top;\n",
       "    }\n",
       "</style>\n",
       "<table border=\"1\" class=\"dataframe\">\n",
       "  <thead>\n",
       "    <tr style=\"text-align: right;\">\n",
       "      <th></th>\n",
       "      <th>고객번호</th>\n",
       "      <th>성명</th>\n",
       "      <th>영문명</th>\n",
       "      <th>전화번호</th>\n",
       "      <th>메일주소</th>\n",
       "      <th>주소</th>\n",
       "      <th>생일</th>\n",
       "      <th>예금잔액</th>\n",
       "      <th>대출잔액</th>\n",
       "      <th>등록일</th>\n",
       "    </tr>\n",
       "  </thead>\n",
       "  <tbody>\n",
       "    <tr>\n",
       "      <th>2</th>\n",
       "      <td>C003</td>\n",
       "      <td>데메테르</td>\n",
       "      <td>Demeter</td>\n",
       "      <td>010-3333-4444</td>\n",
       "      <td>demeter@def.cc.com</td>\n",
       "      <td>서울시 송파구 잠실동 15-5</td>\n",
       "      <td>1978-12-20</td>\n",
       "      <td>2000000</td>\n",
       "      <td>8000000</td>\n",
       "      <td>2018-06-02</td>\n",
       "    </tr>\n",
       "    <tr>\n",
       "      <th>6</th>\n",
       "      <td>C007</td>\n",
       "      <td>아테나</td>\n",
       "      <td>Athena</td>\n",
       "      <td>010-7777-8888</td>\n",
       "      <td>athena@hij.com</td>\n",
       "      <td>인천시 남구 도화동 36-9</td>\n",
       "      <td>1990-07-12</td>\n",
       "      <td>4000000</td>\n",
       "      <td>4000000</td>\n",
       "      <td>2018-05-08</td>\n",
       "    </tr>\n",
       "  </tbody>\n",
       "</table>\n",
       "</div>"
      ],
      "text/plain": [
       "   고객번호    성명      영문명           전화번호                메일주소                주소  \\\n",
       "2  C003  데메테르  Demeter  010-3333-4444  demeter@def.cc.com  서울시 송파구 잠실동 15-5   \n",
       "6  C007   아테나   Athena  010-7777-8888      athena@hij.com   인천시 남구 도화동 36-9   \n",
       "\n",
       "          생일     예금잔액     대출잔액        등록일  \n",
       "2 1978-12-20  2000000  8000000 2018-06-02  \n",
       "6 1990-07-12  4000000  4000000 2018-05-08  "
      ]
     },
     "execution_count": 52,
     "metadata": {},
     "output_type": "execute_result"
    }
   ],
   "source": [
    "고객정보[고객정보.등록일 > 날짜_육개월전]"
   ]
  },
  {
   "cell_type": "code",
   "execution_count": null,
   "metadata": {
    "collapsed": true
   },
   "outputs": [],
   "source": []
  }
 ],
 "metadata": {
  "kernelspec": {
   "display_name": "Python 3",
   "language": "python",
   "name": "python3"
  },
  "language_info": {
   "codemirror_mode": {
    "name": "ipython",
    "version": 3
   },
   "file_extension": ".py",
   "mimetype": "text/x-python",
   "name": "python",
   "nbconvert_exporter": "python",
   "pygments_lexer": "ipython3",
   "version": "3.7.3"
  }
 },
 "nbformat": 4,
 "nbformat_minor": 2
}
