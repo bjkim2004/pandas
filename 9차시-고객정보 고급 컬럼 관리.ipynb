{
 "cells": [
  {
   "cell_type": "markdown",
   "metadata": {},
   "source": [
    "# 9차시 : 고객정보 컬럼 고급 관리"
   ]
  },
  {
   "cell_type": "markdown",
   "metadata": {},
   "source": [
    "---"
   ]
  },
  {
   "cell_type": "markdown",
   "metadata": {},
   "source": [
    "## 1. map 함수를 이용한 컬럼 관리"
   ]
  },
  {
   "cell_type": "markdown",
   "metadata": {},
   "source": [
    "### 1.1 엑셀파일 데이터 타입 변환"
   ]
  },
  {
   "cell_type": "markdown",
   "metadata": {},
   "source": [
    "- map함수는 반복문(for구문 등) 없이 컬럼 관리 가능\n",
    "- map함수에 딕셔너리를 적용하여 컬럼값 일괄 처리\n",
    "- 데이터프레임.컬럼명.map({딕셔너리}) 형태로 사용"
   ]
  },
  {
   "cell_type": "markdown",
   "metadata": {},
   "source": [
    "#### 고객정보 읽어오기"
   ]
  },
  {
   "cell_type": "code",
   "execution_count": 1,
   "metadata": {
    "collapsed": true
   },
   "outputs": [],
   "source": [
    "import pandas as pd"
   ]
  },
  {
   "cell_type": "code",
   "execution_count": 2,
   "metadata": {
    "collapsed": true
   },
   "outputs": [],
   "source": [
    "고객정보파일 = '../데이터/고객정보2.xlsx'"
   ]
  },
  {
   "cell_type": "code",
   "execution_count": 3,
   "metadata": {
    "collapsed": true
   },
   "outputs": [],
   "source": [
    "고객정보 = pd.read_excel(고객정보파일)"
   ]
  },
  {
   "cell_type": "code",
   "execution_count": 7,
   "metadata": {},
   "outputs": [
    {
     "data": {
      "text/html": [
       "<div>\n",
       "<style>\n",
       "    .dataframe thead tr:only-child th {\n",
       "        text-align: right;\n",
       "    }\n",
       "\n",
       "    .dataframe thead th {\n",
       "        text-align: left;\n",
       "    }\n",
       "\n",
       "    .dataframe tbody tr th {\n",
       "        vertical-align: top;\n",
       "    }\n",
       "</style>\n",
       "<table border=\"1\" class=\"dataframe\">\n",
       "  <thead>\n",
       "    <tr style=\"text-align: right;\">\n",
       "      <th></th>\n",
       "      <th>고객번호</th>\n",
       "      <th>성명</th>\n",
       "      <th>영문명</th>\n",
       "      <th>전화번호</th>\n",
       "      <th>메일주소</th>\n",
       "      <th>주소</th>\n",
       "      <th>생일</th>\n",
       "      <th>예금잔액</th>\n",
       "      <th>대출잔액</th>\n",
       "      <th>보유금액</th>\n",
       "      <th>그룹코드</th>\n",
       "      <th>등록일</th>\n",
       "    </tr>\n",
       "  </thead>\n",
       "  <tbody>\n",
       "    <tr>\n",
       "      <th>0</th>\n",
       "      <td>C001</td>\n",
       "      <td>제우스</td>\n",
       "      <td>Zeus</td>\n",
       "      <td>010-1111-2222</td>\n",
       "      <td>zeus@abc.com</td>\n",
       "      <td>서울시 양천구 목동 12-3</td>\n",
       "      <td>1965-02-03</td>\n",
       "      <td>1000000</td>\n",
       "      <td>10000000</td>\n",
       "      <td>-9000000</td>\n",
       "      <td>3</td>\n",
       "      <td>2015-05-01</td>\n",
       "    </tr>\n",
       "    <tr>\n",
       "      <th>1</th>\n",
       "      <td>C002</td>\n",
       "      <td>헤라</td>\n",
       "      <td>Hera</td>\n",
       "      <td>010-2222-3333</td>\n",
       "      <td>hera@bcd.com</td>\n",
       "      <td>서울시 강남구 역삼동 13-4</td>\n",
       "      <td>1974-09-23</td>\n",
       "      <td>1500000</td>\n",
       "      <td>9000000</td>\n",
       "      <td>-7500000</td>\n",
       "      <td>3</td>\n",
       "      <td>2016-08-24</td>\n",
       "    </tr>\n",
       "    <tr>\n",
       "      <th>2</th>\n",
       "      <td>C003</td>\n",
       "      <td>데메테르</td>\n",
       "      <td>Demeter</td>\n",
       "      <td>010-3333-4444</td>\n",
       "      <td>demeter@def.cc.com</td>\n",
       "      <td>서울시 송파구 잠실동 15-5</td>\n",
       "      <td>1978-12-20</td>\n",
       "      <td>2000000</td>\n",
       "      <td>8000000</td>\n",
       "      <td>-6000000</td>\n",
       "      <td>3</td>\n",
       "      <td>2018-06-02</td>\n",
       "    </tr>\n",
       "    <tr>\n",
       "      <th>3</th>\n",
       "      <td>C004</td>\n",
       "      <td>디오니소스</td>\n",
       "      <td>Dionysos</td>\n",
       "      <td>010-4444-5555</td>\n",
       "      <td>dionysos@efg.com</td>\n",
       "      <td>서울시 성북구 성북동 22-1</td>\n",
       "      <td>1972-05-30</td>\n",
       "      <td>2500000</td>\n",
       "      <td>7000000</td>\n",
       "      <td>-4500000</td>\n",
       "      <td>3</td>\n",
       "      <td>2017-12-23</td>\n",
       "    </tr>\n",
       "    <tr>\n",
       "      <th>4</th>\n",
       "      <td>C005</td>\n",
       "      <td>아레스</td>\n",
       "      <td>Ares</td>\n",
       "      <td>010-5555-6666</td>\n",
       "      <td>ares@fgh.com</td>\n",
       "      <td>서울시 강동구 상일동 10-3</td>\n",
       "      <td>1988-03-09</td>\n",
       "      <td>3000000</td>\n",
       "      <td>6000000</td>\n",
       "      <td>-3000000</td>\n",
       "      <td>2</td>\n",
       "      <td>2015-09-07</td>\n",
       "    </tr>\n",
       "  </tbody>\n",
       "</table>\n",
       "</div>"
      ],
      "text/plain": [
       "   고객번호     성명       영문명           전화번호                메일주소                주소  \\\n",
       "0  C001    제우스      Zeus  010-1111-2222        zeus@abc.com   서울시 양천구 목동 12-3   \n",
       "1  C002     헤라      Hera  010-2222-3333        hera@bcd.com  서울시 강남구 역삼동 13-4   \n",
       "2  C003   데메테르   Demeter  010-3333-4444  demeter@def.cc.com  서울시 송파구 잠실동 15-5   \n",
       "3  C004  디오니소스  Dionysos  010-4444-5555    dionysos@efg.com  서울시 성북구 성북동 22-1   \n",
       "4  C005    아레스      Ares  010-5555-6666        ares@fgh.com  서울시 강동구 상일동 10-3   \n",
       "\n",
       "          생일     예금잔액      대출잔액     보유금액  그룹코드        등록일  \n",
       "0 1965-02-03  1000000  10000000 -9000000     3 2015-05-01  \n",
       "1 1974-09-23  1500000   9000000 -7500000     3 2016-08-24  \n",
       "2 1978-12-20  2000000   8000000 -6000000     3 2018-06-02  \n",
       "3 1972-05-30  2500000   7000000 -4500000     3 2017-12-23  \n",
       "4 1988-03-09  3000000   6000000 -3000000     2 2015-09-07  "
      ]
     },
     "execution_count": 7,
     "metadata": {},
     "output_type": "execute_result"
    }
   ],
   "source": [
    "고객정보[:5]"
   ]
  },
  {
   "cell_type": "markdown",
   "metadata": {},
   "source": [
    "#### 엑셀파일 읽을 때 데이터 타입 변환\n",
    "- read_excel함수의 converters 파라미터에 값 설정\n",
    "- converters 파라미터의 값 설정은 딕셔너리로 사용\n",
    "- pd.read_excel(데이터프레임명, converters={'컬럼명':데이터타입, '컬럼명':데이터타입})\n",
    "- 데이터 타입 변환은 대부분 문자열이며, 문자열인 경우 str로 지정"
   ]
  },
  {
   "cell_type": "code",
   "execution_count": 8,
   "metadata": {
    "collapsed": true
   },
   "outputs": [],
   "source": [
    "고객정보 = pd.read_excel(고객정보파일, converters={'그룹코드':str})"
   ]
  },
  {
   "cell_type": "code",
   "execution_count": 9,
   "metadata": {},
   "outputs": [
    {
     "data": {
      "text/html": [
       "<div>\n",
       "<style>\n",
       "    .dataframe thead tr:only-child th {\n",
       "        text-align: right;\n",
       "    }\n",
       "\n",
       "    .dataframe thead th {\n",
       "        text-align: left;\n",
       "    }\n",
       "\n",
       "    .dataframe tbody tr th {\n",
       "        vertical-align: top;\n",
       "    }\n",
       "</style>\n",
       "<table border=\"1\" class=\"dataframe\">\n",
       "  <thead>\n",
       "    <tr style=\"text-align: right;\">\n",
       "      <th></th>\n",
       "      <th>고객번호</th>\n",
       "      <th>성명</th>\n",
       "      <th>영문명</th>\n",
       "      <th>전화번호</th>\n",
       "      <th>메일주소</th>\n",
       "      <th>주소</th>\n",
       "      <th>생일</th>\n",
       "      <th>예금잔액</th>\n",
       "      <th>대출잔액</th>\n",
       "      <th>보유금액</th>\n",
       "      <th>그룹코드</th>\n",
       "      <th>등록일</th>\n",
       "    </tr>\n",
       "  </thead>\n",
       "  <tbody>\n",
       "    <tr>\n",
       "      <th>0</th>\n",
       "      <td>C001</td>\n",
       "      <td>제우스</td>\n",
       "      <td>Zeus</td>\n",
       "      <td>010-1111-2222</td>\n",
       "      <td>zeus@abc.com</td>\n",
       "      <td>서울시 양천구 목동 12-3</td>\n",
       "      <td>1965-02-03</td>\n",
       "      <td>1000000</td>\n",
       "      <td>10000000</td>\n",
       "      <td>-9000000</td>\n",
       "      <td>03</td>\n",
       "      <td>2015-05-01</td>\n",
       "    </tr>\n",
       "    <tr>\n",
       "      <th>1</th>\n",
       "      <td>C002</td>\n",
       "      <td>헤라</td>\n",
       "      <td>Hera</td>\n",
       "      <td>010-2222-3333</td>\n",
       "      <td>hera@bcd.com</td>\n",
       "      <td>서울시 강남구 역삼동 13-4</td>\n",
       "      <td>1974-09-23</td>\n",
       "      <td>1500000</td>\n",
       "      <td>9000000</td>\n",
       "      <td>-7500000</td>\n",
       "      <td>03</td>\n",
       "      <td>2016-08-24</td>\n",
       "    </tr>\n",
       "    <tr>\n",
       "      <th>2</th>\n",
       "      <td>C003</td>\n",
       "      <td>데메테르</td>\n",
       "      <td>Demeter</td>\n",
       "      <td>010-3333-4444</td>\n",
       "      <td>demeter@def.cc.com</td>\n",
       "      <td>서울시 송파구 잠실동 15-5</td>\n",
       "      <td>1978-12-20</td>\n",
       "      <td>2000000</td>\n",
       "      <td>8000000</td>\n",
       "      <td>-6000000</td>\n",
       "      <td>03</td>\n",
       "      <td>2018-06-02</td>\n",
       "    </tr>\n",
       "    <tr>\n",
       "      <th>3</th>\n",
       "      <td>C004</td>\n",
       "      <td>디오니소스</td>\n",
       "      <td>Dionysos</td>\n",
       "      <td>010-4444-5555</td>\n",
       "      <td>dionysos@efg.com</td>\n",
       "      <td>서울시 성북구 성북동 22-1</td>\n",
       "      <td>1972-05-30</td>\n",
       "      <td>2500000</td>\n",
       "      <td>7000000</td>\n",
       "      <td>-4500000</td>\n",
       "      <td>03</td>\n",
       "      <td>2017-12-23</td>\n",
       "    </tr>\n",
       "    <tr>\n",
       "      <th>4</th>\n",
       "      <td>C005</td>\n",
       "      <td>아레스</td>\n",
       "      <td>Ares</td>\n",
       "      <td>010-5555-6666</td>\n",
       "      <td>ares@fgh.com</td>\n",
       "      <td>서울시 강동구 상일동 10-3</td>\n",
       "      <td>1988-03-09</td>\n",
       "      <td>3000000</td>\n",
       "      <td>6000000</td>\n",
       "      <td>-3000000</td>\n",
       "      <td>02</td>\n",
       "      <td>2015-09-07</td>\n",
       "    </tr>\n",
       "  </tbody>\n",
       "</table>\n",
       "</div>"
      ],
      "text/plain": [
       "   고객번호     성명       영문명           전화번호                메일주소                주소  \\\n",
       "0  C001    제우스      Zeus  010-1111-2222        zeus@abc.com   서울시 양천구 목동 12-3   \n",
       "1  C002     헤라      Hera  010-2222-3333        hera@bcd.com  서울시 강남구 역삼동 13-4   \n",
       "2  C003   데메테르   Demeter  010-3333-4444  demeter@def.cc.com  서울시 송파구 잠실동 15-5   \n",
       "3  C004  디오니소스  Dionysos  010-4444-5555    dionysos@efg.com  서울시 성북구 성북동 22-1   \n",
       "4  C005    아레스      Ares  010-5555-6666        ares@fgh.com  서울시 강동구 상일동 10-3   \n",
       "\n",
       "          생일     예금잔액      대출잔액     보유금액 그룹코드        등록일  \n",
       "0 1965-02-03  1000000  10000000 -9000000   03 2015-05-01  \n",
       "1 1974-09-23  1500000   9000000 -7500000   03 2016-08-24  \n",
       "2 1978-12-20  2000000   8000000 -6000000   03 2018-06-02  \n",
       "3 1972-05-30  2500000   7000000 -4500000   03 2017-12-23  \n",
       "4 1988-03-09  3000000   6000000 -3000000   02 2015-09-07  "
      ]
     },
     "execution_count": 9,
     "metadata": {},
     "output_type": "execute_result"
    }
   ],
   "source": [
    "고객정보[:5]"
   ]
  },
  {
   "cell_type": "markdown",
   "metadata": {
    "collapsed": true
   },
   "source": [
    "#### read_excel함수의 추가적인 옵션 파라미터\n",
    "\n",
    "- skiprows : skip하고 읽을 행의 갯수\n",
    "- header : 컬럼명 지정 여부\n",
    "- parse_cols : 읽을 컬럼의 범위 지정 ('A:M')"
   ]
  },
  {
   "cell_type": "markdown",
   "metadata": {},
   "source": [
    "---"
   ]
  },
  {
   "cell_type": "markdown",
   "metadata": {},
   "source": [
    "### 1.2 map 함수와 딕셔너리를 이용한 신규 컬럼 추가"
   ]
  },
  {
   "cell_type": "markdown",
   "metadata": {},
   "source": [
    "- map함수는 반복문(for구문 등) 없이 컬럼 관리 가능\n",
    "- map함수에 딕셔너리를 적용하여 컬럼값 일괄 처리\n",
    "- 데이터프레임.컬럼명.map({딕셔너리}) 형태로 사용"
   ]
  },
  {
   "cell_type": "markdown",
   "metadata": {},
   "source": [
    "#### map함수 적용을 위한 딕셔너리 정의\n",
    "- 그룹코드에 따라 고객그룹 컬럼을 신규로 추가\n",
    "- 그룹코드 '01'은 고객그룹에 'A그룹', 그룹코드 '02'는 'B그룹', 그룹코드 '03'은 'C그룹'\n",
    "- 딕셔너리 데이터 타입으로 이를 정의하면 {'01': 'A그룹', '02':'B그룹', '03':'C그룹'}"
   ]
  },
  {
   "cell_type": "code",
   "execution_count": 10,
   "metadata": {
    "collapsed": true
   },
   "outputs": [],
   "source": [
    "딕셔너리 = {'01': 'A그룹', '02':'B그룹', '03':'C그룹'}"
   ]
  },
  {
   "cell_type": "markdown",
   "metadata": {},
   "source": [
    "#### map 함수에 딕셔너리 적용"
   ]
  },
  {
   "cell_type": "code",
   "execution_count": 12,
   "metadata": {},
   "outputs": [],
   "source": [
    "고객정보['그룹명'] = 고객정보.그룹코드.map(딕셔너리)"
   ]
  },
  {
   "cell_type": "code",
   "execution_count": 13,
   "metadata": {},
   "outputs": [
    {
     "data": {
      "text/html": [
       "<div>\n",
       "<style>\n",
       "    .dataframe thead tr:only-child th {\n",
       "        text-align: right;\n",
       "    }\n",
       "\n",
       "    .dataframe thead th {\n",
       "        text-align: left;\n",
       "    }\n",
       "\n",
       "    .dataframe tbody tr th {\n",
       "        vertical-align: top;\n",
       "    }\n",
       "</style>\n",
       "<table border=\"1\" class=\"dataframe\">\n",
       "  <thead>\n",
       "    <tr style=\"text-align: right;\">\n",
       "      <th></th>\n",
       "      <th>고객번호</th>\n",
       "      <th>성명</th>\n",
       "      <th>영문명</th>\n",
       "      <th>전화번호</th>\n",
       "      <th>메일주소</th>\n",
       "      <th>주소</th>\n",
       "      <th>생일</th>\n",
       "      <th>예금잔액</th>\n",
       "      <th>대출잔액</th>\n",
       "      <th>보유금액</th>\n",
       "      <th>그룹코드</th>\n",
       "      <th>등록일</th>\n",
       "      <th>그룹명</th>\n",
       "    </tr>\n",
       "  </thead>\n",
       "  <tbody>\n",
       "    <tr>\n",
       "      <th>0</th>\n",
       "      <td>C001</td>\n",
       "      <td>제우스</td>\n",
       "      <td>Zeus</td>\n",
       "      <td>010-1111-2222</td>\n",
       "      <td>zeus@abc.com</td>\n",
       "      <td>서울시 양천구 목동 12-3</td>\n",
       "      <td>1965-02-03</td>\n",
       "      <td>1000000</td>\n",
       "      <td>10000000</td>\n",
       "      <td>-9000000</td>\n",
       "      <td>03</td>\n",
       "      <td>2015-05-01</td>\n",
       "      <td>C그룹</td>\n",
       "    </tr>\n",
       "    <tr>\n",
       "      <th>1</th>\n",
       "      <td>C002</td>\n",
       "      <td>헤라</td>\n",
       "      <td>Hera</td>\n",
       "      <td>010-2222-3333</td>\n",
       "      <td>hera@bcd.com</td>\n",
       "      <td>서울시 강남구 역삼동 13-4</td>\n",
       "      <td>1974-09-23</td>\n",
       "      <td>1500000</td>\n",
       "      <td>9000000</td>\n",
       "      <td>-7500000</td>\n",
       "      <td>03</td>\n",
       "      <td>2016-08-24</td>\n",
       "      <td>C그룹</td>\n",
       "    </tr>\n",
       "    <tr>\n",
       "      <th>2</th>\n",
       "      <td>C003</td>\n",
       "      <td>데메테르</td>\n",
       "      <td>Demeter</td>\n",
       "      <td>010-3333-4444</td>\n",
       "      <td>demeter@def.cc.com</td>\n",
       "      <td>서울시 송파구 잠실동 15-5</td>\n",
       "      <td>1978-12-20</td>\n",
       "      <td>2000000</td>\n",
       "      <td>8000000</td>\n",
       "      <td>-6000000</td>\n",
       "      <td>03</td>\n",
       "      <td>2018-06-02</td>\n",
       "      <td>C그룹</td>\n",
       "    </tr>\n",
       "    <tr>\n",
       "      <th>3</th>\n",
       "      <td>C004</td>\n",
       "      <td>디오니소스</td>\n",
       "      <td>Dionysos</td>\n",
       "      <td>010-4444-5555</td>\n",
       "      <td>dionysos@efg.com</td>\n",
       "      <td>서울시 성북구 성북동 22-1</td>\n",
       "      <td>1972-05-30</td>\n",
       "      <td>2500000</td>\n",
       "      <td>7000000</td>\n",
       "      <td>-4500000</td>\n",
       "      <td>03</td>\n",
       "      <td>2017-12-23</td>\n",
       "      <td>C그룹</td>\n",
       "    </tr>\n",
       "    <tr>\n",
       "      <th>4</th>\n",
       "      <td>C005</td>\n",
       "      <td>아레스</td>\n",
       "      <td>Ares</td>\n",
       "      <td>010-5555-6666</td>\n",
       "      <td>ares@fgh.com</td>\n",
       "      <td>서울시 강동구 상일동 10-3</td>\n",
       "      <td>1988-03-09</td>\n",
       "      <td>3000000</td>\n",
       "      <td>6000000</td>\n",
       "      <td>-3000000</td>\n",
       "      <td>02</td>\n",
       "      <td>2015-09-07</td>\n",
       "      <td>B그룹</td>\n",
       "    </tr>\n",
       "    <tr>\n",
       "      <th>5</th>\n",
       "      <td>C006</td>\n",
       "      <td>아르테미스</td>\n",
       "      <td>Artemis</td>\n",
       "      <td>010-6666-7777</td>\n",
       "      <td>artemis@ghi.com</td>\n",
       "      <td>서울시 강서구 방화동 29-7</td>\n",
       "      <td>1970-12-01</td>\n",
       "      <td>3500000</td>\n",
       "      <td>5000000</td>\n",
       "      <td>-1500000</td>\n",
       "      <td>02</td>\n",
       "      <td>2016-01-06</td>\n",
       "      <td>B그룹</td>\n",
       "    </tr>\n",
       "    <tr>\n",
       "      <th>6</th>\n",
       "      <td>C007</td>\n",
       "      <td>아테나</td>\n",
       "      <td>Athena</td>\n",
       "      <td>010-7777-8888</td>\n",
       "      <td>athena@hij.com</td>\n",
       "      <td>인천시 남구 도화동 36-9</td>\n",
       "      <td>1990-07-12</td>\n",
       "      <td>4000000</td>\n",
       "      <td>4000000</td>\n",
       "      <td>0</td>\n",
       "      <td>02</td>\n",
       "      <td>2018-05-08</td>\n",
       "      <td>B그룹</td>\n",
       "    </tr>\n",
       "    <tr>\n",
       "      <th>7</th>\n",
       "      <td>C008</td>\n",
       "      <td>아폴론</td>\n",
       "      <td>Apollon</td>\n",
       "      <td>010-8888-9999</td>\n",
       "      <td>apollon@ijk.com</td>\n",
       "      <td>대전시 중구 은행동 34-5</td>\n",
       "      <td>1982-06-12</td>\n",
       "      <td>4500000</td>\n",
       "      <td>3000000</td>\n",
       "      <td>1500000</td>\n",
       "      <td>02</td>\n",
       "      <td>2018-02-24</td>\n",
       "      <td>B그룹</td>\n",
       "    </tr>\n",
       "    <tr>\n",
       "      <th>8</th>\n",
       "      <td>C009</td>\n",
       "      <td>아프로디테</td>\n",
       "      <td>Aphrodite</td>\n",
       "      <td>010-9999-1010</td>\n",
       "      <td>aphrodite@jkl.com</td>\n",
       "      <td>부산시 부산진구 양정동 59-7</td>\n",
       "      <td>1991-04-07</td>\n",
       "      <td>5000000</td>\n",
       "      <td>2000000</td>\n",
       "      <td>3000000</td>\n",
       "      <td>02</td>\n",
       "      <td>2017-11-21</td>\n",
       "      <td>B그룹</td>\n",
       "    </tr>\n",
       "    <tr>\n",
       "      <th>9</th>\n",
       "      <td>C010</td>\n",
       "      <td>포세이돈</td>\n",
       "      <td>Poseidon</td>\n",
       "      <td>010-1010-2020</td>\n",
       "      <td>poseidon@klm.com</td>\n",
       "      <td>대구시 수성구 범어동 78-2</td>\n",
       "      <td>1987-01-18</td>\n",
       "      <td>5500000</td>\n",
       "      <td>1000000</td>\n",
       "      <td>4500000</td>\n",
       "      <td>01</td>\n",
       "      <td>2016-03-11</td>\n",
       "      <td>A그룹</td>\n",
       "    </tr>\n",
       "    <tr>\n",
       "      <th>10</th>\n",
       "      <td>C011</td>\n",
       "      <td>헤르메스</td>\n",
       "      <td>Hermes</td>\n",
       "      <td>010-2020-3030</td>\n",
       "      <td>hermes@lmn.com</td>\n",
       "      <td>광주시 남구 월산동 23-5</td>\n",
       "      <td>1995-09-07</td>\n",
       "      <td>6000000</td>\n",
       "      <td>500000</td>\n",
       "      <td>5500000</td>\n",
       "      <td>01</td>\n",
       "      <td>2015-04-11</td>\n",
       "      <td>A그룹</td>\n",
       "    </tr>\n",
       "    <tr>\n",
       "      <th>11</th>\n",
       "      <td>C012</td>\n",
       "      <td>헤파이스토스</td>\n",
       "      <td>Hephaistos</td>\n",
       "      <td>010-3030-4040</td>\n",
       "      <td>hephaistos@mno.com</td>\n",
       "      <td>제주시 용강동 11-1</td>\n",
       "      <td>1966-08-03</td>\n",
       "      <td>6500000</td>\n",
       "      <td>300000</td>\n",
       "      <td>6200000</td>\n",
       "      <td>01</td>\n",
       "      <td>2016-10-05</td>\n",
       "      <td>A그룹</td>\n",
       "    </tr>\n",
       "  </tbody>\n",
       "</table>\n",
       "</div>"
      ],
      "text/plain": [
       "    고객번호      성명         영문명           전화번호                메일주소  \\\n",
       "0   C001     제우스        Zeus  010-1111-2222        zeus@abc.com   \n",
       "1   C002      헤라        Hera  010-2222-3333        hera@bcd.com   \n",
       "2   C003    데메테르     Demeter  010-3333-4444  demeter@def.cc.com   \n",
       "3   C004   디오니소스    Dionysos  010-4444-5555    dionysos@efg.com   \n",
       "4   C005     아레스        Ares  010-5555-6666        ares@fgh.com   \n",
       "5   C006   아르테미스     Artemis  010-6666-7777     artemis@ghi.com   \n",
       "6   C007     아테나      Athena  010-7777-8888      athena@hij.com   \n",
       "7   C008     아폴론     Apollon  010-8888-9999     apollon@ijk.com   \n",
       "8   C009   아프로디테   Aphrodite  010-9999-1010   aphrodite@jkl.com   \n",
       "9   C010    포세이돈    Poseidon  010-1010-2020    poseidon@klm.com   \n",
       "10  C011    헤르메스      Hermes  010-2020-3030      hermes@lmn.com   \n",
       "11  C012  헤파이스토스  Hephaistos  010-3030-4040  hephaistos@mno.com   \n",
       "\n",
       "                   주소         생일     예금잔액      대출잔액     보유금액 그룹코드        등록일  \\\n",
       "0     서울시 양천구 목동 12-3 1965-02-03  1000000  10000000 -9000000   03 2015-05-01   \n",
       "1    서울시 강남구 역삼동 13-4 1974-09-23  1500000   9000000 -7500000   03 2016-08-24   \n",
       "2    서울시 송파구 잠실동 15-5 1978-12-20  2000000   8000000 -6000000   03 2018-06-02   \n",
       "3    서울시 성북구 성북동 22-1 1972-05-30  2500000   7000000 -4500000   03 2017-12-23   \n",
       "4    서울시 강동구 상일동 10-3 1988-03-09  3000000   6000000 -3000000   02 2015-09-07   \n",
       "5    서울시 강서구 방화동 29-7 1970-12-01  3500000   5000000 -1500000   02 2016-01-06   \n",
       "6     인천시 남구 도화동 36-9 1990-07-12  4000000   4000000        0   02 2018-05-08   \n",
       "7     대전시 중구 은행동 34-5 1982-06-12  4500000   3000000  1500000   02 2018-02-24   \n",
       "8   부산시 부산진구 양정동 59-7 1991-04-07  5000000   2000000  3000000   02 2017-11-21   \n",
       "9    대구시 수성구 범어동 78-2 1987-01-18  5500000   1000000  4500000   01 2016-03-11   \n",
       "10    광주시 남구 월산동 23-5 1995-09-07  6000000    500000  5500000   01 2015-04-11   \n",
       "11       제주시 용강동 11-1 1966-08-03  6500000    300000  6200000   01 2016-10-05   \n",
       "\n",
       "    그룹명  \n",
       "0   C그룹  \n",
       "1   C그룹  \n",
       "2   C그룹  \n",
       "3   C그룹  \n",
       "4   B그룹  \n",
       "5   B그룹  \n",
       "6   B그룹  \n",
       "7   B그룹  \n",
       "8   B그룹  \n",
       "9   A그룹  \n",
       "10  A그룹  \n",
       "11  A그룹  "
      ]
     },
     "execution_count": 13,
     "metadata": {},
     "output_type": "execute_result"
    }
   ],
   "source": [
    "고객정보"
   ]
  },
  {
   "cell_type": "code",
   "execution_count": 16,
   "metadata": {},
   "outputs": [
    {
     "data": {
      "image/jpeg": "[encoded data removed]",
      "text/plain": [
       "<IPython.core.display.Image object>"
      ]
     },
     "execution_count": 16,
     "metadata": {},
     "output_type": "execute_result"
    }
   ],
   "source": [
    "from IPython.display import Image\n",
    "Image('map.JPG')"
   ]
  },
  {
   "cell_type": "markdown",
   "metadata": {},
   "source": [
    "#### map 함수와 딕셔너리를 이용한 신규 컬럼 추가"
   ]
  },
  {
   "cell_type": "code",
   "execution_count": 17,
   "metadata": {
    "collapsed": true
   },
   "outputs": [],
   "source": [
    "고객정보['고객그룹'] = 고객정보.그룹코드.map(딕셔너리)"
   ]
  },
  {
   "cell_type": "code",
   "execution_count": 18,
   "metadata": {},
   "outputs": [
    {
     "data": {
      "text/html": [
       "<div>\n",
       "<style>\n",
       "    .dataframe thead tr:only-child th {\n",
       "        text-align: right;\n",
       "    }\n",
       "\n",
       "    .dataframe thead th {\n",
       "        text-align: left;\n",
       "    }\n",
       "\n",
       "    .dataframe tbody tr th {\n",
       "        vertical-align: top;\n",
       "    }\n",
       "</style>\n",
       "<table border=\"1\" class=\"dataframe\">\n",
       "  <thead>\n",
       "    <tr style=\"text-align: right;\">\n",
       "      <th></th>\n",
       "      <th>고객번호</th>\n",
       "      <th>성명</th>\n",
       "      <th>영문명</th>\n",
       "      <th>전화번호</th>\n",
       "      <th>메일주소</th>\n",
       "      <th>주소</th>\n",
       "      <th>생일</th>\n",
       "      <th>예금잔액</th>\n",
       "      <th>대출잔액</th>\n",
       "      <th>보유금액</th>\n",
       "      <th>그룹코드</th>\n",
       "      <th>등록일</th>\n",
       "      <th>그룹명</th>\n",
       "      <th>고객그룹</th>\n",
       "    </tr>\n",
       "  </thead>\n",
       "  <tbody>\n",
       "    <tr>\n",
       "      <th>0</th>\n",
       "      <td>C001</td>\n",
       "      <td>제우스</td>\n",
       "      <td>Zeus</td>\n",
       "      <td>010-1111-2222</td>\n",
       "      <td>zeus@abc.com</td>\n",
       "      <td>서울시 양천구 목동 12-3</td>\n",
       "      <td>1965-02-03</td>\n",
       "      <td>1000000</td>\n",
       "      <td>10000000</td>\n",
       "      <td>-9000000</td>\n",
       "      <td>03</td>\n",
       "      <td>2015-05-01</td>\n",
       "      <td>C그룹</td>\n",
       "      <td>C그룹</td>\n",
       "    </tr>\n",
       "    <tr>\n",
       "      <th>1</th>\n",
       "      <td>C002</td>\n",
       "      <td>헤라</td>\n",
       "      <td>Hera</td>\n",
       "      <td>010-2222-3333</td>\n",
       "      <td>hera@bcd.com</td>\n",
       "      <td>서울시 강남구 역삼동 13-4</td>\n",
       "      <td>1974-09-23</td>\n",
       "      <td>1500000</td>\n",
       "      <td>9000000</td>\n",
       "      <td>-7500000</td>\n",
       "      <td>03</td>\n",
       "      <td>2016-08-24</td>\n",
       "      <td>C그룹</td>\n",
       "      <td>C그룹</td>\n",
       "    </tr>\n",
       "    <tr>\n",
       "      <th>2</th>\n",
       "      <td>C003</td>\n",
       "      <td>데메테르</td>\n",
       "      <td>Demeter</td>\n",
       "      <td>010-3333-4444</td>\n",
       "      <td>demeter@def.cc.com</td>\n",
       "      <td>서울시 송파구 잠실동 15-5</td>\n",
       "      <td>1978-12-20</td>\n",
       "      <td>2000000</td>\n",
       "      <td>8000000</td>\n",
       "      <td>-6000000</td>\n",
       "      <td>03</td>\n",
       "      <td>2018-06-02</td>\n",
       "      <td>C그룹</td>\n",
       "      <td>C그룹</td>\n",
       "    </tr>\n",
       "    <tr>\n",
       "      <th>3</th>\n",
       "      <td>C004</td>\n",
       "      <td>디오니소스</td>\n",
       "      <td>Dionysos</td>\n",
       "      <td>010-4444-5555</td>\n",
       "      <td>dionysos@efg.com</td>\n",
       "      <td>서울시 성북구 성북동 22-1</td>\n",
       "      <td>1972-05-30</td>\n",
       "      <td>2500000</td>\n",
       "      <td>7000000</td>\n",
       "      <td>-4500000</td>\n",
       "      <td>03</td>\n",
       "      <td>2017-12-23</td>\n",
       "      <td>C그룹</td>\n",
       "      <td>C그룹</td>\n",
       "    </tr>\n",
       "    <tr>\n",
       "      <th>4</th>\n",
       "      <td>C005</td>\n",
       "      <td>아레스</td>\n",
       "      <td>Ares</td>\n",
       "      <td>010-5555-6666</td>\n",
       "      <td>ares@fgh.com</td>\n",
       "      <td>서울시 강동구 상일동 10-3</td>\n",
       "      <td>1988-03-09</td>\n",
       "      <td>3000000</td>\n",
       "      <td>6000000</td>\n",
       "      <td>-3000000</td>\n",
       "      <td>02</td>\n",
       "      <td>2015-09-07</td>\n",
       "      <td>B그룹</td>\n",
       "      <td>B그룹</td>\n",
       "    </tr>\n",
       "    <tr>\n",
       "      <th>5</th>\n",
       "      <td>C006</td>\n",
       "      <td>아르테미스</td>\n",
       "      <td>Artemis</td>\n",
       "      <td>010-6666-7777</td>\n",
       "      <td>artemis@ghi.com</td>\n",
       "      <td>서울시 강서구 방화동 29-7</td>\n",
       "      <td>1970-12-01</td>\n",
       "      <td>3500000</td>\n",
       "      <td>5000000</td>\n",
       "      <td>-1500000</td>\n",
       "      <td>02</td>\n",
       "      <td>2016-01-06</td>\n",
       "      <td>B그룹</td>\n",
       "      <td>B그룹</td>\n",
       "    </tr>\n",
       "    <tr>\n",
       "      <th>6</th>\n",
       "      <td>C007</td>\n",
       "      <td>아테나</td>\n",
       "      <td>Athena</td>\n",
       "      <td>010-7777-8888</td>\n",
       "      <td>athena@hij.com</td>\n",
       "      <td>인천시 남구 도화동 36-9</td>\n",
       "      <td>1990-07-12</td>\n",
       "      <td>4000000</td>\n",
       "      <td>4000000</td>\n",
       "      <td>0</td>\n",
       "      <td>02</td>\n",
       "      <td>2018-05-08</td>\n",
       "      <td>B그룹</td>\n",
       "      <td>B그룹</td>\n",
       "    </tr>\n",
       "    <tr>\n",
       "      <th>7</th>\n",
       "      <td>C008</td>\n",
       "      <td>아폴론</td>\n",
       "      <td>Apollon</td>\n",
       "      <td>010-8888-9999</td>\n",
       "      <td>apollon@ijk.com</td>\n",
       "      <td>대전시 중구 은행동 34-5</td>\n",
       "      <td>1982-06-12</td>\n",
       "      <td>4500000</td>\n",
       "      <td>3000000</td>\n",
       "      <td>1500000</td>\n",
       "      <td>02</td>\n",
       "      <td>2018-02-24</td>\n",
       "      <td>B그룹</td>\n",
       "      <td>B그룹</td>\n",
       "    </tr>\n",
       "    <tr>\n",
       "      <th>8</th>\n",
       "      <td>C009</td>\n",
       "      <td>아프로디테</td>\n",
       "      <td>Aphrodite</td>\n",
       "      <td>010-9999-1010</td>\n",
       "      <td>aphrodite@jkl.com</td>\n",
       "      <td>부산시 부산진구 양정동 59-7</td>\n",
       "      <td>1991-04-07</td>\n",
       "      <td>5000000</td>\n",
       "      <td>2000000</td>\n",
       "      <td>3000000</td>\n",
       "      <td>02</td>\n",
       "      <td>2017-11-21</td>\n",
       "      <td>B그룹</td>\n",
       "      <td>B그룹</td>\n",
       "    </tr>\n",
       "    <tr>\n",
       "      <th>9</th>\n",
       "      <td>C010</td>\n",
       "      <td>포세이돈</td>\n",
       "      <td>Poseidon</td>\n",
       "      <td>010-1010-2020</td>\n",
       "      <td>poseidon@klm.com</td>\n",
       "      <td>대구시 수성구 범어동 78-2</td>\n",
       "      <td>1987-01-18</td>\n",
       "      <td>5500000</td>\n",
       "      <td>1000000</td>\n",
       "      <td>4500000</td>\n",
       "      <td>01</td>\n",
       "      <td>2016-03-11</td>\n",
       "      <td>A그룹</td>\n",
       "      <td>A그룹</td>\n",
       "    </tr>\n",
       "    <tr>\n",
       "      <th>10</th>\n",
       "      <td>C011</td>\n",
       "      <td>헤르메스</td>\n",
       "      <td>Hermes</td>\n",
       "      <td>010-2020-3030</td>\n",
       "      <td>hermes@lmn.com</td>\n",
       "      <td>광주시 남구 월산동 23-5</td>\n",
       "      <td>1995-09-07</td>\n",
       "      <td>6000000</td>\n",
       "      <td>500000</td>\n",
       "      <td>5500000</td>\n",
       "      <td>01</td>\n",
       "      <td>2015-04-11</td>\n",
       "      <td>A그룹</td>\n",
       "      <td>A그룹</td>\n",
       "    </tr>\n",
       "    <tr>\n",
       "      <th>11</th>\n",
       "      <td>C012</td>\n",
       "      <td>헤파이스토스</td>\n",
       "      <td>Hephaistos</td>\n",
       "      <td>010-3030-4040</td>\n",
       "      <td>hephaistos@mno.com</td>\n",
       "      <td>제주시 용강동 11-1</td>\n",
       "      <td>1966-08-03</td>\n",
       "      <td>6500000</td>\n",
       "      <td>300000</td>\n",
       "      <td>6200000</td>\n",
       "      <td>01</td>\n",
       "      <td>2016-10-05</td>\n",
       "      <td>A그룹</td>\n",
       "      <td>A그룹</td>\n",
       "    </tr>\n",
       "  </tbody>\n",
       "</table>\n",
       "</div>"
      ],
      "text/plain": [
       "    고객번호      성명         영문명           전화번호                메일주소  \\\n",
       "0   C001     제우스        Zeus  010-1111-2222        zeus@abc.com   \n",
       "1   C002      헤라        Hera  010-2222-3333        hera@bcd.com   \n",
       "2   C003    데메테르     Demeter  010-3333-4444  demeter@def.cc.com   \n",
       "3   C004   디오니소스    Dionysos  010-4444-5555    dionysos@efg.com   \n",
       "4   C005     아레스        Ares  010-5555-6666        ares@fgh.com   \n",
       "5   C006   아르테미스     Artemis  010-6666-7777     artemis@ghi.com   \n",
       "6   C007     아테나      Athena  010-7777-8888      athena@hij.com   \n",
       "7   C008     아폴론     Apollon  010-8888-9999     apollon@ijk.com   \n",
       "8   C009   아프로디테   Aphrodite  010-9999-1010   aphrodite@jkl.com   \n",
       "9   C010    포세이돈    Poseidon  010-1010-2020    poseidon@klm.com   \n",
       "10  C011    헤르메스      Hermes  010-2020-3030      hermes@lmn.com   \n",
       "11  C012  헤파이스토스  Hephaistos  010-3030-4040  hephaistos@mno.com   \n",
       "\n",
       "                   주소         생일     예금잔액      대출잔액     보유금액 그룹코드        등록일  \\\n",
       "0     서울시 양천구 목동 12-3 1965-02-03  1000000  10000000 -9000000   03 2015-05-01   \n",
       "1    서울시 강남구 역삼동 13-4 1974-09-23  1500000   9000000 -7500000   03 2016-08-24   \n",
       "2    서울시 송파구 잠실동 15-5 1978-12-20  2000000   8000000 -6000000   03 2018-06-02   \n",
       "3    서울시 성북구 성북동 22-1 1972-05-30  2500000   7000000 -4500000   03 2017-12-23   \n",
       "4    서울시 강동구 상일동 10-3 1988-03-09  3000000   6000000 -3000000   02 2015-09-07   \n",
       "5    서울시 강서구 방화동 29-7 1970-12-01  3500000   5000000 -1500000   02 2016-01-06   \n",
       "6     인천시 남구 도화동 36-9 1990-07-12  4000000   4000000        0   02 2018-05-08   \n",
       "7     대전시 중구 은행동 34-5 1982-06-12  4500000   3000000  1500000   02 2018-02-24   \n",
       "8   부산시 부산진구 양정동 59-7 1991-04-07  5000000   2000000  3000000   02 2017-11-21   \n",
       "9    대구시 수성구 범어동 78-2 1987-01-18  5500000   1000000  4500000   01 2016-03-11   \n",
       "10    광주시 남구 월산동 23-5 1995-09-07  6000000    500000  5500000   01 2015-04-11   \n",
       "11       제주시 용강동 11-1 1966-08-03  6500000    300000  6200000   01 2016-10-05   \n",
       "\n",
       "    그룹명 고객그룹  \n",
       "0   C그룹  C그룹  \n",
       "1   C그룹  C그룹  \n",
       "2   C그룹  C그룹  \n",
       "3   C그룹  C그룹  \n",
       "4   B그룹  B그룹  \n",
       "5   B그룹  B그룹  \n",
       "6   B그룹  B그룹  \n",
       "7   B그룹  B그룹  \n",
       "8   B그룹  B그룹  \n",
       "9   A그룹  A그룹  \n",
       "10  A그룹  A그룹  \n",
       "11  A그룹  A그룹  "
      ]
     },
     "execution_count": 18,
     "metadata": {},
     "output_type": "execute_result"
    }
   ],
   "source": [
    "고객정보"
   ]
  },
  {
   "cell_type": "markdown",
   "metadata": {},
   "source": [
    "---"
   ]
  },
  {
   "cell_type": "markdown",
   "metadata": {},
   "source": [
    "### 1.3 컬럼의 데이터 분포\n",
    " - 고객정보의 데이터프레임의 고객그룹과 같이 범주형 데이터의 분포 확인\n",
    " - value_counts() 함수 이용\n",
    " - 데이터프레임명.컬럼명.value_counts() 형태로 사용"
   ]
  },
  {
   "cell_type": "code",
   "execution_count": 20,
   "metadata": {
    "collapsed": true
   },
   "outputs": [],
   "source": [
    "고객그룹분포 = 고객정보.고객그룹.value_counts()"
   ]
  },
  {
   "cell_type": "code",
   "execution_count": 21,
   "metadata": {},
   "outputs": [
    {
     "data": {
      "text/plain": [
       "B그룹    5\n",
       "C그룹    4\n",
       "A그룹    3\n",
       "Name: 고객그룹, dtype: int64"
      ]
     },
     "execution_count": 21,
     "metadata": {},
     "output_type": "execute_result"
    }
   ],
   "source": [
    "고객그룹분포"
   ]
  },
  {
   "cell_type": "markdown",
   "metadata": {},
   "source": [
    "---"
   ]
  },
  {
   "cell_type": "markdown",
   "metadata": {},
   "source": [
    "## 2. map함수와 사용자정의 함수를 이용한 컬럼 관리"
   ]
  },
  {
   "cell_type": "markdown",
   "metadata": {},
   "source": [
    "### 2.1 개인정보 마스킹 처리"
   ]
  },
  {
   "cell_type": "markdown",
   "metadata": {},
   "source": [
    "#### 개인정보 마스킹 처리를 위한 함수 정의\n",
    " - 고객정보인 전화번호 뒷자리 '\\*'로 마스킹 처리 "
   ]
  },
  {
   "cell_type": "code",
   "execution_count": 22,
   "metadata": {
    "collapsed": true
   },
   "outputs": [],
   "source": [
    "def 마스크처리(문자열):    \n",
    "    새문자열 = 문자열.replace(문자열[9:], '****')\n",
    "    return 새문자열"
   ]
  },
  {
   "cell_type": "markdown",
   "metadata": {},
   "source": [
    "#### 함수 테스트"
   ]
  },
  {
   "cell_type": "code",
   "execution_count": 23,
   "metadata": {},
   "outputs": [
    {
     "data": {
      "text/plain": [
       "'010-1234-****'"
      ]
     },
     "execution_count": 23,
     "metadata": {},
     "output_type": "execute_result"
    }
   ],
   "source": [
    "마스크처리('010-1234-5678')"
   ]
  },
  {
   "cell_type": "markdown",
   "metadata": {},
   "source": [
    "#### map 함수 적용"
   ]
  },
  {
   "cell_type": "code",
   "execution_count": 24,
   "metadata": {},
   "outputs": [
    {
     "data": {
      "text/plain": [
       "0     010-1111-****\n",
       "1     010-2222-****\n",
       "2     010-3333-****\n",
       "3     010-4444-****\n",
       "4     010-5555-****\n",
       "5     010-6666-****\n",
       "6     010-7777-****\n",
       "7     010-8888-****\n",
       "8     010-9999-****\n",
       "9     010-1010-****\n",
       "10    010-2020-****\n",
       "11    010-3030-****\n",
       "Name: 전화번호, dtype: object"
      ]
     },
     "execution_count": 24,
     "metadata": {},
     "output_type": "execute_result"
    }
   ],
   "source": [
    "고객정보.전화번호.map(마스크처리)"
   ]
  },
  {
   "cell_type": "markdown",
   "metadata": {},
   "source": [
    "#### 데이터프레임에 반영"
   ]
  },
  {
   "cell_type": "code",
   "execution_count": 25,
   "metadata": {},
   "outputs": [
    {
     "data": {
      "text/html": [
       "<div>\n",
       "<style>\n",
       "    .dataframe thead tr:only-child th {\n",
       "        text-align: right;\n",
       "    }\n",
       "\n",
       "    .dataframe thead th {\n",
       "        text-align: left;\n",
       "    }\n",
       "\n",
       "    .dataframe tbody tr th {\n",
       "        vertical-align: top;\n",
       "    }\n",
       "</style>\n",
       "<table border=\"1\" class=\"dataframe\">\n",
       "  <thead>\n",
       "    <tr style=\"text-align: right;\">\n",
       "      <th></th>\n",
       "      <th>고객번호</th>\n",
       "      <th>성명</th>\n",
       "      <th>영문명</th>\n",
       "      <th>전화번호</th>\n",
       "      <th>메일주소</th>\n",
       "      <th>주소</th>\n",
       "      <th>생일</th>\n",
       "      <th>예금잔액</th>\n",
       "      <th>대출잔액</th>\n",
       "      <th>보유금액</th>\n",
       "      <th>그룹코드</th>\n",
       "      <th>등록일</th>\n",
       "      <th>그룹명</th>\n",
       "      <th>고객그룹</th>\n",
       "      <th>전화번호2</th>\n",
       "    </tr>\n",
       "  </thead>\n",
       "  <tbody>\n",
       "    <tr>\n",
       "      <th>0</th>\n",
       "      <td>C001</td>\n",
       "      <td>제우스</td>\n",
       "      <td>Zeus</td>\n",
       "      <td>010-1111-2222</td>\n",
       "      <td>zeus@abc.com</td>\n",
       "      <td>서울시 양천구 목동 12-3</td>\n",
       "      <td>1965-02-03</td>\n",
       "      <td>1000000</td>\n",
       "      <td>10000000</td>\n",
       "      <td>-9000000</td>\n",
       "      <td>03</td>\n",
       "      <td>2015-05-01</td>\n",
       "      <td>C그룹</td>\n",
       "      <td>C그룹</td>\n",
       "      <td>010-1111-****</td>\n",
       "    </tr>\n",
       "    <tr>\n",
       "      <th>1</th>\n",
       "      <td>C002</td>\n",
       "      <td>헤라</td>\n",
       "      <td>Hera</td>\n",
       "      <td>010-2222-3333</td>\n",
       "      <td>hera@bcd.com</td>\n",
       "      <td>서울시 강남구 역삼동 13-4</td>\n",
       "      <td>1974-09-23</td>\n",
       "      <td>1500000</td>\n",
       "      <td>9000000</td>\n",
       "      <td>-7500000</td>\n",
       "      <td>03</td>\n",
       "      <td>2016-08-24</td>\n",
       "      <td>C그룹</td>\n",
       "      <td>C그룹</td>\n",
       "      <td>010-2222-****</td>\n",
       "    </tr>\n",
       "    <tr>\n",
       "      <th>2</th>\n",
       "      <td>C003</td>\n",
       "      <td>데메테르</td>\n",
       "      <td>Demeter</td>\n",
       "      <td>010-3333-4444</td>\n",
       "      <td>demeter@def.cc.com</td>\n",
       "      <td>서울시 송파구 잠실동 15-5</td>\n",
       "      <td>1978-12-20</td>\n",
       "      <td>2000000</td>\n",
       "      <td>8000000</td>\n",
       "      <td>-6000000</td>\n",
       "      <td>03</td>\n",
       "      <td>2018-06-02</td>\n",
       "      <td>C그룹</td>\n",
       "      <td>C그룹</td>\n",
       "      <td>010-3333-****</td>\n",
       "    </tr>\n",
       "  </tbody>\n",
       "</table>\n",
       "</div>"
      ],
      "text/plain": [
       "   고객번호    성명      영문명           전화번호                메일주소                주소  \\\n",
       "0  C001   제우스     Zeus  010-1111-2222        zeus@abc.com   서울시 양천구 목동 12-3   \n",
       "1  C002    헤라     Hera  010-2222-3333        hera@bcd.com  서울시 강남구 역삼동 13-4   \n",
       "2  C003  데메테르  Demeter  010-3333-4444  demeter@def.cc.com  서울시 송파구 잠실동 15-5   \n",
       "\n",
       "          생일     예금잔액      대출잔액     보유금액 그룹코드        등록일  그룹명 고객그룹  \\\n",
       "0 1965-02-03  1000000  10000000 -9000000   03 2015-05-01  C그룹  C그룹   \n",
       "1 1974-09-23  1500000   9000000 -7500000   03 2016-08-24  C그룹  C그룹   \n",
       "2 1978-12-20  2000000   8000000 -6000000   03 2018-06-02  C그룹  C그룹   \n",
       "\n",
       "           전화번호2  \n",
       "0  010-1111-****  \n",
       "1  010-2222-****  \n",
       "2  010-3333-****  "
      ]
     },
     "execution_count": 25,
     "metadata": {},
     "output_type": "execute_result"
    }
   ],
   "source": [
    "고객정보['전화번호2'] = 고객정보.전화번호.map(마스크처리)\n",
    "고객정보[:3]"
   ]
  },
  {
   "cell_type": "markdown",
   "metadata": {
    "collapsed": true
   },
   "source": [
    "---"
   ]
  },
  {
   "cell_type": "markdown",
   "metadata": {},
   "source": [
    "### 2.2 split함수를 이용한 주소 분할"
   ]
  },
  {
   "cell_type": "markdown",
   "metadata": {},
   "source": [
    "#### 문자열 분할을 위한 split() 함수\n",
    "- 특정 문자열을 기준으로 문자열을 분리하여 리스트로 변환\n",
    "- 문자열.spilt() 형태로 사용\n",
    "- split()함수의 파라미터는 분할의 기준이 되는 문자열\n",
    "- 파라미터를 주지 않으면 공백 문자를 기준으로 분리"
   ]
  },
  {
   "cell_type": "code",
   "execution_count": 26,
   "metadata": {},
   "outputs": [
    {
     "data": {
      "text/plain": [
       "['서울시', '강동구', '상일동']"
      ]
     },
     "execution_count": 26,
     "metadata": {},
     "output_type": "execute_result"
    }
   ],
   "source": [
    "문자열 = '서울시 강동구 상일동'\n",
    "분리문자열 = 문자열.split()\n",
    "분리문자열"
   ]
  },
  {
   "cell_type": "code",
   "execution_count": 27,
   "metadata": {},
   "outputs": [
    {
     "data": {
      "text/plain": [
       "'서울시'"
      ]
     },
     "execution_count": 27,
     "metadata": {},
     "output_type": "execute_result"
    }
   ],
   "source": [
    "분리문자열[0]"
   ]
  },
  {
   "cell_type": "code",
   "execution_count": 28,
   "metadata": {},
   "outputs": [
    {
     "data": {
      "text/plain": [
       "['zeus', 'abc.com']"
      ]
     },
     "execution_count": 28,
     "metadata": {},
     "output_type": "execute_result"
    }
   ],
   "source": [
    "메일주소 = 'zeus@abc.com'\n",
    "분할메일주소 = 메일주소.split('@')\n",
    "분할메일주소"
   ]
  },
  {
   "cell_type": "code",
   "execution_count": 29,
   "metadata": {},
   "outputs": [
    {
     "data": {
      "text/plain": [
       "'abc.com'"
      ]
     },
     "execution_count": 29,
     "metadata": {},
     "output_type": "execute_result"
    }
   ],
   "source": [
    "분할메일주소[1]"
   ]
  },
  {
   "cell_type": "markdown",
   "metadata": {},
   "source": [
    "#### 사용자 정의 함수 정의\n",
    "- 주소를 분할하여 거주도시 컬럼 추가"
   ]
  },
  {
   "cell_type": "code",
   "execution_count": 30,
   "metadata": {
    "collapsed": true
   },
   "outputs": [],
   "source": [
    "def 거주도시(주소):\n",
    "    도시 = 주소.split()[0]\n",
    "    return 도시"
   ]
  },
  {
   "cell_type": "code",
   "execution_count": 31,
   "metadata": {},
   "outputs": [
    {
     "data": {
      "text/plain": [
       "'서울시'"
      ]
     },
     "execution_count": 31,
     "metadata": {},
     "output_type": "execute_result"
    }
   ],
   "source": [
    "거주도시('서울시 강동구 상일동')"
   ]
  },
  {
   "cell_type": "markdown",
   "metadata": {},
   "source": [
    "#### map 함수를 이용한 주소분할 및 신규 컬럼 추가"
   ]
  },
  {
   "cell_type": "code",
   "execution_count": 32,
   "metadata": {
    "scrolled": true
   },
   "outputs": [
    {
     "data": {
      "text/plain": [
       "0     서울시\n",
       "1     서울시\n",
       "2     서울시\n",
       "3     서울시\n",
       "4     서울시\n",
       "5     서울시\n",
       "6     인천시\n",
       "7     대전시\n",
       "8     부산시\n",
       "9     대구시\n",
       "10    광주시\n",
       "11    제주시\n",
       "Name: 주소, dtype: object"
      ]
     },
     "execution_count": 32,
     "metadata": {},
     "output_type": "execute_result"
    }
   ],
   "source": [
    "고객정보.주소.map(거주도시)"
   ]
  },
  {
   "cell_type": "code",
   "execution_count": 33,
   "metadata": {
    "collapsed": true
   },
   "outputs": [],
   "source": [
    "고객정보['거주도시'] = 고객정보.주소.map(거주도시)"
   ]
  },
  {
   "cell_type": "code",
   "execution_count": 35,
   "metadata": {},
   "outputs": [
    {
     "data": {
      "text/html": [
       "<div>\n",
       "<style>\n",
       "    .dataframe thead tr:only-child th {\n",
       "        text-align: right;\n",
       "    }\n",
       "\n",
       "    .dataframe thead th {\n",
       "        text-align: left;\n",
       "    }\n",
       "\n",
       "    .dataframe tbody tr th {\n",
       "        vertical-align: top;\n",
       "    }\n",
       "</style>\n",
       "<table border=\"1\" class=\"dataframe\">\n",
       "  <thead>\n",
       "    <tr style=\"text-align: right;\">\n",
       "      <th></th>\n",
       "      <th>고객번호</th>\n",
       "      <th>성명</th>\n",
       "      <th>영문명</th>\n",
       "      <th>전화번호</th>\n",
       "      <th>메일주소</th>\n",
       "      <th>주소</th>\n",
       "      <th>생일</th>\n",
       "      <th>예금잔액</th>\n",
       "      <th>대출잔액</th>\n",
       "      <th>보유금액</th>\n",
       "      <th>그룹코드</th>\n",
       "      <th>등록일</th>\n",
       "      <th>그룹명</th>\n",
       "      <th>고객그룹</th>\n",
       "      <th>전화번호2</th>\n",
       "      <th>거주도시</th>\n",
       "    </tr>\n",
       "  </thead>\n",
       "  <tbody>\n",
       "    <tr>\n",
       "      <th>0</th>\n",
       "      <td>C001</td>\n",
       "      <td>제우스</td>\n",
       "      <td>Zeus</td>\n",
       "      <td>010-1111-2222</td>\n",
       "      <td>zeus@abc.com</td>\n",
       "      <td>서울시 양천구 목동 12-3</td>\n",
       "      <td>1965-02-03</td>\n",
       "      <td>1000000</td>\n",
       "      <td>10000000</td>\n",
       "      <td>-9000000</td>\n",
       "      <td>03</td>\n",
       "      <td>2015-05-01</td>\n",
       "      <td>C그룹</td>\n",
       "      <td>C그룹</td>\n",
       "      <td>010-1111-****</td>\n",
       "      <td>서울시</td>\n",
       "    </tr>\n",
       "    <tr>\n",
       "      <th>1</th>\n",
       "      <td>C002</td>\n",
       "      <td>헤라</td>\n",
       "      <td>Hera</td>\n",
       "      <td>010-2222-3333</td>\n",
       "      <td>hera@bcd.com</td>\n",
       "      <td>서울시 강남구 역삼동 13-4</td>\n",
       "      <td>1974-09-23</td>\n",
       "      <td>1500000</td>\n",
       "      <td>9000000</td>\n",
       "      <td>-7500000</td>\n",
       "      <td>03</td>\n",
       "      <td>2016-08-24</td>\n",
       "      <td>C그룹</td>\n",
       "      <td>C그룹</td>\n",
       "      <td>010-2222-****</td>\n",
       "      <td>서울시</td>\n",
       "    </tr>\n",
       "    <tr>\n",
       "      <th>2</th>\n",
       "      <td>C003</td>\n",
       "      <td>데메테르</td>\n",
       "      <td>Demeter</td>\n",
       "      <td>010-3333-4444</td>\n",
       "      <td>demeter@def.cc.com</td>\n",
       "      <td>서울시 송파구 잠실동 15-5</td>\n",
       "      <td>1978-12-20</td>\n",
       "      <td>2000000</td>\n",
       "      <td>8000000</td>\n",
       "      <td>-6000000</td>\n",
       "      <td>03</td>\n",
       "      <td>2018-06-02</td>\n",
       "      <td>C그룹</td>\n",
       "      <td>C그룹</td>\n",
       "      <td>010-3333-****</td>\n",
       "      <td>서울시</td>\n",
       "    </tr>\n",
       "    <tr>\n",
       "      <th>3</th>\n",
       "      <td>C004</td>\n",
       "      <td>디오니소스</td>\n",
       "      <td>Dionysos</td>\n",
       "      <td>010-4444-5555</td>\n",
       "      <td>dionysos@efg.com</td>\n",
       "      <td>서울시 성북구 성북동 22-1</td>\n",
       "      <td>1972-05-30</td>\n",
       "      <td>2500000</td>\n",
       "      <td>7000000</td>\n",
       "      <td>-4500000</td>\n",
       "      <td>03</td>\n",
       "      <td>2017-12-23</td>\n",
       "      <td>C그룹</td>\n",
       "      <td>C그룹</td>\n",
       "      <td>010-4444-****</td>\n",
       "      <td>서울시</td>\n",
       "    </tr>\n",
       "    <tr>\n",
       "      <th>4</th>\n",
       "      <td>C005</td>\n",
       "      <td>아레스</td>\n",
       "      <td>Ares</td>\n",
       "      <td>010-5555-6666</td>\n",
       "      <td>ares@fgh.com</td>\n",
       "      <td>서울시 강동구 상일동 10-3</td>\n",
       "      <td>1988-03-09</td>\n",
       "      <td>3000000</td>\n",
       "      <td>6000000</td>\n",
       "      <td>-3000000</td>\n",
       "      <td>02</td>\n",
       "      <td>2015-09-07</td>\n",
       "      <td>B그룹</td>\n",
       "      <td>B그룹</td>\n",
       "      <td>010-5555-****</td>\n",
       "      <td>서울시</td>\n",
       "    </tr>\n",
       "    <tr>\n",
       "      <th>5</th>\n",
       "      <td>C006</td>\n",
       "      <td>아르테미스</td>\n",
       "      <td>Artemis</td>\n",
       "      <td>010-6666-7777</td>\n",
       "      <td>artemis@ghi.com</td>\n",
       "      <td>서울시 강서구 방화동 29-7</td>\n",
       "      <td>1970-12-01</td>\n",
       "      <td>3500000</td>\n",
       "      <td>5000000</td>\n",
       "      <td>-1500000</td>\n",
       "      <td>02</td>\n",
       "      <td>2016-01-06</td>\n",
       "      <td>B그룹</td>\n",
       "      <td>B그룹</td>\n",
       "      <td>010-6666-****</td>\n",
       "      <td>서울시</td>\n",
       "    </tr>\n",
       "    <tr>\n",
       "      <th>6</th>\n",
       "      <td>C007</td>\n",
       "      <td>아테나</td>\n",
       "      <td>Athena</td>\n",
       "      <td>010-7777-8888</td>\n",
       "      <td>athena@hij.com</td>\n",
       "      <td>인천시 남구 도화동 36-9</td>\n",
       "      <td>1990-07-12</td>\n",
       "      <td>4000000</td>\n",
       "      <td>4000000</td>\n",
       "      <td>0</td>\n",
       "      <td>02</td>\n",
       "      <td>2018-05-08</td>\n",
       "      <td>B그룹</td>\n",
       "      <td>B그룹</td>\n",
       "      <td>010-7777-****</td>\n",
       "      <td>인천시</td>\n",
       "    </tr>\n",
       "    <tr>\n",
       "      <th>7</th>\n",
       "      <td>C008</td>\n",
       "      <td>아폴론</td>\n",
       "      <td>Apollon</td>\n",
       "      <td>010-8888-9999</td>\n",
       "      <td>apollon@ijk.com</td>\n",
       "      <td>대전시 중구 은행동 34-5</td>\n",
       "      <td>1982-06-12</td>\n",
       "      <td>4500000</td>\n",
       "      <td>3000000</td>\n",
       "      <td>1500000</td>\n",
       "      <td>02</td>\n",
       "      <td>2018-02-24</td>\n",
       "      <td>B그룹</td>\n",
       "      <td>B그룹</td>\n",
       "      <td>010-8888-****</td>\n",
       "      <td>대전시</td>\n",
       "    </tr>\n",
       "    <tr>\n",
       "      <th>8</th>\n",
       "      <td>C009</td>\n",
       "      <td>아프로디테</td>\n",
       "      <td>Aphrodite</td>\n",
       "      <td>010-9999-1010</td>\n",
       "      <td>aphrodite@jkl.com</td>\n",
       "      <td>부산시 부산진구 양정동 59-7</td>\n",
       "      <td>1991-04-07</td>\n",
       "      <td>5000000</td>\n",
       "      <td>2000000</td>\n",
       "      <td>3000000</td>\n",
       "      <td>02</td>\n",
       "      <td>2017-11-21</td>\n",
       "      <td>B그룹</td>\n",
       "      <td>B그룹</td>\n",
       "      <td>010-9999-****</td>\n",
       "      <td>부산시</td>\n",
       "    </tr>\n",
       "    <tr>\n",
       "      <th>9</th>\n",
       "      <td>C010</td>\n",
       "      <td>포세이돈</td>\n",
       "      <td>Poseidon</td>\n",
       "      <td>010-1010-2020</td>\n",
       "      <td>poseidon@klm.com</td>\n",
       "      <td>대구시 수성구 범어동 78-2</td>\n",
       "      <td>1987-01-18</td>\n",
       "      <td>5500000</td>\n",
       "      <td>1000000</td>\n",
       "      <td>4500000</td>\n",
       "      <td>01</td>\n",
       "      <td>2016-03-11</td>\n",
       "      <td>A그룹</td>\n",
       "      <td>A그룹</td>\n",
       "      <td>010-1010-****</td>\n",
       "      <td>대구시</td>\n",
       "    </tr>\n",
       "    <tr>\n",
       "      <th>10</th>\n",
       "      <td>C011</td>\n",
       "      <td>헤르메스</td>\n",
       "      <td>Hermes</td>\n",
       "      <td>010-2020-3030</td>\n",
       "      <td>hermes@lmn.com</td>\n",
       "      <td>광주시 남구 월산동 23-5</td>\n",
       "      <td>1995-09-07</td>\n",
       "      <td>6000000</td>\n",
       "      <td>500000</td>\n",
       "      <td>5500000</td>\n",
       "      <td>01</td>\n",
       "      <td>2015-04-11</td>\n",
       "      <td>A그룹</td>\n",
       "      <td>A그룹</td>\n",
       "      <td>010-2020-****</td>\n",
       "      <td>광주시</td>\n",
       "    </tr>\n",
       "    <tr>\n",
       "      <th>11</th>\n",
       "      <td>C012</td>\n",
       "      <td>헤파이스토스</td>\n",
       "      <td>Hephaistos</td>\n",
       "      <td>010-3030-4040</td>\n",
       "      <td>hephaistos@mno.com</td>\n",
       "      <td>제주시 용강동 11-1</td>\n",
       "      <td>1966-08-03</td>\n",
       "      <td>6500000</td>\n",
       "      <td>300000</td>\n",
       "      <td>6200000</td>\n",
       "      <td>01</td>\n",
       "      <td>2016-10-05</td>\n",
       "      <td>A그룹</td>\n",
       "      <td>A그룹</td>\n",
       "      <td>010-3030-****</td>\n",
       "      <td>제주시</td>\n",
       "    </tr>\n",
       "  </tbody>\n",
       "</table>\n",
       "</div>"
      ],
      "text/plain": [
       "    고객번호      성명         영문명           전화번호                메일주소  \\\n",
       "0   C001     제우스        Zeus  010-1111-2222        zeus@abc.com   \n",
       "1   C002      헤라        Hera  010-2222-3333        hera@bcd.com   \n",
       "2   C003    데메테르     Demeter  010-3333-4444  demeter@def.cc.com   \n",
       "3   C004   디오니소스    Dionysos  010-4444-5555    dionysos@efg.com   \n",
       "4   C005     아레스        Ares  010-5555-6666        ares@fgh.com   \n",
       "5   C006   아르테미스     Artemis  010-6666-7777     artemis@ghi.com   \n",
       "6   C007     아테나      Athena  010-7777-8888      athena@hij.com   \n",
       "7   C008     아폴론     Apollon  010-8888-9999     apollon@ijk.com   \n",
       "8   C009   아프로디테   Aphrodite  010-9999-1010   aphrodite@jkl.com   \n",
       "9   C010    포세이돈    Poseidon  010-1010-2020    poseidon@klm.com   \n",
       "10  C011    헤르메스      Hermes  010-2020-3030      hermes@lmn.com   \n",
       "11  C012  헤파이스토스  Hephaistos  010-3030-4040  hephaistos@mno.com   \n",
       "\n",
       "                   주소         생일     예금잔액      대출잔액     보유금액 그룹코드        등록일  \\\n",
       "0     서울시 양천구 목동 12-3 1965-02-03  1000000  10000000 -9000000   03 2015-05-01   \n",
       "1    서울시 강남구 역삼동 13-4 1974-09-23  1500000   9000000 -7500000   03 2016-08-24   \n",
       "2    서울시 송파구 잠실동 15-5 1978-12-20  2000000   8000000 -6000000   03 2018-06-02   \n",
       "3    서울시 성북구 성북동 22-1 1972-05-30  2500000   7000000 -4500000   03 2017-12-23   \n",
       "4    서울시 강동구 상일동 10-3 1988-03-09  3000000   6000000 -3000000   02 2015-09-07   \n",
       "5    서울시 강서구 방화동 29-7 1970-12-01  3500000   5000000 -1500000   02 2016-01-06   \n",
       "6     인천시 남구 도화동 36-9 1990-07-12  4000000   4000000        0   02 2018-05-08   \n",
       "7     대전시 중구 은행동 34-5 1982-06-12  4500000   3000000  1500000   02 2018-02-24   \n",
       "8   부산시 부산진구 양정동 59-7 1991-04-07  5000000   2000000  3000000   02 2017-11-21   \n",
       "9    대구시 수성구 범어동 78-2 1987-01-18  5500000   1000000  4500000   01 2016-03-11   \n",
       "10    광주시 남구 월산동 23-5 1995-09-07  6000000    500000  5500000   01 2015-04-11   \n",
       "11       제주시 용강동 11-1 1966-08-03  6500000    300000  6200000   01 2016-10-05   \n",
       "\n",
       "    그룹명 고객그룹          전화번호2 거주도시  \n",
       "0   C그룹  C그룹  010-1111-****  서울시  \n",
       "1   C그룹  C그룹  010-2222-****  서울시  \n",
       "2   C그룹  C그룹  010-3333-****  서울시  \n",
       "3   C그룹  C그룹  010-4444-****  서울시  \n",
       "4   B그룹  B그룹  010-5555-****  서울시  \n",
       "5   B그룹  B그룹  010-6666-****  서울시  \n",
       "6   B그룹  B그룹  010-7777-****  인천시  \n",
       "7   B그룹  B그룹  010-8888-****  대전시  \n",
       "8   B그룹  B그룹  010-9999-****  부산시  \n",
       "9   A그룹  A그룹  010-1010-****  대구시  \n",
       "10  A그룹  A그룹  010-2020-****  광주시  \n",
       "11  A그룹  A그룹  010-3030-****  제주시  "
      ]
     },
     "execution_count": 35,
     "metadata": {},
     "output_type": "execute_result"
    }
   ],
   "source": [
    "고객정보"
   ]
  },
  {
   "cell_type": "markdown",
   "metadata": {},
   "source": [
    "#### 거주 도시별 고객 분포"
   ]
  },
  {
   "cell_type": "code",
   "execution_count": 36,
   "metadata": {},
   "outputs": [
    {
     "data": {
      "text/plain": [
       "서울시    6\n",
       "대구시    1\n",
       "인천시    1\n",
       "제주시    1\n",
       "광주시    1\n",
       "부산시    1\n",
       "대전시    1\n",
       "Name: 거주도시, dtype: int64"
      ]
     },
     "execution_count": 36,
     "metadata": {},
     "output_type": "execute_result"
    }
   ],
   "source": [
    "고객정보.거주도시.value_counts()"
   ]
  },
  {
   "cell_type": "markdown",
   "metadata": {},
   "source": [
    "---"
   ]
  },
  {
   "cell_type": "markdown",
   "metadata": {
    "collapsed": true
   },
   "source": [
    "### 2.3 lambda 함수"
   ]
  },
  {
   "cell_type": "markdown",
   "metadata": {},
   "source": [
    "#### lambda 함수의 개요"
   ]
  },
  {
   "cell_type": "markdown",
   "metadata": {
    "collapsed": true
   },
   "source": [
    "- 함수의 일종으로 함수명 없이 사용하는 간단한 함수\n",
    "- lambda 파라미터: 함수식 의 형태로 사용\n",
    "- 별도의 return 구문이 없이 사용"
   ]
  },
  {
   "cell_type": "code",
   "execution_count": 37,
   "metadata": {},
   "outputs": [
    {
     "name": "stdout",
     "output_type": "stream",
     "text": [
      "40\n"
     ]
    }
   ],
   "source": [
    "람다함수 = lambda x: x * 10\n",
    "print(람다함수(4))"
   ]
  },
  {
   "cell_type": "code",
   "execution_count": 38,
   "metadata": {
    "collapsed": true
   },
   "outputs": [],
   "source": [
    "def 람다함수(x):\n",
    "    y = x *10\n",
    "    return y"
   ]
  },
  {
   "cell_type": "code",
   "execution_count": 39,
   "metadata": {},
   "outputs": [
    {
     "name": "stdout",
     "output_type": "stream",
     "text": [
      "40\n"
     ]
    }
   ],
   "source": [
    "람다함수2 = lambda x, y: x * y\n",
    "print(람다함수2(5, 8))"
   ]
  },
  {
   "cell_type": "markdown",
   "metadata": {},
   "source": [
    "#### lambda함수를 이용한 메일주소 분할"
   ]
  },
  {
   "cell_type": "code",
   "execution_count": 40,
   "metadata": {},
   "outputs": [
    {
     "data": {
      "text/plain": [
       "0        abc.com\n",
       "1        bcd.com\n",
       "2     def.cc.com\n",
       "3        efg.com\n",
       "4        fgh.com\n",
       "5        ghi.com\n",
       "6        hij.com\n",
       "7        ijk.com\n",
       "8        jkl.com\n",
       "9        klm.com\n",
       "10       lmn.com\n",
       "11       mno.com\n",
       "Name: 메일주소, dtype: object"
      ]
     },
     "execution_count": 40,
     "metadata": {},
     "output_type": "execute_result"
    }
   ],
   "source": [
    "고객정보.메일주소.map(lambda x: x.split('@')[1])"
   ]
  },
  {
   "cell_type": "code",
   "execution_count": 41,
   "metadata": {
    "collapsed": true
   },
   "outputs": [],
   "source": [
    "고객정보['메일도메인'] = 고객정보.메일주소.map(lambda x: x.split('@')[1])"
   ]
  },
  {
   "cell_type": "code",
   "execution_count": null,
   "metadata": {},
   "outputs": [],
   "source": [
    "고객정보[:5]"
   ]
  },
  {
   "cell_type": "code",
   "execution_count": null,
   "metadata": {
    "collapsed": true
   },
   "outputs": [],
   "source": []
  }
 ],
 "metadata": {
  "kernelspec": {
   "display_name": "Python 3",
   "language": "python",
   "name": "python3"
  },
  "language_info": {
   "codemirror_mode": {
    "name": "ipython",
    "version": 3
   },
   "file_extension": ".py",
   "mimetype": "text/x-python",
   "name": "python",
   "nbconvert_exporter": "python",
   "pygments_lexer": "ipython3",
   "version": "3.6.1"
  }
 },
 "nbformat": 4,
 "nbformat_minor": 1
}
